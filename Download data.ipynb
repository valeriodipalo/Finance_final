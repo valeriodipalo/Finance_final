{
 "cells": [
  {
   "cell_type": "markdown",
   "id": "16cc5dac",
   "metadata": {
    "pycharm": {
     "name": "#%% md\n"
    }
   },
   "source": [
    "# Collecting data"
   ]
  },
  {
   "cell_type": "markdown",
   "id": "7f5b5f22",
   "metadata": {
    "pycharm": {
     "name": "#%% md\n"
    }
   },
   "source": [
    "# Table of contents\n",
    "   [Introduction](#introduction)\n",
    "1. [Collect ESG Data from Rifinitiv through Eikon API](#esg)\n",
    "2. [Collect data about S&P500 stocks](#stocks)\n",
    "3. [Collecting other market data](#market)\n",
    "4. [Scraping Google trends for ESG terms](#trends_esg)\n",
    "5. [Scraping Google trends for company names](#trends_c)\n",
    "6. [Scraping data from newspaper.com](#news)"
   ]
  },
  {
   "cell_type": "markdown",
   "id": "8e79b9a8",
   "metadata": {
    "pycharm": {
     "name": "#%% md\n"
    }
   },
   "source": [
    "## Introduction<a name=\"introduction\"></a>"
   ]
  },
  {
   "cell_type": "markdown",
   "id": "b00ebc7b",
   "metadata": {
    "pycharm": {
     "name": "#%% md\n"
    }
   },
   "source": [
    "### Sources<a name=\"sources\"></a>\n",
    "\n",
    "Environmental, Social and Governance (ESG) Scores from Refinitiv [click here](https://www.refinitiv.com/content/dam/marketing/en_us/documents/methodology/refinitiv-esg-scores-methodology.pdf)\n",
    "\n",
    "Eikon API [click here](https://developers.refinitiv.com/en/api-catalog/eikon/eikon-data-api/quick-start)\n",
    "\n",
    "To see video tutorial on Eikon [click here](https://developers.refinitiv.com/en/api-catalog/eikon/eikon-data-api/tutorials)"
   ]
  },
  {
   "cell_type": "markdown",
   "id": "516b3c30",
   "metadata": {
    "pycharm": {
     "name": "#%% md\n"
    }
   },
   "source": [
    "### Libraries<a name=\"libraries\"></a>"
   ]
  },
  {
   "cell_type": "code",
   "execution_count": 27,
   "id": "d762177e",
   "metadata": {
    "pycharm": {
     "name": "#%%\n"
    }
   },
   "outputs": [],
   "source": [
    "# Imports\n",
    "# General\n",
    "import pandas as pd\n",
    "import numpy as np\n",
    "import matplotlib.pyplot as plt\n",
    "from tqdm import tqdm\n",
    "import time\n",
    "import os\n",
    "from datetime import datetime, timedelta\n",
    "import random\n",
    "# Retrieve ESG scores\n",
    "# pip install eikon\n",
    "import eikon as ek\n",
    "import re\n",
    "# Retrieve S&P500 \n",
    "import requests\n",
    "from bs4 import BeautifulSoup\n",
    "import yfinance as yf\n",
    "# Scraping\n",
    "from selenium import webdriver\n",
    "from webdriver_manager.chrome import ChromeDriverManager\n",
    "from selenium.webdriver.common.by import By\n",
    "from selenium.webdriver.chrome.options import Options\n",
    "\n"
   ]
  },
  {
   "cell_type": "markdown",
   "id": "867fd8c7",
   "metadata": {
    "pycharm": {
     "name": "#%% md\n"
    }
   },
   "source": [
    "## 1. Collect ESG Data from Rifinitiv through Eikon API<a name=\"esg\"></a>"
   ]
  },
  {
   "cell_type": "code",
   "execution_count": 473,
   "id": "7f00e5e5",
   "metadata": {
    "pycharm": {
     "name": "#%%\n"
    }
   },
   "outputs": [],
   "source": [
    "# Setting the key\n",
    "ek.set_app_key('07d32c81ce424f189172873fec3c1d3b3ea538de')"
   ]
  },
  {
   "cell_type": "code",
   "execution_count": 5,
   "id": "cc30ae7e",
   "metadata": {
    "pycharm": {
     "name": "#%%\n"
    }
   },
   "outputs": [],
   "source": [
    "# Retrieve data\n",
    "# df, err = ek.get_data(\"SCREEN(U(IN(Equity(active,public,primary))/*UNV:Public*/), IN(TR.RegCountryCode,\"\"US\"\"), TR.TRESGScore(Period=FY0)>0, CURN=USD)\",\n",
    "#                       [\"TR.CUSIP\",\"TR.TickerSymbol\",\"TR.CommonName\",\"TR.RegistrationCountry\",\"TR.TRESGScore.Date\",\"TR.TRESGScore\",\"TR.TRESGScoreGrade\",\n",
    "#                        \"TR.EnvironmentPillarScore\", \"TR.SocialPillarScore\", \"TR.GovernancePillarScore\",\n",
    "#                        \"TR.EnvironmentPillarScoreGrade\", \"TR.SocialPillarScoreGrade\", \"TR.GovernancePillarScoreGrade\"],\n",
    "#                       {'SDate':'0', 'EDate':'-15','Period':'FY0','Frq':'FY'})"
   ]
  },
  {
   "cell_type": "code",
   "execution_count": 8,
   "id": "055a5dd2",
   "metadata": {
    "pycharm": {
     "name": "#%%\n"
    }
   },
   "outputs": [],
   "source": [
    "# Set tickers for all rows\n",
    "\n",
    "# ins = list(df['Instrument'].unique())\n",
    "# for i in ins:\n",
    "#     tempo = df[df['Instrument'] == i]\n",
    "#     df['Ticker Symbol'][df['Instrument'] == i] = tempo['Ticker Symbol'].iloc[0]"
   ]
  },
  {
   "cell_type": "code",
   "execution_count": 9,
   "id": "d4c6ad82",
   "metadata": {
    "pycharm": {
     "name": "#%%\n"
    }
   },
   "outputs": [],
   "source": [
    "# Set CUSIP for all rows\n",
    "\n",
    "# for i in ins:\n",
    "#     tempo = df[df['Instrument'] == i]\n",
    "#     df['CUSIP'][df['Instrument'] == i] = tempo['CUSIP'].iloc[0]"
   ]
  },
  {
   "cell_type": "code",
   "execution_count": 10,
   "id": "5772c59f",
   "metadata": {
    "pycharm": {
     "name": "#%%\n"
    }
   },
   "outputs": [],
   "source": [
    "# Set Company Name for all rows\n",
    "\n",
    "# for i in ins:\n",
    "#     tempo = df[df['Instrument'] == i]\n",
    "#     df['Company Common Name'][df['Instrument'] == i] = tempo['Company Common Name'].iloc[0]"
   ]
  },
  {
   "cell_type": "code",
   "execution_count": 11,
   "id": "c5a10a63",
   "metadata": {
    "pycharm": {
     "name": "#%%\n"
    }
   },
   "outputs": [],
   "source": [
    "# Set Country of Incorporation for all rows\n",
    "\n",
    "# for i in ins:\n",
    "#     tempo = df[df['Instrument'] == i]\n",
    "#     df['Country of Incorporation'][df['Instrument'] == i] = tempo['Country of Incorporation'].iloc[0]"
   ]
  },
  {
   "cell_type": "code",
   "execution_count": 12,
   "id": "d86785da",
   "metadata": {
    "pycharm": {
     "name": "#%%\n"
    }
   },
   "outputs": [],
   "source": [
    "# Save the dataframe\n",
    "\n",
    "#df.to_csv('ESG_scores.csv', index = False)"
   ]
  },
  {
   "cell_type": "code",
   "execution_count": 538,
   "id": "c8f79e8f",
   "metadata": {
    "pycharm": {
     "name": "#%%\n"
    }
   },
   "outputs": [],
   "source": [
    "# Importing main dataset after some cleaning\n",
    "df = pd.read_csv('ESG_scores.csv')"
   ]
  },
  {
   "cell_type": "code",
   "execution_count": 539,
   "id": "bbb5a75f",
   "metadata": {
    "pycharm": {
     "name": "#%%\n"
    }
   },
   "outputs": [
    {
     "data": {
      "text/html": [
       "<div>\n",
       "<style scoped>\n",
       "    .dataframe tbody tr th:only-of-type {\n",
       "        vertical-align: middle;\n",
       "    }\n",
       "\n",
       "    .dataframe tbody tr th {\n",
       "        vertical-align: top;\n",
       "    }\n",
       "\n",
       "    .dataframe thead th {\n",
       "        text-align: right;\n",
       "    }\n",
       "</style>\n",
       "<table border=\"1\" class=\"dataframe\">\n",
       "  <thead>\n",
       "    <tr style=\"text-align: right;\">\n",
       "      <th></th>\n",
       "      <th>Instrument</th>\n",
       "      <th>CUSIP</th>\n",
       "      <th>Ticker Symbol</th>\n",
       "      <th>Company Common Name</th>\n",
       "      <th>Country of Incorporation</th>\n",
       "      <th>Date</th>\n",
       "      <th>ESG Score</th>\n",
       "      <th>ESG Score Grade</th>\n",
       "      <th>Environmental Pillar Score</th>\n",
       "      <th>Social Pillar Score</th>\n",
       "      <th>Governance Pillar Score</th>\n",
       "      <th>Environmental Pillar Score Grade</th>\n",
       "      <th>Social Pillar Score Grade</th>\n",
       "      <th>Governance Pillar Score Grade</th>\n",
       "    </tr>\n",
       "  </thead>\n",
       "  <tbody>\n",
       "    <tr>\n",
       "      <th>0</th>\n",
       "      <td>ECL.N</td>\n",
       "      <td>278865100</td>\n",
       "      <td>ECL</td>\n",
       "      <td>Ecolab Inc</td>\n",
       "      <td>United States</td>\n",
       "      <td>2020-12-31T00:00:00Z</td>\n",
       "      <td>76.396235</td>\n",
       "      <td>A-</td>\n",
       "      <td>74.867451</td>\n",
       "      <td>89.474752</td>\n",
       "      <td>56.936266</td>\n",
       "      <td>B+</td>\n",
       "      <td>A</td>\n",
       "      <td>B-</td>\n",
       "    </tr>\n",
       "    <tr>\n",
       "      <th>1</th>\n",
       "      <td>ECL.N</td>\n",
       "      <td>278865100</td>\n",
       "      <td>ECL</td>\n",
       "      <td>Ecolab Inc</td>\n",
       "      <td>United States</td>\n",
       "      <td>2019-12-31T00:00:00Z</td>\n",
       "      <td>71.893076</td>\n",
       "      <td>B+</td>\n",
       "      <td>72.852101</td>\n",
       "      <td>84.821631</td>\n",
       "      <td>48.292081</td>\n",
       "      <td>B+</td>\n",
       "      <td>A</td>\n",
       "      <td>C+</td>\n",
       "    </tr>\n",
       "    <tr>\n",
       "      <th>2</th>\n",
       "      <td>ECL.N</td>\n",
       "      <td>278865100</td>\n",
       "      <td>ECL</td>\n",
       "      <td>Ecolab Inc</td>\n",
       "      <td>United States</td>\n",
       "      <td>2018-12-31T00:00:00Z</td>\n",
       "      <td>71.100574</td>\n",
       "      <td>B+</td>\n",
       "      <td>70.981378</td>\n",
       "      <td>84.785085</td>\n",
       "      <td>48.123510</td>\n",
       "      <td>B+</td>\n",
       "      <td>A</td>\n",
       "      <td>C+</td>\n",
       "    </tr>\n",
       "    <tr>\n",
       "      <th>3</th>\n",
       "      <td>ECL.N</td>\n",
       "      <td>278865100</td>\n",
       "      <td>ECL</td>\n",
       "      <td>Ecolab Inc</td>\n",
       "      <td>United States</td>\n",
       "      <td>2017-12-31T00:00:00Z</td>\n",
       "      <td>67.354841</td>\n",
       "      <td>B+</td>\n",
       "      <td>63.186166</td>\n",
       "      <td>85.466572</td>\n",
       "      <td>44.030179</td>\n",
       "      <td>B</td>\n",
       "      <td>A</td>\n",
       "      <td>C+</td>\n",
       "    </tr>\n",
       "    <tr>\n",
       "      <th>4</th>\n",
       "      <td>ECL.N</td>\n",
       "      <td>278865100</td>\n",
       "      <td>ECL</td>\n",
       "      <td>Ecolab Inc</td>\n",
       "      <td>United States</td>\n",
       "      <td>2016-12-31T00:00:00Z</td>\n",
       "      <td>70.787790</td>\n",
       "      <td>B+</td>\n",
       "      <td>65.554546</td>\n",
       "      <td>87.876433</td>\n",
       "      <td>51.077428</td>\n",
       "      <td>B</td>\n",
       "      <td>A</td>\n",
       "      <td>B-</td>\n",
       "    </tr>\n",
       "  </tbody>\n",
       "</table>\n",
       "</div>"
      ],
      "text/plain": [
       "  Instrument      CUSIP Ticker Symbol Company Common Name  \\\n",
       "0      ECL.N  278865100           ECL          Ecolab Inc   \n",
       "1      ECL.N  278865100           ECL          Ecolab Inc   \n",
       "2      ECL.N  278865100           ECL          Ecolab Inc   \n",
       "3      ECL.N  278865100           ECL          Ecolab Inc   \n",
       "4      ECL.N  278865100           ECL          Ecolab Inc   \n",
       "\n",
       "  Country of Incorporation                  Date  ESG Score ESG Score Grade  \\\n",
       "0            United States  2020-12-31T00:00:00Z  76.396235              A-   \n",
       "1            United States  2019-12-31T00:00:00Z  71.893076              B+   \n",
       "2            United States  2018-12-31T00:00:00Z  71.100574              B+   \n",
       "3            United States  2017-12-31T00:00:00Z  67.354841              B+   \n",
       "4            United States  2016-12-31T00:00:00Z  70.787790              B+   \n",
       "\n",
       "   Environmental Pillar Score  Social Pillar Score  Governance Pillar Score  \\\n",
       "0                   74.867451            89.474752                56.936266   \n",
       "1                   72.852101            84.821631                48.292081   \n",
       "2                   70.981378            84.785085                48.123510   \n",
       "3                   63.186166            85.466572                44.030179   \n",
       "4                   65.554546            87.876433                51.077428   \n",
       "\n",
       "  Environmental Pillar Score Grade Social Pillar Score Grade  \\\n",
       "0                               B+                         A   \n",
       "1                               B+                         A   \n",
       "2                               B+                         A   \n",
       "3                                B                         A   \n",
       "4                                B                         A   \n",
       "\n",
       "  Governance Pillar Score Grade  \n",
       "0                            B-  \n",
       "1                            C+  \n",
       "2                            C+  \n",
       "3                            C+  \n",
       "4                            B-  "
      ]
     },
     "execution_count": 539,
     "metadata": {},
     "output_type": "execute_result"
    }
   ],
   "source": [
    "# Selecting only data between 2009 and 2020 \n",
    "df = df[(df.Date > '2008-12-31T00:00:00Z') & (df.Date < '2021-01-01T00:00:00Z')]\n",
    "df.reset_index(inplace = True, drop = True)\n",
    "df.head()"
   ]
  },
  {
   "cell_type": "code",
   "execution_count": 540,
   "id": "5290ea3b",
   "metadata": {
    "pycharm": {
     "name": "#%%\n"
    }
   },
   "outputs": [
    {
     "name": "stdout",
     "output_type": "stream",
     "text": [
      "The dataset has 37715 rows\n",
      "The dataset has 14 columns\n",
      "\n",
      "The columns are: ['Instrument', 'CUSIP', 'Ticker Symbol', 'Company Common Name', 'Country of Incorporation', 'Date', 'ESG Score', 'ESG Score Grade', 'Environmental Pillar Score', 'Social Pillar Score', 'Governance Pillar Score', 'Environmental Pillar Score Grade', 'Social Pillar Score Grade', 'Governance Pillar Score Grade']\n",
      "\n",
      "The number of unique companies is: 3149\n"
     ]
    }
   ],
   "source": [
    "# Information about data\n",
    "# The dates collected are not the same for all the companies\n",
    "\n",
    "print(f'The dataset has {df.shape[0]} rows')\n",
    "print(f'The dataset has {df.shape[1]} columns\\n')\n",
    "print(f'The columns are: {list(df.columns)}\\n')\n",
    "print(f'The number of unique companies is: {len(df[\"Ticker Symbol\"].unique())}')\n"
   ]
  },
  {
   "cell_type": "markdown",
   "id": "61a35df5",
   "metadata": {
    "pycharm": {
     "name": "#%% md\n"
    }
   },
   "source": [
    "## 2. Collect data about S&P500 stocks<a name=\"stocks\"></a>"
   ]
  },
  {
   "cell_type": "code",
   "execution_count": 34,
   "id": "a30ad601",
   "metadata": {
    "pycharm": {
     "name": "#%%\n"
    }
   },
   "outputs": [
    {
     "name": "stdout",
     "output_type": "stream",
     "text": [
      "number of stocks = 503\n"
     ]
    }
   ],
   "source": [
    "# Applying web scraping to obtain the list of S&P500 tickers from Wikipedia\n",
    "\n",
    "URL = \"https://en.wikipedia.org/wiki/List_of_S%26P_500_companies\"\n",
    "\n",
    "page = requests.get(URL)\n",
    "soup = BeautifulSoup(page.content, \"html.parser\")\n",
    "table = soup.find('table').find_all('tr')\n",
    "\n",
    "stocks = []\n",
    "for tr in table:\n",
    "    stocks.append(tr.find('a').text)\n",
    "\n",
    "stocks = stocks[1:]\n",
    "\n",
    "print('number of stocks =',(len(stocks))) "
   ]
  },
  {
   "cell_type": "code",
   "execution_count": 35,
   "id": "7c329c55",
   "metadata": {
    "pycharm": {
     "name": "#%%\n"
    }
   },
   "outputs": [
    {
     "name": "stdout",
     "output_type": "stream",
     "text": [
      "[*********************100%***********************]  503 of 503 completed\n",
      "\n",
      "2 Failed downloads:\n",
      "- BF.B: No data found for this date range, symbol may be delisted\n",
      "- BRK.B: No data found for this date range, symbol may be delisted\n"
     ]
    }
   ],
   "source": [
    "# Downloading data\n",
    "\n",
    "df_stocks = yf.download(stocks, start = '2009-01-01', end = '2022-11-1')"
   ]
  },
  {
   "cell_type": "code",
   "execution_count": 37,
   "id": "4d5da9a3",
   "metadata": {
    "pycharm": {
     "name": "#%%\n"
    }
   },
   "outputs": [
    {
     "data": {
      "text/html": [
       "<div>\n",
       "<style scoped>\n",
       "    .dataframe tbody tr th:only-of-type {\n",
       "        vertical-align: middle;\n",
       "    }\n",
       "\n",
       "    .dataframe tbody tr th {\n",
       "        vertical-align: top;\n",
       "    }\n",
       "\n",
       "    .dataframe thead tr th {\n",
       "        text-align: left;\n",
       "    }\n",
       "\n",
       "    .dataframe thead tr:last-of-type th {\n",
       "        text-align: right;\n",
       "    }\n",
       "</style>\n",
       "<table border=\"1\" class=\"dataframe\">\n",
       "  <thead>\n",
       "    <tr>\n",
       "      <th></th>\n",
       "      <th colspan=\"10\" halign=\"left\">Adj Close</th>\n",
       "      <th>...</th>\n",
       "      <th colspan=\"10\" halign=\"left\">Volume</th>\n",
       "    </tr>\n",
       "    <tr>\n",
       "      <th></th>\n",
       "      <th>A</th>\n",
       "      <th>AAL</th>\n",
       "      <th>AAP</th>\n",
       "      <th>AAPL</th>\n",
       "      <th>ABBV</th>\n",
       "      <th>ABC</th>\n",
       "      <th>ABMD</th>\n",
       "      <th>ABT</th>\n",
       "      <th>ACGL</th>\n",
       "      <th>ACN</th>\n",
       "      <th>...</th>\n",
       "      <th>WYNN</th>\n",
       "      <th>XEL</th>\n",
       "      <th>XOM</th>\n",
       "      <th>XRAY</th>\n",
       "      <th>XYL</th>\n",
       "      <th>YUM</th>\n",
       "      <th>ZBH</th>\n",
       "      <th>ZBRA</th>\n",
       "      <th>ZION</th>\n",
       "      <th>ZTS</th>\n",
       "    </tr>\n",
       "    <tr>\n",
       "      <th>Date</th>\n",
       "      <th></th>\n",
       "      <th></th>\n",
       "      <th></th>\n",
       "      <th></th>\n",
       "      <th></th>\n",
       "      <th></th>\n",
       "      <th></th>\n",
       "      <th></th>\n",
       "      <th></th>\n",
       "      <th></th>\n",
       "      <th></th>\n",
       "      <th></th>\n",
       "      <th></th>\n",
       "      <th></th>\n",
       "      <th></th>\n",
       "      <th></th>\n",
       "      <th></th>\n",
       "      <th></th>\n",
       "      <th></th>\n",
       "      <th></th>\n",
       "      <th></th>\n",
       "    </tr>\n",
       "  </thead>\n",
       "  <tbody>\n",
       "    <tr>\n",
       "      <th>2009-01-02 00:00:00</th>\n",
       "      <td>10.549064</td>\n",
       "      <td>7.909602</td>\n",
       "      <td>31.565516</td>\n",
       "      <td>2.762747</td>\n",
       "      <td>NaN</td>\n",
       "      <td>14.456063</td>\n",
       "      <td>16.33</td>\n",
       "      <td>18.571064</td>\n",
       "      <td>7.663333</td>\n",
       "      <td>25.885654</td>\n",
       "      <td>...</td>\n",
       "      <td>1361400</td>\n",
       "      <td>2018300</td>\n",
       "      <td>35803700</td>\n",
       "      <td>1574200</td>\n",
       "      <td>NaN</td>\n",
       "      <td>3612149</td>\n",
       "      <td>1147935</td>\n",
       "      <td>559600</td>\n",
       "      <td>1956500</td>\n",
       "      <td>NaN</td>\n",
       "    </tr>\n",
       "    <tr>\n",
       "      <th>2009-01-05 00:00:00</th>\n",
       "      <td>10.906332</td>\n",
       "      <td>7.853037</td>\n",
       "      <td>31.140205</td>\n",
       "      <td>2.879346</td>\n",
       "      <td>NaN</td>\n",
       "      <td>14.732420</td>\n",
       "      <td>16.00</td>\n",
       "      <td>18.252068</td>\n",
       "      <td>7.597778</td>\n",
       "      <td>26.000973</td>\n",
       "      <td>...</td>\n",
       "      <td>3101200</td>\n",
       "      <td>2908200</td>\n",
       "      <td>43340100</td>\n",
       "      <td>1484200</td>\n",
       "      <td>NaN</td>\n",
       "      <td>6674574</td>\n",
       "      <td>914022</td>\n",
       "      <td>383100</td>\n",
       "      <td>1792800</td>\n",
       "      <td>NaN</td>\n",
       "    </tr>\n",
       "    <tr>\n",
       "      <th>2009-01-06 00:00:00</th>\n",
       "      <td>11.776756</td>\n",
       "      <td>8.541239</td>\n",
       "      <td>31.186430</td>\n",
       "      <td>2.831854</td>\n",
       "      <td>NaN</td>\n",
       "      <td>14.675518</td>\n",
       "      <td>15.17</td>\n",
       "      <td>17.655691</td>\n",
       "      <td>7.583333</td>\n",
       "      <td>25.678078</td>\n",
       "      <td>...</td>\n",
       "      <td>3161300</td>\n",
       "      <td>3009200</td>\n",
       "      <td>41906100</td>\n",
       "      <td>2324700</td>\n",
       "      <td>NaN</td>\n",
       "      <td>4964340</td>\n",
       "      <td>1611641</td>\n",
       "      <td>298500</td>\n",
       "      <td>2187500</td>\n",
       "      <td>NaN</td>\n",
       "    </tr>\n",
       "    <tr>\n",
       "      <th>2009-01-07 00:00:00</th>\n",
       "      <td>11.841717</td>\n",
       "      <td>8.560092</td>\n",
       "      <td>29.947474</td>\n",
       "      <td>2.770662</td>\n",
       "      <td>NaN</td>\n",
       "      <td>14.594235</td>\n",
       "      <td>14.70</td>\n",
       "      <td>17.558599</td>\n",
       "      <td>7.461111</td>\n",
       "      <td>25.970224</td>\n",
       "      <td>...</td>\n",
       "      <td>3278200</td>\n",
       "      <td>2523000</td>\n",
       "      <td>35268800</td>\n",
       "      <td>2345400</td>\n",
       "      <td>NaN</td>\n",
       "      <td>5347143</td>\n",
       "      <td>1297491</td>\n",
       "      <td>356900</td>\n",
       "      <td>2796800</td>\n",
       "      <td>NaN</td>\n",
       "    </tr>\n",
       "    <tr>\n",
       "      <th>2009-01-08 00:00:00</th>\n",
       "      <td>11.919664</td>\n",
       "      <td>9.022037</td>\n",
       "      <td>30.049194</td>\n",
       "      <td>2.822111</td>\n",
       "      <td>NaN</td>\n",
       "      <td>14.923430</td>\n",
       "      <td>14.28</td>\n",
       "      <td>17.752771</td>\n",
       "      <td>7.586667</td>\n",
       "      <td>25.708826</td>\n",
       "      <td>...</td>\n",
       "      <td>1616800</td>\n",
       "      <td>2929700</td>\n",
       "      <td>30817100</td>\n",
       "      <td>1875600</td>\n",
       "      <td>NaN</td>\n",
       "      <td>5097737</td>\n",
       "      <td>1869553</td>\n",
       "      <td>511100</td>\n",
       "      <td>2087200</td>\n",
       "      <td>NaN</td>\n",
       "    </tr>\n",
       "  </tbody>\n",
       "</table>\n",
       "<p>5 rows × 3018 columns</p>\n",
       "</div>"
      ],
      "text/plain": [
       "                     Adj Close                                                 \\\n",
       "                             A       AAL        AAP      AAPL ABBV        ABC   \n",
       "Date                                                                            \n",
       "2009-01-02 00:00:00  10.549064  7.909602  31.565516  2.762747  NaN  14.456063   \n",
       "2009-01-05 00:00:00  10.906332  7.853037  31.140205  2.879346  NaN  14.732420   \n",
       "2009-01-06 00:00:00  11.776756  8.541239  31.186430  2.831854  NaN  14.675518   \n",
       "2009-01-07 00:00:00  11.841717  8.560092  29.947474  2.770662  NaN  14.594235   \n",
       "2009-01-08 00:00:00  11.919664  9.022037  30.049194  2.822111  NaN  14.923430   \n",
       "\n",
       "                                                            ...   Volume  \\\n",
       "                      ABMD        ABT      ACGL        ACN  ...     WYNN   \n",
       "Date                                                        ...            \n",
       "2009-01-02 00:00:00  16.33  18.571064  7.663333  25.885654  ...  1361400   \n",
       "2009-01-05 00:00:00  16.00  18.252068  7.597778  26.000973  ...  3101200   \n",
       "2009-01-06 00:00:00  15.17  17.655691  7.583333  25.678078  ...  3161300   \n",
       "2009-01-07 00:00:00  14.70  17.558599  7.461111  25.970224  ...  3278200   \n",
       "2009-01-08 00:00:00  14.28  17.752771  7.586667  25.708826  ...  1616800   \n",
       "\n",
       "                                                                               \\\n",
       "                         XEL       XOM     XRAY XYL      YUM      ZBH    ZBRA   \n",
       "Date                                                                            \n",
       "2009-01-02 00:00:00  2018300  35803700  1574200 NaN  3612149  1147935  559600   \n",
       "2009-01-05 00:00:00  2908200  43340100  1484200 NaN  6674574   914022  383100   \n",
       "2009-01-06 00:00:00  3009200  41906100  2324700 NaN  4964340  1611641  298500   \n",
       "2009-01-07 00:00:00  2523000  35268800  2345400 NaN  5347143  1297491  356900   \n",
       "2009-01-08 00:00:00  2929700  30817100  1875600 NaN  5097737  1869553  511100   \n",
       "\n",
       "                                  \n",
       "                        ZION ZTS  \n",
       "Date                              \n",
       "2009-01-02 00:00:00  1956500 NaN  \n",
       "2009-01-05 00:00:00  1792800 NaN  \n",
       "2009-01-06 00:00:00  2187500 NaN  \n",
       "2009-01-07 00:00:00  2796800 NaN  \n",
       "2009-01-08 00:00:00  2087200 NaN  \n",
       "\n",
       "[5 rows x 3018 columns]"
      ]
     },
     "execution_count": 37,
     "metadata": {},
     "output_type": "execute_result"
    }
   ],
   "source": [
    "# Printing and saving data\n",
    "\n",
    "df_stocks = df_stocks.sort_values('Date')\n",
    "df_stocks.to_csv('Stocks.csv')\n",
    "df_stocks.head()"
   ]
  },
  {
   "cell_type": "markdown",
   "id": "7a78dac8",
   "metadata": {
    "pycharm": {
     "name": "#%% md\n"
    }
   },
   "source": [
    "### Create a new dataset of ESG scores only on companies contained in S&P500"
   ]
  },
  {
   "cell_type": "code",
   "execution_count": 614,
   "id": "7a9cfaa2",
   "metadata": {
    "pycharm": {
     "name": "#%%\n"
    }
   },
   "outputs": [],
   "source": [
    "# Creating a new dataset of ESG scores only on companies contained in S&P500\n",
    "\n",
    "# dataset = df.copy()\n",
    "# for i in tqdm(range(len(dataset))):\n",
    "#     if dataset['Ticker Symbol'][i] not in stocks:\n",
    "#         dataset = dataset.drop(i)\n",
    "\n",
    "# Saving the final dataset\n",
    "# dataset.to_csv('ESG_partial.csv', index = False)"
   ]
  },
  {
   "cell_type": "code",
   "execution_count": 546,
   "id": "f4d3289e",
   "metadata": {
    "pycharm": {
     "name": "#%%\n"
    }
   },
   "outputs": [
    {
     "data": {
      "text/html": [
       "<div>\n",
       "<style scoped>\n",
       "    .dataframe tbody tr th:only-of-type {\n",
       "        vertical-align: middle;\n",
       "    }\n",
       "\n",
       "    .dataframe tbody tr th {\n",
       "        vertical-align: top;\n",
       "    }\n",
       "\n",
       "    .dataframe thead th {\n",
       "        text-align: right;\n",
       "    }\n",
       "</style>\n",
       "<table border=\"1\" class=\"dataframe\">\n",
       "  <thead>\n",
       "    <tr style=\"text-align: right;\">\n",
       "      <th></th>\n",
       "      <th>Instrument</th>\n",
       "      <th>CUSIP</th>\n",
       "      <th>Ticker Symbol</th>\n",
       "      <th>Company Common Name</th>\n",
       "      <th>Country of Incorporation</th>\n",
       "      <th>Date</th>\n",
       "      <th>ESG Score</th>\n",
       "      <th>ESG Score Grade</th>\n",
       "      <th>Environmental Pillar Score</th>\n",
       "      <th>Social Pillar Score</th>\n",
       "      <th>Governance Pillar Score</th>\n",
       "      <th>Environmental Pillar Score Grade</th>\n",
       "      <th>Social Pillar Score Grade</th>\n",
       "      <th>Governance Pillar Score Grade</th>\n",
       "    </tr>\n",
       "  </thead>\n",
       "  <tbody>\n",
       "    <tr>\n",
       "      <th>0</th>\n",
       "      <td>ECL.N</td>\n",
       "      <td>278865100</td>\n",
       "      <td>ECL</td>\n",
       "      <td>Ecolab Inc</td>\n",
       "      <td>United States</td>\n",
       "      <td>2020-12-31T00:00:00Z</td>\n",
       "      <td>76.396235</td>\n",
       "      <td>A-</td>\n",
       "      <td>74.867451</td>\n",
       "      <td>89.474752</td>\n",
       "      <td>56.936266</td>\n",
       "      <td>B+</td>\n",
       "      <td>A</td>\n",
       "      <td>B-</td>\n",
       "    </tr>\n",
       "    <tr>\n",
       "      <th>1</th>\n",
       "      <td>ECL.N</td>\n",
       "      <td>278865100</td>\n",
       "      <td>ECL</td>\n",
       "      <td>Ecolab Inc</td>\n",
       "      <td>United States</td>\n",
       "      <td>2019-12-31T00:00:00Z</td>\n",
       "      <td>71.893076</td>\n",
       "      <td>B+</td>\n",
       "      <td>72.852101</td>\n",
       "      <td>84.821631</td>\n",
       "      <td>48.292081</td>\n",
       "      <td>B+</td>\n",
       "      <td>A</td>\n",
       "      <td>C+</td>\n",
       "    </tr>\n",
       "    <tr>\n",
       "      <th>2</th>\n",
       "      <td>ECL.N</td>\n",
       "      <td>278865100</td>\n",
       "      <td>ECL</td>\n",
       "      <td>Ecolab Inc</td>\n",
       "      <td>United States</td>\n",
       "      <td>2018-12-31T00:00:00Z</td>\n",
       "      <td>71.100574</td>\n",
       "      <td>B+</td>\n",
       "      <td>70.981378</td>\n",
       "      <td>84.785085</td>\n",
       "      <td>48.123510</td>\n",
       "      <td>B+</td>\n",
       "      <td>A</td>\n",
       "      <td>C+</td>\n",
       "    </tr>\n",
       "    <tr>\n",
       "      <th>3</th>\n",
       "      <td>ECL.N</td>\n",
       "      <td>278865100</td>\n",
       "      <td>ECL</td>\n",
       "      <td>Ecolab Inc</td>\n",
       "      <td>United States</td>\n",
       "      <td>2017-12-31T00:00:00Z</td>\n",
       "      <td>67.354841</td>\n",
       "      <td>B+</td>\n",
       "      <td>63.186166</td>\n",
       "      <td>85.466572</td>\n",
       "      <td>44.030179</td>\n",
       "      <td>B</td>\n",
       "      <td>A</td>\n",
       "      <td>C+</td>\n",
       "    </tr>\n",
       "    <tr>\n",
       "      <th>4</th>\n",
       "      <td>ECL.N</td>\n",
       "      <td>278865100</td>\n",
       "      <td>ECL</td>\n",
       "      <td>Ecolab Inc</td>\n",
       "      <td>United States</td>\n",
       "      <td>2016-12-31T00:00:00Z</td>\n",
       "      <td>70.787790</td>\n",
       "      <td>B+</td>\n",
       "      <td>65.554546</td>\n",
       "      <td>87.876433</td>\n",
       "      <td>51.077428</td>\n",
       "      <td>B</td>\n",
       "      <td>A</td>\n",
       "      <td>B-</td>\n",
       "    </tr>\n",
       "    <tr>\n",
       "      <th>...</th>\n",
       "      <td>...</td>\n",
       "      <td>...</td>\n",
       "      <td>...</td>\n",
       "      <td>...</td>\n",
       "      <td>...</td>\n",
       "      <td>...</td>\n",
       "      <td>...</td>\n",
       "      <td>...</td>\n",
       "      <td>...</td>\n",
       "      <td>...</td>\n",
       "      <td>...</td>\n",
       "      <td>...</td>\n",
       "      <td>...</td>\n",
       "      <td>...</td>\n",
       "    </tr>\n",
       "    <tr>\n",
       "      <th>5642</th>\n",
       "      <td>OTIS.N</td>\n",
       "      <td>68902V107</td>\n",
       "      <td>OTIS</td>\n",
       "      <td>Otis Worldwide Corp</td>\n",
       "      <td>United States</td>\n",
       "      <td>2013-12-31T00:00:00Z</td>\n",
       "      <td>NaN</td>\n",
       "      <td>NaN</td>\n",
       "      <td>NaN</td>\n",
       "      <td>NaN</td>\n",
       "      <td>NaN</td>\n",
       "      <td>NaN</td>\n",
       "      <td>NaN</td>\n",
       "      <td>NaN</td>\n",
       "    </tr>\n",
       "    <tr>\n",
       "      <th>5643</th>\n",
       "      <td>OTIS.N</td>\n",
       "      <td>68902V107</td>\n",
       "      <td>OTIS</td>\n",
       "      <td>Otis Worldwide Corp</td>\n",
       "      <td>United States</td>\n",
       "      <td>2012-12-31T00:00:00Z</td>\n",
       "      <td>NaN</td>\n",
       "      <td>NaN</td>\n",
       "      <td>NaN</td>\n",
       "      <td>NaN</td>\n",
       "      <td>NaN</td>\n",
       "      <td>NaN</td>\n",
       "      <td>NaN</td>\n",
       "      <td>NaN</td>\n",
       "    </tr>\n",
       "    <tr>\n",
       "      <th>5644</th>\n",
       "      <td>OTIS.N</td>\n",
       "      <td>68902V107</td>\n",
       "      <td>OTIS</td>\n",
       "      <td>Otis Worldwide Corp</td>\n",
       "      <td>United States</td>\n",
       "      <td>2011-12-31T00:00:00Z</td>\n",
       "      <td>NaN</td>\n",
       "      <td>NaN</td>\n",
       "      <td>NaN</td>\n",
       "      <td>NaN</td>\n",
       "      <td>NaN</td>\n",
       "      <td>NaN</td>\n",
       "      <td>NaN</td>\n",
       "      <td>NaN</td>\n",
       "    </tr>\n",
       "    <tr>\n",
       "      <th>5645</th>\n",
       "      <td>OTIS.N</td>\n",
       "      <td>68902V107</td>\n",
       "      <td>OTIS</td>\n",
       "      <td>Otis Worldwide Corp</td>\n",
       "      <td>United States</td>\n",
       "      <td>2010-12-31T00:00:00Z</td>\n",
       "      <td>NaN</td>\n",
       "      <td>NaN</td>\n",
       "      <td>NaN</td>\n",
       "      <td>NaN</td>\n",
       "      <td>NaN</td>\n",
       "      <td>NaN</td>\n",
       "      <td>NaN</td>\n",
       "      <td>NaN</td>\n",
       "    </tr>\n",
       "    <tr>\n",
       "      <th>5646</th>\n",
       "      <td>OTIS.N</td>\n",
       "      <td>68902V107</td>\n",
       "      <td>OTIS</td>\n",
       "      <td>Otis Worldwide Corp</td>\n",
       "      <td>United States</td>\n",
       "      <td>2009-12-31T00:00:00Z</td>\n",
       "      <td>NaN</td>\n",
       "      <td>NaN</td>\n",
       "      <td>NaN</td>\n",
       "      <td>NaN</td>\n",
       "      <td>NaN</td>\n",
       "      <td>NaN</td>\n",
       "      <td>NaN</td>\n",
       "      <td>NaN</td>\n",
       "    </tr>\n",
       "  </tbody>\n",
       "</table>\n",
       "<p>5647 rows × 14 columns</p>\n",
       "</div>"
      ],
      "text/plain": [
       "     Instrument      CUSIP Ticker Symbol  Company Common Name  \\\n",
       "0         ECL.N  278865100           ECL           Ecolab Inc   \n",
       "1         ECL.N  278865100           ECL           Ecolab Inc   \n",
       "2         ECL.N  278865100           ECL           Ecolab Inc   \n",
       "3         ECL.N  278865100           ECL           Ecolab Inc   \n",
       "4         ECL.N  278865100           ECL           Ecolab Inc   \n",
       "...         ...        ...           ...                  ...   \n",
       "5642     OTIS.N  68902V107          OTIS  Otis Worldwide Corp   \n",
       "5643     OTIS.N  68902V107          OTIS  Otis Worldwide Corp   \n",
       "5644     OTIS.N  68902V107          OTIS  Otis Worldwide Corp   \n",
       "5645     OTIS.N  68902V107          OTIS  Otis Worldwide Corp   \n",
       "5646     OTIS.N  68902V107          OTIS  Otis Worldwide Corp   \n",
       "\n",
       "     Country of Incorporation                  Date  ESG Score  \\\n",
       "0               United States  2020-12-31T00:00:00Z  76.396235   \n",
       "1               United States  2019-12-31T00:00:00Z  71.893076   \n",
       "2               United States  2018-12-31T00:00:00Z  71.100574   \n",
       "3               United States  2017-12-31T00:00:00Z  67.354841   \n",
       "4               United States  2016-12-31T00:00:00Z  70.787790   \n",
       "...                       ...                   ...        ...   \n",
       "5642            United States  2013-12-31T00:00:00Z        NaN   \n",
       "5643            United States  2012-12-31T00:00:00Z        NaN   \n",
       "5644            United States  2011-12-31T00:00:00Z        NaN   \n",
       "5645            United States  2010-12-31T00:00:00Z        NaN   \n",
       "5646            United States  2009-12-31T00:00:00Z        NaN   \n",
       "\n",
       "     ESG Score Grade  Environmental Pillar Score  Social Pillar Score  \\\n",
       "0                 A-                   74.867451            89.474752   \n",
       "1                 B+                   72.852101            84.821631   \n",
       "2                 B+                   70.981378            84.785085   \n",
       "3                 B+                   63.186166            85.466572   \n",
       "4                 B+                   65.554546            87.876433   \n",
       "...              ...                         ...                  ...   \n",
       "5642             NaN                         NaN                  NaN   \n",
       "5643             NaN                         NaN                  NaN   \n",
       "5644             NaN                         NaN                  NaN   \n",
       "5645             NaN                         NaN                  NaN   \n",
       "5646             NaN                         NaN                  NaN   \n",
       "\n",
       "      Governance Pillar Score Environmental Pillar Score Grade  \\\n",
       "0                   56.936266                               B+   \n",
       "1                   48.292081                               B+   \n",
       "2                   48.123510                               B+   \n",
       "3                   44.030179                                B   \n",
       "4                   51.077428                                B   \n",
       "...                       ...                              ...   \n",
       "5642                      NaN                              NaN   \n",
       "5643                      NaN                              NaN   \n",
       "5644                      NaN                              NaN   \n",
       "5645                      NaN                              NaN   \n",
       "5646                      NaN                              NaN   \n",
       "\n",
       "     Social Pillar Score Grade Governance Pillar Score Grade  \n",
       "0                            A                            B-  \n",
       "1                            A                            C+  \n",
       "2                            A                            C+  \n",
       "3                            A                            C+  \n",
       "4                            A                            B-  \n",
       "...                        ...                           ...  \n",
       "5642                       NaN                           NaN  \n",
       "5643                       NaN                           NaN  \n",
       "5644                       NaN                           NaN  \n",
       "5645                       NaN                           NaN  \n",
       "5646                       NaN                           NaN  \n",
       "\n",
       "[5647 rows x 14 columns]"
      ]
     },
     "execution_count": 546,
     "metadata": {},
     "output_type": "execute_result"
    }
   ],
   "source": [
    "# Importing the dataset\n",
    "dataset = pd.read_csv('ESG_partial.csv')\n",
    "dataset"
   ]
  },
  {
   "cell_type": "code",
   "execution_count": 547,
   "id": "3da79d38",
   "metadata": {
    "pycharm": {
     "name": "#%%\n"
    }
   },
   "outputs": [
    {
     "name": "stdout",
     "output_type": "stream",
     "text": [
      "The new dataset contains: 5647 rows\n",
      "\n",
      "The total number of companies from S&P500 is: 471 \n",
      "\n",
      "Each company has ESG values on: 16.0 years\n"
     ]
    }
   ],
   "source": [
    "print('The new dataset contains:', len(dataset), 'rows\\n')\n",
    "print('The total number of companies from S&P500 is:', len(dataset['Ticker Symbol'].unique()),'\\n')\n",
    "print('Each company has ESG values on:', 7520/470, 'years')"
   ]
  },
  {
   "cell_type": "code",
   "execution_count": 548,
   "id": "8d954319",
   "metadata": {
    "pycharm": {
     "name": "#%%\n"
    }
   },
   "outputs": [
    {
     "name": "stdout",
     "output_type": "stream",
     "text": [
      "{'ALLE', 'AMCR', 'TEL', 'WTW', 'NCLH', 'IVZ', 'NWS', 'BRK.B', 'ACN', 'ETN', 'AON', 'LYB', 'FOX', 'MDT', 'RCL', 'LIN', 'ACGL', 'PNR', 'SLB', 'NXPI', 'TT', 'OGN', 'RE', 'CB', 'GOOG', 'STX', 'APTV', 'GRMN', 'JCI', 'CEG', 'CCL', 'STE'}\n"
     ]
    }
   ],
   "source": [
    "# Check which are the 32 excluded stocks for which the API didn't retrieve data\n",
    "\n",
    "all_stocks = set(stocks)\n",
    "included = set(list(dataset['Ticker Symbol'].unique()))\n",
    "excluded_stocks = all_stocks.difference(included)\n",
    "print(excluded_stocks)"
   ]
  },
  {
   "cell_type": "markdown",
   "id": "17fc903b",
   "metadata": {
    "pycharm": {
     "name": "#%% md\n"
    }
   },
   "source": [
    "Each of these stocks with the relative Company name has been manually checked if present with alternative names or tickers in the main original dataset, but none of them is included. Therefore, since 32 is a small number of excluded companies we have decided to keep them out and work on the remaining selected 471 firms."
   ]
  },
  {
   "cell_type": "markdown",
   "id": "d14eed56",
   "metadata": {
    "pycharm": {
     "name": "#%% md\n"
    }
   },
   "source": [
    "## 3. Collecting other market data<a name=\"market\"></a>"
   ]
  },
  {
   "cell_type": "markdown",
   "id": "189ef258",
   "metadata": {
    "pycharm": {
     "name": "#%% md\n"
    }
   },
   "source": [
    "### 3.1 Collecting Bid Price and Ask Price"
   ]
  },
  {
   "cell_type": "code",
   "execution_count": 558,
   "id": "7963adc1",
   "metadata": {
    "pycharm": {
     "name": "#%%\n"
    }
   },
   "outputs": [],
   "source": [
    "# Group1 companies Ask Price\n",
    "a1, erra1 = ek.get_data(list(included)[:150],\n",
    "                        fields=['TR.ASKPRICE.Date',\"TR.ASKPRICE\"], \n",
    "                        parameters = {'SDate':'2009-01-01','EDate':'2020-1-1','Curn':'USD', 'Frq':'D'})"
   ]
  },
  {
   "cell_type": "code",
   "execution_count": 559,
   "id": "a8510a4e",
   "metadata": {
    "pycharm": {
     "name": "#%%\n"
    }
   },
   "outputs": [],
   "source": [
    "# Group1 companies Bid Price\n",
    "b1, errb1 = ek.get_data(list(included)[:150],\n",
    "                        fields=[\"TR.BIDPRICE.Date\", \"TR.BIDPRICE\" ], \n",
    "                        parameters = {'SDate':'2009-01-01','EDate':'2020-1-1','Curn':'USD', 'Frq':'D'})"
   ]
  },
  {
   "cell_type": "code",
   "execution_count": 560,
   "id": "2e8c7600",
   "metadata": {
    "pycharm": {
     "name": "#%%\n"
    }
   },
   "outputs": [],
   "source": [
    "# Group 1 dataset with Ask Price and Bid Price\n",
    "got1 = pd.merge(a1, b1)\n",
    "\n",
    "# Checking the companies of which we retrieved data\n",
    "g1 = got1.groupby('Instrument')\n",
    "result1 = g1.count().rsub(g1.size(), axis=0) # this is to identify companies with null values\n",
    "\n",
    "# task 1 is composed of companies WITH null values\n",
    "task1 = result1[(result1['Date'] != 0) | (result1['Ask Price'] != 0) | (result1['Bid Price'] != 0)]"
   ]
  },
  {
   "cell_type": "code",
   "execution_count": 565,
   "id": "e1a7a839",
   "metadata": {
    "pycharm": {
     "name": "#%%\n"
    }
   },
   "outputs": [],
   "source": [
    "# Group2 companies Ask Price\n",
    "a2, erra2 = ek.get_data(list(included)[150:400],\n",
    "                        fields=['TR.ASKPRICE.Date',\"TR.ASKPRICE\"], \n",
    "                        parameters = {'SDate':'2009-01-01','EDate':'2020-1-1','Curn':'USD', 'Frq':'D'})\n",
    "\n"
   ]
  },
  {
   "cell_type": "code",
   "execution_count": 566,
   "id": "52e34814",
   "metadata": {
    "pycharm": {
     "name": "#%%\n"
    }
   },
   "outputs": [],
   "source": [
    "# Group2 companies Bid Price\n",
    "b2, errb2 = ek.get_data(list(included)[150:400],\n",
    "                        fields=[\"TR.BIDPRICE.Date\", \"TR.BIDPRICE\" ], \n",
    "                        parameters = {'SDate':'2009-01-01','EDate':'2020-1-1','Curn':'USD', 'Frq':'D'})"
   ]
  },
  {
   "cell_type": "code",
   "execution_count": 567,
   "id": "b71f2353",
   "metadata": {
    "pycharm": {
     "name": "#%%\n"
    }
   },
   "outputs": [],
   "source": [
    "# Group2 dataset with Ask Price and Bid Price\n",
    "got2 = pd.merge(a2, b2)\n",
    "\n",
    "# Checking the companies of which we retrieved data\n",
    "g2 = got2.groupby('Instrument')\n",
    "result2 = g2.count().rsub(g2.size(), axis=0)\n",
    "\n",
    "# task 2 is composed of companies WITH null values\n",
    "task2 = result2[(result2['Date'] != 0) | (result2['Ask Price'] != 0) | (result2['Bid Price'] != 0)]"
   ]
  },
  {
   "cell_type": "code",
   "execution_count": 568,
   "id": "22ab3c38",
   "metadata": {
    "pycharm": {
     "name": "#%%\n"
    }
   },
   "outputs": [],
   "source": [
    "# Group3 companies Ask Price\n",
    "a3, erra3 = ek.get_data(list(included)[400:],\n",
    "                        fields=['TR.ASKPRICE.Date',\"TR.ASKPRICE\"], \n",
    "                        parameters = {'SDate':'2009-01-01','EDate':'2020-1-1','Curn':'USD', 'Frq':'D'})"
   ]
  },
  {
   "cell_type": "code",
   "execution_count": 569,
   "id": "4ae2af89",
   "metadata": {
    "pycharm": {
     "name": "#%%\n"
    }
   },
   "outputs": [],
   "source": [
    "# Group3 companies Bid Price\n",
    "b3, errb3 = ek.get_data(list(included)[400:],\n",
    "                        fields=[\"TR.BIDPRICE.Date\", \"TR.BIDPRICE\" ], \n",
    "                        parameters = {'SDate':'2009-01-01','EDate':'2020-1-1','Curn':'USD', 'Frq':'D'})"
   ]
  },
  {
   "cell_type": "code",
   "execution_count": 570,
   "id": "d53c55dd",
   "metadata": {
    "pycharm": {
     "name": "#%%\n"
    }
   },
   "outputs": [],
   "source": [
    "# Group3 dataset with Ask Price and Bid Price\n",
    "got3 = pd.merge(a3, b3)\n",
    "\n",
    "# Checking the companies of which we retrieved data\n",
    "g3 = got3.groupby('Instrument')\n",
    "result3 = g3.count().rsub(g3.size(), axis=0)\n",
    "\n",
    "# task 3 is composed of companies WITH null values\n",
    "task3 = result3[(result3['Date'] != 0) | (result3['Ask Price'] != 0) | (result3['Bid Price'] != 0)]"
   ]
  },
  {
   "cell_type": "code",
   "execution_count": 571,
   "id": "e2af3cc9",
   "metadata": {
    "pycharm": {
     "name": "#%%\n"
    }
   },
   "outputs": [
    {
     "name": "stdout",
     "output_type": "stream",
     "text": [
      "Companies of which we DID NOT retrieve spread data: 194\n"
     ]
    }
   ],
   "source": [
    "print('Companies of which we DID NOT retrieve spread data:', len(task1) + len(task2) +len(task3))"
   ]
  },
  {
   "cell_type": "code",
   "execution_count": 572,
   "id": "a91c02b8",
   "metadata": {
    "pycharm": {
     "name": "#%%\n"
    }
   },
   "outputs": [],
   "source": [
    "# List of companies to exclude\n",
    "drop_firms = list(task1.index) + list(task2.index) + list(task3.index)"
   ]
  },
  {
   "cell_type": "code",
   "execution_count": 573,
   "id": "7e51d954",
   "metadata": {
    "pycharm": {
     "name": "#%%\n"
    }
   },
   "outputs": [],
   "source": [
    "# Exclude companies from group 1\n",
    "got1.drop(got1[got1.Instrument.isin(drop_firms)].index, inplace=True)\n",
    "\n",
    "# Exclude companies from group 2\n",
    "got2.drop(got2[got2.Instrument.isin(drop_firms)].index, inplace=True)\n",
    "\n",
    "# Exclude companies from group 3\n",
    "got3.drop(got3[got3.Instrument.isin(drop_firms)].index, inplace=True)"
   ]
  },
  {
   "cell_type": "code",
   "execution_count": 574,
   "id": "2598d272",
   "metadata": {
    "pycharm": {
     "name": "#%%\n"
    }
   },
   "outputs": [
    {
     "data": {
      "text/html": [
       "<div>\n",
       "<style scoped>\n",
       "    .dataframe tbody tr th:only-of-type {\n",
       "        vertical-align: middle;\n",
       "    }\n",
       "\n",
       "    .dataframe tbody tr th {\n",
       "        vertical-align: top;\n",
       "    }\n",
       "\n",
       "    .dataframe thead th {\n",
       "        text-align: right;\n",
       "    }\n",
       "</style>\n",
       "<table border=\"1\" class=\"dataframe\">\n",
       "  <thead>\n",
       "    <tr style=\"text-align: right;\">\n",
       "      <th></th>\n",
       "      <th>Instrument</th>\n",
       "      <th>Date</th>\n",
       "      <th>Ask Price</th>\n",
       "      <th>Bid Price</th>\n",
       "      <th>Midpoint</th>\n",
       "      <th>Quoted Spread</th>\n",
       "    </tr>\n",
       "  </thead>\n",
       "  <tbody>\n",
       "    <tr>\n",
       "      <th>0</th>\n",
       "      <td>MA</td>\n",
       "      <td>2009-01-02T00:00:00Z</td>\n",
       "      <td>14.986</td>\n",
       "      <td>14.982</td>\n",
       "      <td>14.984</td>\n",
       "      <td>0.000267</td>\n",
       "    </tr>\n",
       "    <tr>\n",
       "      <th>1</th>\n",
       "      <td>MA</td>\n",
       "      <td>2009-01-05T00:00:00Z</td>\n",
       "      <td>15.371</td>\n",
       "      <td>15.306</td>\n",
       "      <td>15.3385</td>\n",
       "      <td>0.004238</td>\n",
       "    </tr>\n",
       "    <tr>\n",
       "      <th>2</th>\n",
       "      <td>MA</td>\n",
       "      <td>2009-01-06T00:00:00Z</td>\n",
       "      <td>16.25</td>\n",
       "      <td>16.216</td>\n",
       "      <td>16.233</td>\n",
       "      <td>0.002094</td>\n",
       "    </tr>\n",
       "    <tr>\n",
       "      <th>3</th>\n",
       "      <td>MA</td>\n",
       "      <td>2009-01-07T00:00:00Z</td>\n",
       "      <td>15.202</td>\n",
       "      <td>15.152</td>\n",
       "      <td>15.177</td>\n",
       "      <td>0.003294</td>\n",
       "    </tr>\n",
       "    <tr>\n",
       "      <th>4</th>\n",
       "      <td>MA</td>\n",
       "      <td>2009-01-08T00:00:00Z</td>\n",
       "      <td>15.314</td>\n",
       "      <td>15.181</td>\n",
       "      <td>15.2475</td>\n",
       "      <td>0.008723</td>\n",
       "    </tr>\n",
       "    <tr>\n",
       "      <th>...</th>\n",
       "      <td>...</td>\n",
       "      <td>...</td>\n",
       "      <td>...</td>\n",
       "      <td>...</td>\n",
       "      <td>...</td>\n",
       "      <td>...</td>\n",
       "    </tr>\n",
       "    <tr>\n",
       "      <th>766390</th>\n",
       "      <td>CVS</td>\n",
       "      <td>2019-12-30T00:00:00Z</td>\n",
       "      <td>73.72</td>\n",
       "      <td>73.7</td>\n",
       "      <td>73.71</td>\n",
       "      <td>0.000271</td>\n",
       "    </tr>\n",
       "    <tr>\n",
       "      <th>766391</th>\n",
       "      <td>CVS</td>\n",
       "      <td>2019-12-31T00:00:00Z</td>\n",
       "      <td>74.27</td>\n",
       "      <td>74.26</td>\n",
       "      <td>74.265</td>\n",
       "      <td>0.000135</td>\n",
       "    </tr>\n",
       "    <tr>\n",
       "      <th>766392</th>\n",
       "      <td>CVS</td>\n",
       "      <td>2019-12-31T00:00:00Z</td>\n",
       "      <td>74.27</td>\n",
       "      <td>74.26</td>\n",
       "      <td>74.265</td>\n",
       "      <td>0.000135</td>\n",
       "    </tr>\n",
       "    <tr>\n",
       "      <th>766393</th>\n",
       "      <td>CVS</td>\n",
       "      <td>2019-12-31T00:00:00Z</td>\n",
       "      <td>74.27</td>\n",
       "      <td>74.26</td>\n",
       "      <td>74.265</td>\n",
       "      <td>0.000135</td>\n",
       "    </tr>\n",
       "    <tr>\n",
       "      <th>766394</th>\n",
       "      <td>CVS</td>\n",
       "      <td>2019-12-31T00:00:00Z</td>\n",
       "      <td>74.27</td>\n",
       "      <td>74.26</td>\n",
       "      <td>74.265</td>\n",
       "      <td>0.000135</td>\n",
       "    </tr>\n",
       "  </tbody>\n",
       "</table>\n",
       "<p>766395 rows × 6 columns</p>\n",
       "</div>"
      ],
      "text/plain": [
       "       Instrument                  Date  Ask Price  Bid Price  Midpoint  \\\n",
       "0              MA  2009-01-02T00:00:00Z     14.986     14.982    14.984   \n",
       "1              MA  2009-01-05T00:00:00Z     15.371     15.306   15.3385   \n",
       "2              MA  2009-01-06T00:00:00Z      16.25     16.216    16.233   \n",
       "3              MA  2009-01-07T00:00:00Z     15.202     15.152    15.177   \n",
       "4              MA  2009-01-08T00:00:00Z     15.314     15.181   15.2475   \n",
       "...           ...                   ...        ...        ...       ...   \n",
       "766390        CVS  2019-12-30T00:00:00Z      73.72       73.7     73.71   \n",
       "766391        CVS  2019-12-31T00:00:00Z      74.27      74.26    74.265   \n",
       "766392        CVS  2019-12-31T00:00:00Z      74.27      74.26    74.265   \n",
       "766393        CVS  2019-12-31T00:00:00Z      74.27      74.26    74.265   \n",
       "766394        CVS  2019-12-31T00:00:00Z      74.27      74.26    74.265   \n",
       "\n",
       "        Quoted Spread  \n",
       "0            0.000267  \n",
       "1            0.004238  \n",
       "2            0.002094  \n",
       "3            0.003294  \n",
       "4            0.008723  \n",
       "...               ...  \n",
       "766390       0.000271  \n",
       "766391       0.000135  \n",
       "766392       0.000135  \n",
       "766393       0.000135  \n",
       "766394       0.000135  \n",
       "\n",
       "[766395 rows x 6 columns]"
      ]
     },
     "execution_count": 574,
     "metadata": {},
     "output_type": "execute_result"
    }
   ],
   "source": [
    "# Dataset with spread data of retrieved companies\n",
    "spread = pd.concat([got1, got2, got3], ignore_index = True)\n",
    "spread['Midpoint'] = (spread['Ask Price'] + spread['Bid Price'])/2\n",
    "spread['Quoted Spread'] = (spread['Ask Price'] - spread['Bid Price'])/spread['Midpoint']\n",
    "spread"
   ]
  },
  {
   "cell_type": "code",
   "execution_count": 575,
   "id": "88d82ea8",
   "metadata": {
    "pycharm": {
     "name": "#%%\n"
    }
   },
   "outputs": [
    {
     "data": {
      "text/plain": [
       "277"
      ]
     },
     "execution_count": 575,
     "metadata": {},
     "output_type": "execute_result"
    }
   ],
   "source": [
    "# List of companies of which we have spread data\n",
    "to_keep = list(spread.Instrument.unique())\n",
    "len(to_keep)"
   ]
  },
  {
   "cell_type": "markdown",
   "id": "4071ef0f",
   "metadata": {
    "pycharm": {
     "name": "#%% md\n"
    }
   },
   "source": [
    "### 3.2 Collecting Market Capitalization data"
   ]
  },
  {
   "cell_type": "code",
   "execution_count": 549,
   "id": "ca027d24",
   "metadata": {
    "pycharm": {
     "name": "#%%\n"
    }
   },
   "outputs": [],
   "source": [
    "mark_data, errs = ek.get_data(to_keep[:100],\n",
    "                        fields=['TR.COMPANYMARKETCAPITALIZATION.Date',\"TR.COMPANYMARKETCAPITALIZATION\"], \n",
    "                        parameters = {'SDate':'2009-01-01','EDate':'2020-1-1','Curn':'USD', 'Frq':'D'})"
   ]
  },
  {
   "cell_type": "code",
   "execution_count": 550,
   "id": "bc5cfe0e",
   "metadata": {
    "pycharm": {
     "name": "#%%\n"
    }
   },
   "outputs": [],
   "source": [
    "mark_data1, errs1 = ek.get_data(to_keep[100:200],\n",
    "                        fields=['TR.COMPANYMARKETCAPITALIZATION.Date',\"TR.COMPANYMARKETCAPITALIZATION\"], \n",
    "                        parameters = {'SDate':'2009-01-01','EDate':'2020-1-1','Curn':'USD', 'Frq':'D'})"
   ]
  },
  {
   "cell_type": "code",
   "execution_count": 551,
   "id": "114fe8b0",
   "metadata": {
    "pycharm": {
     "name": "#%%\n"
    }
   },
   "outputs": [],
   "source": [
    "mark_data2, errs2 = ek.get_data(to_keep[200:],\n",
    "                        fields=['TR.COMPANYMARKETCAPITALIZATION.Date',\"TR.COMPANYMARKETCAPITALIZATION\"], \n",
    "                        parameters = {'SDate':'2009-01-01','EDate':'2020-1-1','Curn':'USD', 'Frq':'D'})"
   ]
  },
  {
   "cell_type": "code",
   "execution_count": 580,
   "id": "51df0a9c",
   "metadata": {
    "pycharm": {
     "name": "#%%\n"
    }
   },
   "outputs": [
    {
     "data": {
      "text/html": [
       "<div>\n",
       "<style scoped>\n",
       "    .dataframe tbody tr th:only-of-type {\n",
       "        vertical-align: middle;\n",
       "    }\n",
       "\n",
       "    .dataframe tbody tr th {\n",
       "        vertical-align: top;\n",
       "    }\n",
       "\n",
       "    .dataframe thead th {\n",
       "        text-align: right;\n",
       "    }\n",
       "</style>\n",
       "<table border=\"1\" class=\"dataframe\">\n",
       "  <thead>\n",
       "    <tr style=\"text-align: right;\">\n",
       "      <th></th>\n",
       "      <th>Instrument</th>\n",
       "      <th>Date</th>\n",
       "      <th>Company Market Capitalization</th>\n",
       "    </tr>\n",
       "  </thead>\n",
       "  <tbody>\n",
       "    <tr>\n",
       "      <th>0</th>\n",
       "      <td>MA</td>\n",
       "      <td>2009-01-02T00:00:00Z</td>\n",
       "      <td>19356676158.779999</td>\n",
       "    </tr>\n",
       "    <tr>\n",
       "      <th>1</th>\n",
       "      <td>MA</td>\n",
       "      <td>2009-01-05T00:00:00Z</td>\n",
       "      <td>19806410656.259998</td>\n",
       "    </tr>\n",
       "    <tr>\n",
       "      <th>2</th>\n",
       "      <td>MA</td>\n",
       "      <td>2009-01-06T00:00:00Z</td>\n",
       "      <td>20938500943.02</td>\n",
       "    </tr>\n",
       "    <tr>\n",
       "      <th>3</th>\n",
       "      <td>MA</td>\n",
       "      <td>2009-01-07T00:00:00Z</td>\n",
       "      <td>19652622135.57</td>\n",
       "    </tr>\n",
       "    <tr>\n",
       "      <th>4</th>\n",
       "      <td>MA</td>\n",
       "      <td>2009-01-08T00:00:00Z</td>\n",
       "      <td>19744378311.779999</td>\n",
       "    </tr>\n",
       "    <tr>\n",
       "      <th>...</th>\n",
       "      <td>...</td>\n",
       "      <td>...</td>\n",
       "      <td>...</td>\n",
       "    </tr>\n",
       "    <tr>\n",
       "      <th>766731</th>\n",
       "      <td>CVS</td>\n",
       "      <td>2019-12-24T00:00:00Z</td>\n",
       "      <td>96934828161.570007</td>\n",
       "    </tr>\n",
       "    <tr>\n",
       "      <th>766732</th>\n",
       "      <td>CVS</td>\n",
       "      <td>2019-12-26T00:00:00Z</td>\n",
       "      <td>96895799241.360001</td>\n",
       "    </tr>\n",
       "    <tr>\n",
       "      <th>766733</th>\n",
       "      <td>CVS</td>\n",
       "      <td>2019-12-27T00:00:00Z</td>\n",
       "      <td>96791722120.800003</td>\n",
       "    </tr>\n",
       "    <tr>\n",
       "      <th>766734</th>\n",
       "      <td>CVS</td>\n",
       "      <td>2019-12-30T00:00:00Z</td>\n",
       "      <td>95881047315.899994</td>\n",
       "    </tr>\n",
       "    <tr>\n",
       "      <th>766735</th>\n",
       "      <td>CVS</td>\n",
       "      <td>2019-12-31T00:00:00Z</td>\n",
       "      <td>96648616080.029999</td>\n",
       "    </tr>\n",
       "  </tbody>\n",
       "</table>\n",
       "<p>766736 rows × 3 columns</p>\n",
       "</div>"
      ],
      "text/plain": [
       "       Instrument                  Date  Company Market Capitalization\n",
       "0              MA  2009-01-02T00:00:00Z             19356676158.779999\n",
       "1              MA  2009-01-05T00:00:00Z             19806410656.259998\n",
       "2              MA  2009-01-06T00:00:00Z                 20938500943.02\n",
       "3              MA  2009-01-07T00:00:00Z                 19652622135.57\n",
       "4              MA  2009-01-08T00:00:00Z             19744378311.779999\n",
       "...           ...                   ...                            ...\n",
       "766731        CVS  2019-12-24T00:00:00Z             96934828161.570007\n",
       "766732        CVS  2019-12-26T00:00:00Z             96895799241.360001\n",
       "766733        CVS  2019-12-27T00:00:00Z             96791722120.800003\n",
       "766734        CVS  2019-12-30T00:00:00Z             95881047315.899994\n",
       "766735        CVS  2019-12-31T00:00:00Z             96648616080.029999\n",
       "\n",
       "[766736 rows x 3 columns]"
      ]
     },
     "execution_count": 580,
     "metadata": {},
     "output_type": "execute_result"
    }
   ],
   "source": [
    "# Dataset of Market capitalization data of retrieved companies\n",
    "market_cap = pd.concat([mark_data, mark_data1, mark_data2], ignore_index = True)\n",
    "market_cap"
   ]
  },
  {
   "cell_type": "markdown",
   "id": "fbf96258",
   "metadata": {
    "pycharm": {
     "name": "#%% md\n"
    }
   },
   "source": [
    "##### Check missing values"
   ]
  },
  {
   "cell_type": "code",
   "execution_count": 576,
   "id": "388d4f01",
   "metadata": {
    "pycharm": {
     "name": "#%%\n"
    }
   },
   "outputs": [
    {
     "data": {
      "text/html": [
       "<div>\n",
       "<style scoped>\n",
       "    .dataframe tbody tr th:only-of-type {\n",
       "        vertical-align: middle;\n",
       "    }\n",
       "\n",
       "    .dataframe tbody tr th {\n",
       "        vertical-align: top;\n",
       "    }\n",
       "\n",
       "    .dataframe thead th {\n",
       "        text-align: right;\n",
       "    }\n",
       "</style>\n",
       "<table border=\"1\" class=\"dataframe\">\n",
       "  <thead>\n",
       "    <tr style=\"text-align: right;\">\n",
       "      <th></th>\n",
       "      <th>Date</th>\n",
       "      <th>Company Market Capitalization</th>\n",
       "    </tr>\n",
       "    <tr>\n",
       "      <th>Instrument</th>\n",
       "      <th></th>\n",
       "      <th></th>\n",
       "    </tr>\n",
       "  </thead>\n",
       "  <tbody>\n",
       "    <tr>\n",
       "      <th>FIS</th>\n",
       "      <td>0</td>\n",
       "      <td>1265</td>\n",
       "    </tr>\n",
       "  </tbody>\n",
       "</table>\n",
       "</div>"
      ],
      "text/plain": [
       "            Date  Company Market Capitalization\n",
       "Instrument                                     \n",
       "FIS            0                           1265"
      ]
     },
     "execution_count": 576,
     "metadata": {},
     "output_type": "execute_result"
    }
   ],
   "source": [
    "nn2 = market_cap.groupby('Instrument')\n",
    "r_nn2 = nn2.count().rsub(nn2.size(), axis=0)\n",
    "\n",
    "# task 2 is composed of companies WITH null values\n",
    "com_n2 = r_nn2[(r_nn2['Date'] != 0) | (r_nn2['Company Market Capitalization'] != 0) ]\n",
    "com_n2"
   ]
  },
  {
   "cell_type": "code",
   "execution_count": 584,
   "id": "6d7d78a0",
   "metadata": {
    "pycharm": {
     "name": "#%%\n"
    }
   },
   "outputs": [],
   "source": [
    "# Drop FIS from market capitalization data and from spread data since we have missing values\n",
    "market_cap.drop(market_cap[market_cap.Instrument == 'FIS'].index, inplace=True)\n",
    "spread.drop(spread[spread.Instrument == 'FIS'].index, inplace=True)"
   ]
  },
  {
   "cell_type": "code",
   "execution_count": 586,
   "id": "a8fcb98f",
   "metadata": {
    "pycharm": {
     "name": "#%%\n"
    }
   },
   "outputs": [
    {
     "data": {
      "text/html": [
       "<div>\n",
       "<style scoped>\n",
       "    .dataframe tbody tr th:only-of-type {\n",
       "        vertical-align: middle;\n",
       "    }\n",
       "\n",
       "    .dataframe tbody tr th {\n",
       "        vertical-align: top;\n",
       "    }\n",
       "\n",
       "    .dataframe thead th {\n",
       "        text-align: right;\n",
       "    }\n",
       "</style>\n",
       "<table border=\"1\" class=\"dataframe\">\n",
       "  <thead>\n",
       "    <tr style=\"text-align: right;\">\n",
       "      <th></th>\n",
       "      <th>Ticker Symbol</th>\n",
       "      <th>Date</th>\n",
       "      <th>Ask Price</th>\n",
       "      <th>Bid Price</th>\n",
       "      <th>Midpoint</th>\n",
       "      <th>Quoted Spread</th>\n",
       "      <th>Company Market Capitalization</th>\n",
       "    </tr>\n",
       "  </thead>\n",
       "  <tbody>\n",
       "    <tr>\n",
       "      <th>0</th>\n",
       "      <td>MA</td>\n",
       "      <td>2009-01-02T00:00:00Z</td>\n",
       "      <td>14.986</td>\n",
       "      <td>14.982</td>\n",
       "      <td>14.984</td>\n",
       "      <td>0.000267</td>\n",
       "      <td>19356676158.779999</td>\n",
       "    </tr>\n",
       "    <tr>\n",
       "      <th>1</th>\n",
       "      <td>MA</td>\n",
       "      <td>2009-01-05T00:00:00Z</td>\n",
       "      <td>15.371</td>\n",
       "      <td>15.306</td>\n",
       "      <td>15.3385</td>\n",
       "      <td>0.004238</td>\n",
       "      <td>19806410656.259998</td>\n",
       "    </tr>\n",
       "    <tr>\n",
       "      <th>2</th>\n",
       "      <td>MA</td>\n",
       "      <td>2009-01-06T00:00:00Z</td>\n",
       "      <td>16.25</td>\n",
       "      <td>16.216</td>\n",
       "      <td>16.233</td>\n",
       "      <td>0.002094</td>\n",
       "      <td>20938500943.02</td>\n",
       "    </tr>\n",
       "    <tr>\n",
       "      <th>3</th>\n",
       "      <td>MA</td>\n",
       "      <td>2009-01-07T00:00:00Z</td>\n",
       "      <td>15.202</td>\n",
       "      <td>15.152</td>\n",
       "      <td>15.177</td>\n",
       "      <td>0.003294</td>\n",
       "      <td>19652622135.57</td>\n",
       "    </tr>\n",
       "    <tr>\n",
       "      <th>4</th>\n",
       "      <td>MA</td>\n",
       "      <td>2009-01-08T00:00:00Z</td>\n",
       "      <td>15.314</td>\n",
       "      <td>15.181</td>\n",
       "      <td>15.2475</td>\n",
       "      <td>0.008723</td>\n",
       "      <td>19744378311.779999</td>\n",
       "    </tr>\n",
       "    <tr>\n",
       "      <th>...</th>\n",
       "      <td>...</td>\n",
       "      <td>...</td>\n",
       "      <td>...</td>\n",
       "      <td>...</td>\n",
       "      <td>...</td>\n",
       "      <td>...</td>\n",
       "      <td>...</td>\n",
       "    </tr>\n",
       "    <tr>\n",
       "      <th>763626</th>\n",
       "      <td>CVS</td>\n",
       "      <td>2019-12-30T00:00:00Z</td>\n",
       "      <td>73.72</td>\n",
       "      <td>73.7</td>\n",
       "      <td>73.71</td>\n",
       "      <td>0.000271</td>\n",
       "      <td>95881047315.899994</td>\n",
       "    </tr>\n",
       "    <tr>\n",
       "      <th>763627</th>\n",
       "      <td>CVS</td>\n",
       "      <td>2019-12-31T00:00:00Z</td>\n",
       "      <td>74.27</td>\n",
       "      <td>74.26</td>\n",
       "      <td>74.265</td>\n",
       "      <td>0.000135</td>\n",
       "      <td>96648616080.029999</td>\n",
       "    </tr>\n",
       "    <tr>\n",
       "      <th>763628</th>\n",
       "      <td>CVS</td>\n",
       "      <td>2019-12-31T00:00:00Z</td>\n",
       "      <td>74.27</td>\n",
       "      <td>74.26</td>\n",
       "      <td>74.265</td>\n",
       "      <td>0.000135</td>\n",
       "      <td>96648616080.029999</td>\n",
       "    </tr>\n",
       "    <tr>\n",
       "      <th>763629</th>\n",
       "      <td>CVS</td>\n",
       "      <td>2019-12-31T00:00:00Z</td>\n",
       "      <td>74.27</td>\n",
       "      <td>74.26</td>\n",
       "      <td>74.265</td>\n",
       "      <td>0.000135</td>\n",
       "      <td>96648616080.029999</td>\n",
       "    </tr>\n",
       "    <tr>\n",
       "      <th>763630</th>\n",
       "      <td>CVS</td>\n",
       "      <td>2019-12-31T00:00:00Z</td>\n",
       "      <td>74.27</td>\n",
       "      <td>74.26</td>\n",
       "      <td>74.265</td>\n",
       "      <td>0.000135</td>\n",
       "      <td>96648616080.029999</td>\n",
       "    </tr>\n",
       "  </tbody>\n",
       "</table>\n",
       "<p>763631 rows × 7 columns</p>\n",
       "</div>"
      ],
      "text/plain": [
       "       Ticker Symbol                  Date  Ask Price  Bid Price  Midpoint  \\\n",
       "0                 MA  2009-01-02T00:00:00Z     14.986     14.982    14.984   \n",
       "1                 MA  2009-01-05T00:00:00Z     15.371     15.306   15.3385   \n",
       "2                 MA  2009-01-06T00:00:00Z      16.25     16.216    16.233   \n",
       "3                 MA  2009-01-07T00:00:00Z     15.202     15.152    15.177   \n",
       "4                 MA  2009-01-08T00:00:00Z     15.314     15.181   15.2475   \n",
       "...              ...                   ...        ...        ...       ...   \n",
       "763626           CVS  2019-12-30T00:00:00Z      73.72       73.7     73.71   \n",
       "763627           CVS  2019-12-31T00:00:00Z      74.27      74.26    74.265   \n",
       "763628           CVS  2019-12-31T00:00:00Z      74.27      74.26    74.265   \n",
       "763629           CVS  2019-12-31T00:00:00Z      74.27      74.26    74.265   \n",
       "763630           CVS  2019-12-31T00:00:00Z      74.27      74.26    74.265   \n",
       "\n",
       "        Quoted Spread  Company Market Capitalization  \n",
       "0            0.000267             19356676158.779999  \n",
       "1            0.004238             19806410656.259998  \n",
       "2            0.002094                 20938500943.02  \n",
       "3            0.003294                 19652622135.57  \n",
       "4            0.008723             19744378311.779999  \n",
       "...               ...                            ...  \n",
       "763626       0.000271             95881047315.899994  \n",
       "763627       0.000135             96648616080.029999  \n",
       "763628       0.000135             96648616080.029999  \n",
       "763629       0.000135             96648616080.029999  \n",
       "763630       0.000135             96648616080.029999  \n",
       "\n",
       "[763631 rows x 7 columns]"
      ]
     },
     "execution_count": 586,
     "metadata": {},
     "output_type": "execute_result"
    }
   ],
   "source": [
    "# Final dataset with market data\n",
    "market = pd.merge(spread, market_cap, left_on=['Instrument', 'Date'], right_on=['Instrument', 'Date'])\n",
    "market.rename({'Instrument':'Ticker Symbol'}, axis = 1, inplace = True)\n",
    "market"
   ]
  },
  {
   "cell_type": "markdown",
   "id": "f86432ab",
   "metadata": {
    "pycharm": {
     "name": "#%% md\n"
    }
   },
   "source": [
    "### 3.3 Create final dataset of ESG scores on the basis of retrieved market data"
   ]
  },
  {
   "cell_type": "code",
   "execution_count": 610,
   "id": "5e03fc44",
   "metadata": {
    "pycharm": {
     "name": "#%%\n"
    }
   },
   "outputs": [
    {
     "data": {
      "text/plain": [
       "276"
      ]
     },
     "execution_count": 610,
     "metadata": {},
     "output_type": "execute_result"
    }
   ],
   "source": [
    "to_keep = list(market['Ticker Symbol'].unique())\n",
    "len(companies)"
   ]
  },
  {
   "cell_type": "code",
   "execution_count": 611,
   "id": "36b8a674",
   "metadata": {
    "pycharm": {
     "name": "#%%\n"
    }
   },
   "outputs": [
    {
     "name": "stderr",
     "output_type": "stream",
     "text": [
      "100%|██████████| 5647/5647 [00:02<00:00, 2483.92it/s]\n"
     ]
    }
   ],
   "source": [
    "# Keeping only data from 2009 to 2021 and for companies of which we have all market data. \n",
    "# We remove also those companies that have some missing values in the ESG scores (to_exclude_with_na)\n",
    "\n",
    "esg = dataset.copy()\n",
    "for i in tqdm(range(len(esg))):\n",
    "    if (esg['Ticker Symbol'][i] not in to_keep):\n",
    "        esg = esg.drop(i)\n",
    "esg.reset_index(inplace = True, drop = True)"
   ]
  },
  {
   "cell_type": "code",
   "execution_count": 612,
   "id": "bc748ce7",
   "metadata": {
    "pycharm": {
     "name": "#%%\n"
    }
   },
   "outputs": [
    {
     "data": {
      "text/plain": [
       "13"
      ]
     },
     "execution_count": 612,
     "metadata": {},
     "output_type": "execute_result"
    }
   ],
   "source": [
    "# Checking for last companies with null values\n",
    "filt = esg.groupby('Ticker Symbol').count()['ESG Score']\n",
    "filt= filt[filt <11]\n",
    "to_exclude_with_na = list(filt.keys())\n",
    "len(to_exclude_with_na)"
   ]
  },
  {
   "cell_type": "code",
   "execution_count": 613,
   "id": "a018070b",
   "metadata": {
    "pycharm": {
     "name": "#%%\n"
    }
   },
   "outputs": [
    {
     "name": "stderr",
     "output_type": "stream",
     "text": [
      "100%|██████████| 3307/3307 [00:00<00:00, 17284.32it/s]\n"
     ]
    },
    {
     "data": {
      "text/html": [
       "<div>\n",
       "<style scoped>\n",
       "    .dataframe tbody tr th:only-of-type {\n",
       "        vertical-align: middle;\n",
       "    }\n",
       "\n",
       "    .dataframe tbody tr th {\n",
       "        vertical-align: top;\n",
       "    }\n",
       "\n",
       "    .dataframe thead th {\n",
       "        text-align: right;\n",
       "    }\n",
       "</style>\n",
       "<table border=\"1\" class=\"dataframe\">\n",
       "  <thead>\n",
       "    <tr style=\"text-align: right;\">\n",
       "      <th></th>\n",
       "      <th>Instrument</th>\n",
       "      <th>CUSIP</th>\n",
       "      <th>Ticker Symbol</th>\n",
       "      <th>Company Common Name</th>\n",
       "      <th>Country of Incorporation</th>\n",
       "      <th>Date</th>\n",
       "      <th>ESG Score</th>\n",
       "      <th>ESG Score Grade</th>\n",
       "      <th>Environmental Pillar Score</th>\n",
       "      <th>Social Pillar Score</th>\n",
       "      <th>Governance Pillar Score</th>\n",
       "      <th>Environmental Pillar Score Grade</th>\n",
       "      <th>Social Pillar Score Grade</th>\n",
       "      <th>Governance Pillar Score Grade</th>\n",
       "    </tr>\n",
       "  </thead>\n",
       "  <tbody>\n",
       "    <tr>\n",
       "      <th>0</th>\n",
       "      <td>ECL.N</td>\n",
       "      <td>278865100</td>\n",
       "      <td>ECL</td>\n",
       "      <td>Ecolab Inc</td>\n",
       "      <td>United States</td>\n",
       "      <td>2020-12-31T00:00:00Z</td>\n",
       "      <td>76.396235</td>\n",
       "      <td>A-</td>\n",
       "      <td>74.867451</td>\n",
       "      <td>89.474752</td>\n",
       "      <td>56.936266</td>\n",
       "      <td>B+</td>\n",
       "      <td>A</td>\n",
       "      <td>B-</td>\n",
       "    </tr>\n",
       "    <tr>\n",
       "      <th>1</th>\n",
       "      <td>ECL.N</td>\n",
       "      <td>278865100</td>\n",
       "      <td>ECL</td>\n",
       "      <td>Ecolab Inc</td>\n",
       "      <td>United States</td>\n",
       "      <td>2019-12-31T00:00:00Z</td>\n",
       "      <td>71.893076</td>\n",
       "      <td>B+</td>\n",
       "      <td>72.852101</td>\n",
       "      <td>84.821631</td>\n",
       "      <td>48.292081</td>\n",
       "      <td>B+</td>\n",
       "      <td>A</td>\n",
       "      <td>C+</td>\n",
       "    </tr>\n",
       "    <tr>\n",
       "      <th>2</th>\n",
       "      <td>ECL.N</td>\n",
       "      <td>278865100</td>\n",
       "      <td>ECL</td>\n",
       "      <td>Ecolab Inc</td>\n",
       "      <td>United States</td>\n",
       "      <td>2018-12-31T00:00:00Z</td>\n",
       "      <td>71.100574</td>\n",
       "      <td>B+</td>\n",
       "      <td>70.981378</td>\n",
       "      <td>84.785085</td>\n",
       "      <td>48.123510</td>\n",
       "      <td>B+</td>\n",
       "      <td>A</td>\n",
       "      <td>C+</td>\n",
       "    </tr>\n",
       "    <tr>\n",
       "      <th>3</th>\n",
       "      <td>ECL.N</td>\n",
       "      <td>278865100</td>\n",
       "      <td>ECL</td>\n",
       "      <td>Ecolab Inc</td>\n",
       "      <td>United States</td>\n",
       "      <td>2017-12-31T00:00:00Z</td>\n",
       "      <td>67.354841</td>\n",
       "      <td>B+</td>\n",
       "      <td>63.186166</td>\n",
       "      <td>85.466572</td>\n",
       "      <td>44.030179</td>\n",
       "      <td>B</td>\n",
       "      <td>A</td>\n",
       "      <td>C+</td>\n",
       "    </tr>\n",
       "    <tr>\n",
       "      <th>4</th>\n",
       "      <td>ECL.N</td>\n",
       "      <td>278865100</td>\n",
       "      <td>ECL</td>\n",
       "      <td>Ecolab Inc</td>\n",
       "      <td>United States</td>\n",
       "      <td>2016-12-31T00:00:00Z</td>\n",
       "      <td>70.787790</td>\n",
       "      <td>B+</td>\n",
       "      <td>65.554546</td>\n",
       "      <td>87.876433</td>\n",
       "      <td>51.077428</td>\n",
       "      <td>B</td>\n",
       "      <td>A</td>\n",
       "      <td>B-</td>\n",
       "    </tr>\n",
       "    <tr>\n",
       "      <th>...</th>\n",
       "      <td>...</td>\n",
       "      <td>...</td>\n",
       "      <td>...</td>\n",
       "      <td>...</td>\n",
       "      <td>...</td>\n",
       "      <td>...</td>\n",
       "      <td>...</td>\n",
       "      <td>...</td>\n",
       "      <td>...</td>\n",
       "      <td>...</td>\n",
       "      <td>...</td>\n",
       "      <td>...</td>\n",
       "      <td>...</td>\n",
       "      <td>...</td>\n",
       "    </tr>\n",
       "    <tr>\n",
       "      <th>3146</th>\n",
       "      <td>PM.N</td>\n",
       "      <td>718172109</td>\n",
       "      <td>PM</td>\n",
       "      <td>Philip Morris International Inc</td>\n",
       "      <td>United States</td>\n",
       "      <td>2013-12-31T00:00:00Z</td>\n",
       "      <td>60.839452</td>\n",
       "      <td>B</td>\n",
       "      <td>61.547546</td>\n",
       "      <td>55.272797</td>\n",
       "      <td>69.678490</td>\n",
       "      <td>B</td>\n",
       "      <td>B-</td>\n",
       "      <td>B+</td>\n",
       "    </tr>\n",
       "    <tr>\n",
       "      <th>3147</th>\n",
       "      <td>PM.N</td>\n",
       "      <td>718172109</td>\n",
       "      <td>PM</td>\n",
       "      <td>Philip Morris International Inc</td>\n",
       "      <td>United States</td>\n",
       "      <td>2012-12-31T00:00:00Z</td>\n",
       "      <td>62.985173</td>\n",
       "      <td>B</td>\n",
       "      <td>64.400437</td>\n",
       "      <td>61.959435</td>\n",
       "      <td>63.200631</td>\n",
       "      <td>B</td>\n",
       "      <td>B</td>\n",
       "      <td>B</td>\n",
       "    </tr>\n",
       "    <tr>\n",
       "      <th>3148</th>\n",
       "      <td>PM.N</td>\n",
       "      <td>718172109</td>\n",
       "      <td>PM</td>\n",
       "      <td>Philip Morris International Inc</td>\n",
       "      <td>United States</td>\n",
       "      <td>2011-12-31T00:00:00Z</td>\n",
       "      <td>65.951644</td>\n",
       "      <td>B</td>\n",
       "      <td>65.814394</td>\n",
       "      <td>68.679577</td>\n",
       "      <td>61.389357</td>\n",
       "      <td>B</td>\n",
       "      <td>B+</td>\n",
       "      <td>B</td>\n",
       "    </tr>\n",
       "    <tr>\n",
       "      <th>3149</th>\n",
       "      <td>PM.N</td>\n",
       "      <td>718172109</td>\n",
       "      <td>PM</td>\n",
       "      <td>Philip Morris International Inc</td>\n",
       "      <td>United States</td>\n",
       "      <td>2010-12-31T00:00:00Z</td>\n",
       "      <td>47.726856</td>\n",
       "      <td>C+</td>\n",
       "      <td>56.060606</td>\n",
       "      <td>55.262951</td>\n",
       "      <td>25.539035</td>\n",
       "      <td>B-</td>\n",
       "      <td>B-</td>\n",
       "      <td>C-</td>\n",
       "    </tr>\n",
       "    <tr>\n",
       "      <th>3150</th>\n",
       "      <td>PM.N</td>\n",
       "      <td>718172109</td>\n",
       "      <td>PM</td>\n",
       "      <td>Philip Morris International Inc</td>\n",
       "      <td>United States</td>\n",
       "      <td>2009-12-31T00:00:00Z</td>\n",
       "      <td>56.530248</td>\n",
       "      <td>B-</td>\n",
       "      <td>58.275058</td>\n",
       "      <td>59.871330</td>\n",
       "      <td>48.838310</td>\n",
       "      <td>B-</td>\n",
       "      <td>B</td>\n",
       "      <td>C+</td>\n",
       "    </tr>\n",
       "  </tbody>\n",
       "</table>\n",
       "<p>3151 rows × 14 columns</p>\n",
       "</div>"
      ],
      "text/plain": [
       "     Instrument      CUSIP Ticker Symbol              Company Common Name  \\\n",
       "0         ECL.N  278865100           ECL                       Ecolab Inc   \n",
       "1         ECL.N  278865100           ECL                       Ecolab Inc   \n",
       "2         ECL.N  278865100           ECL                       Ecolab Inc   \n",
       "3         ECL.N  278865100           ECL                       Ecolab Inc   \n",
       "4         ECL.N  278865100           ECL                       Ecolab Inc   \n",
       "...         ...        ...           ...                              ...   \n",
       "3146       PM.N  718172109            PM  Philip Morris International Inc   \n",
       "3147       PM.N  718172109            PM  Philip Morris International Inc   \n",
       "3148       PM.N  718172109            PM  Philip Morris International Inc   \n",
       "3149       PM.N  718172109            PM  Philip Morris International Inc   \n",
       "3150       PM.N  718172109            PM  Philip Morris International Inc   \n",
       "\n",
       "     Country of Incorporation                  Date  ESG Score  \\\n",
       "0               United States  2020-12-31T00:00:00Z  76.396235   \n",
       "1               United States  2019-12-31T00:00:00Z  71.893076   \n",
       "2               United States  2018-12-31T00:00:00Z  71.100574   \n",
       "3               United States  2017-12-31T00:00:00Z  67.354841   \n",
       "4               United States  2016-12-31T00:00:00Z  70.787790   \n",
       "...                       ...                   ...        ...   \n",
       "3146            United States  2013-12-31T00:00:00Z  60.839452   \n",
       "3147            United States  2012-12-31T00:00:00Z  62.985173   \n",
       "3148            United States  2011-12-31T00:00:00Z  65.951644   \n",
       "3149            United States  2010-12-31T00:00:00Z  47.726856   \n",
       "3150            United States  2009-12-31T00:00:00Z  56.530248   \n",
       "\n",
       "     ESG Score Grade  Environmental Pillar Score  Social Pillar Score  \\\n",
       "0                 A-                   74.867451            89.474752   \n",
       "1                 B+                   72.852101            84.821631   \n",
       "2                 B+                   70.981378            84.785085   \n",
       "3                 B+                   63.186166            85.466572   \n",
       "4                 B+                   65.554546            87.876433   \n",
       "...              ...                         ...                  ...   \n",
       "3146               B                   61.547546            55.272797   \n",
       "3147               B                   64.400437            61.959435   \n",
       "3148               B                   65.814394            68.679577   \n",
       "3149              C+                   56.060606            55.262951   \n",
       "3150              B-                   58.275058            59.871330   \n",
       "\n",
       "      Governance Pillar Score Environmental Pillar Score Grade  \\\n",
       "0                   56.936266                               B+   \n",
       "1                   48.292081                               B+   \n",
       "2                   48.123510                               B+   \n",
       "3                   44.030179                                B   \n",
       "4                   51.077428                                B   \n",
       "...                       ...                              ...   \n",
       "3146                69.678490                                B   \n",
       "3147                63.200631                                B   \n",
       "3148                61.389357                                B   \n",
       "3149                25.539035                               B-   \n",
       "3150                48.838310                               B-   \n",
       "\n",
       "     Social Pillar Score Grade Governance Pillar Score Grade  \n",
       "0                            A                            B-  \n",
       "1                            A                            C+  \n",
       "2                            A                            C+  \n",
       "3                            A                            C+  \n",
       "4                            A                            B-  \n",
       "...                        ...                           ...  \n",
       "3146                        B-                            B+  \n",
       "3147                         B                             B  \n",
       "3148                        B+                             B  \n",
       "3149                        B-                            C-  \n",
       "3150                         B                            C+  \n",
       "\n",
       "[3151 rows x 14 columns]"
      ]
     },
     "execution_count": 613,
     "metadata": {},
     "output_type": "execute_result"
    }
   ],
   "source": [
    "# We can observe that there are some companies that present null ESG scores in some years, so we keep only those that have\n",
    "# at least esg scores 11 times (11 years)\n",
    "\n",
    "for i in tqdm(range(len(esg))):\n",
    "    if (esg['Ticker Symbol'][i] in to_exclude_with_na):\n",
    "        esg = esg.drop(i)\n",
    "esg.reset_index(inplace = True, drop = True)\n",
    "esg.to_csv('ESG_final.csv')\n",
    "esg"
   ]
  },
  {
   "cell_type": "markdown",
   "id": "8913c5a1",
   "metadata": {
    "pycharm": {
     "name": "#%% md\n"
    }
   },
   "source": [
    "## 4. Scraping Google trends for ESG terms<a name=\"trends_esg\"></a>"
   ]
  },
  {
   "cell_type": "markdown",
   "id": "c7d59a9e",
   "metadata": {
    "pycharm": {
     "name": "#%% md\n"
    }
   },
   "source": [
    "We scrape the search volumes for different terms divided in four categories: ESG, environment, social, and governance. The terms are the same as the ones considered in the paper \"Do sustainable company stock prices increase with ESG scrutiny? Evidence using social media\", according to which they are based on the metrics within each score formulated by Refinitiv."
   ]
  },
  {
   "cell_type": "code",
   "execution_count": 1,
   "id": "ce0af16a",
   "metadata": {
    "pycharm": {
     "name": "#%%\n"
    }
   },
   "outputs": [],
   "source": [
    "ESG_kw = ['CSR','ESG', 'ESG investing', 'ESG screening', 'Ethical investing', 'Green investments',\n",
    "          'Impact investing', 'Responsible investing', 'Responsible investments',\n",
    "          'Socially responsible investing', 'Sustainability', 'Sustainable', 'Sustainable investments']\n",
    "\n",
    "environment_kw = ['Acid rain', 'Biodiversity', 'Carbon footprint', 'Climate change', 'Conservation',\n",
    "                  'Deforestation', 'Endangered species', 'Environment', 'Global warming', 'Globalization',\n",
    "                  'Greenhouse gas', 'Ozone layer', 'Pollution', 'Renewable energy']\n",
    "\n",
    "social_kw = ['Animal testing', 'Business disabilities', 'Business ethnicity', 'Career development',\n",
    "             'Child labor', 'Customer complaints', 'Data privacy', 'Equal rights', 'Equality',\n",
    "             'Fair trade', 'Gender equality', 'Health and safety', 'Human rights', 'Inequality',\n",
    "             'Labor practices', 'LGBT business', 'Product quality', 'Salary gap', 'Social impact',\n",
    "             'Social responsibility', 'Social rights', 'Staff turnover', 'Work life balance',\n",
    "             'Working conditions']\n",
    "\n",
    "governance_kw = ['Board composition', 'Board members', 'Board of directors', 'Code of business conduct',\n",
    "                 'Company polices', 'Company transparency', 'Corporate compliance', 'Corporate fraud',\n",
    "                 'Corporate governance', 'CSR strategy', 'Executive compensation', 'Litigation risk',\n",
    "                 'Management structure', 'Public disclosure', 'Risk management', 'Shareholder rights',\n",
    "                 'Shareholders interest', 'Sustainable governance', 'Sustainable growth', 'Takeover defenses', \n",
    "                 'Tax reporting', 'Whistleblower']"
   ]
  },
  {
   "cell_type": "code",
   "execution_count": 2,
   "id": "826ee889",
   "metadata": {
    "pycharm": {
     "name": "#%%\n"
    }
   },
   "outputs": [],
   "source": [
    "# functions for scraping\n",
    "\n",
    "def build_url(timeframe, keyword, geo = 'US'):\n",
    "    \"\"\"\n",
    "    Takes a time frame (as string), a keyword and a geographic setting and returns the URL of the\n",
    "    corresponding Google Trends page\n",
    "    \"\"\"\n",
    "    return f'https://trends.google.com/trends/explore?date={timeframe}&geo={geo}&q={keyword}'\n",
    "\n",
    "def download_trends(url, driver):\n",
    "    \"\"\"\n",
    "    Takes a url and a driver and downloads a csv file of the google trend page\n",
    "    \"\"\"\n",
    "    driver.get(url) # get the page\n",
    "    time.sleep(2) # wait for the website to load\n",
    "    \n",
    "    attempt = 0\n",
    "    button = None\n",
    "    while attempt < 5: # try 5 times to find the download button\n",
    "        try:\n",
    "            button = driver.find_element_by_xpath('/html/body/div[3]/div[2]/div/md-content/div/div/div[1]/trends-widget/ng-include/widget/div/div/div/widget-actions/div/button[1]/i')\n",
    "            attempt = 5\n",
    "        except:\n",
    "            if attempt == 4:\n",
    "                print('failed for url:', url) # print failed if max number of tries is exceeded\n",
    "            driver.get(url) # if failed re-load the page\n",
    "            time.sleep(2) # wait for the website to load\n",
    "            attempt += 1\n",
    "    if button != None:\n",
    "        attempt = 0\n",
    "        while attempt < 5: # try 5 times to click on the button\n",
    "            try:\n",
    "                button.click()\n",
    "                attempt = 5\n",
    "            except:\n",
    "                attempt += 1\n",
    "                \n",
    "def build_driver(download_dir = None):\n",
    "    \"\"\"\n",
    "    Builds a browser environment. If a download directory path is given, it sets it as the\n",
    "    default download directory\n",
    "    \"\"\"\n",
    "    options = webdriver.ChromeOptions()\n",
    "    options.add_argument(\"--start-maximized\")\n",
    "    if download_dir != None:\n",
    "        prefs = {\"profile.default_content_settings.popups\": 0,\n",
    "                 \"download.default_directory\": download_dir + os.path.sep, # IMPORTANT - ENDING SLASH V IMPORTANT\n",
    "                 \"directory_upgrade\": True}\n",
    "        options.add_experimental_option(\"prefs\", prefs)\n",
    "    return webdriver.Chrome(ChromeDriverManager().install(), options = options)"
   ]
  },
  {
   "cell_type": "markdown",
   "id": "67f0e4fc",
   "metadata": {
    "pycharm": {
     "name": "#%% md\n"
    }
   },
   "source": [
    "### 4.1 Daily data"
   ]
  },
  {
   "cell_type": "markdown",
   "id": "f845d29f",
   "metadata": {
    "pycharm": {
     "name": "#%% md\n"
    }
   },
   "source": [
    "Google Trends limits the retrieval of daily values to a batch of nine months. Hence, to obtain daily values for the entire time period for each term we have to:\n",
    "- collect daily values (in intervals of eight months)\n",
    "- collect monthly values for each month\n",
    "- weight the daily search volume is by its monthly value, thus creating comparable daily values for the entire time period in the range 0 to 100"
   ]
  },
  {
   "cell_type": "code",
   "execution_count": 6,
   "id": "ecd549c3",
   "metadata": {
    "pycharm": {
     "name": "#%%\n"
    }
   },
   "outputs": [],
   "source": [
    "# building a list of time frames, each eight-month long\n",
    "times = []\n",
    "\n",
    "starting = datetime(2009, 1, 1) # starting date\n",
    "increment = 8 # month interval\n",
    "last_date = datetime(2019, 12, 31)\n",
    "while starting < last_date:\n",
    "    year = starting.year + (starting.month + increment - 1) // 12 # year of next starting date\n",
    "    month = (starting.month + increment - 1) % 12 + 1 # month of next starting date\n",
    "    next_starting = datetime(year, month, 1) # next starting date\n",
    "    after8months = next_starting - timedelta(days = 1) # ending date of thsi period\n",
    "    if after8months > last_date:\n",
    "        after8months = last_date\n",
    "    times.append(starting.strftime('%Y-%m-%d')+' '+after8months.strftime('%Y-%m-%d'))\n",
    "    starting = next_starting"
   ]
  },
  {
   "cell_type": "code",
   "execution_count": 7,
   "id": "106a518c",
   "metadata": {
    "pycharm": {
     "name": "#%%\n"
    }
   },
   "outputs": [],
   "source": [
    "# set keywords\n",
    "keywords = (ESG_kw + environment_kw + social_kw + governance_kw)"
   ]
  },
  {
   "cell_type": "markdown",
   "id": "5deac96e",
   "metadata": {
    "pycharm": {
     "name": "#%% md\n"
    }
   },
   "source": [
    "The code below was run in multiple batches, because even with the sleeping time added, the code would sometimes get blocked because of too many requests. We do not recommend running it, it is very time consuming. We provide the obtained csv files to be loaded in the cells below."
   ]
  },
  {
   "cell_type": "code",
   "execution_count": null,
   "id": "86e9b261",
   "metadata": {
    "pycharm": {
     "name": "#%%\n"
    }
   },
   "outputs": [],
   "source": [
    "# for i, w in enumerate(keywords):\n",
    "#     if i%3 == 0 and i != 0:\n",
    "#         time.sleep(random.randint(60, 120))\n",
    "#     if i%7 == 0 and i%3 != 0 and i != 0:\n",
    "#         time.sleep(random.randint(300, 600))\n",
    "        \n",
    "#     # create download directory for the specific keyword\n",
    "#     os.mkdir(os.path.join(os.getcwd(), 'trends', 'daily',w.replace(\" \", \"_\")))\n",
    "    \n",
    "#     # create browser\n",
    "#     driver = build_driver(os.path.join(os.getcwd(), 'trends', 'daily',w.replace(\" \", \"_\")))\n",
    "    \n",
    "#     # loop on all time intervals\n",
    "#     for t in times:\n",
    "#         url = build_url(t, w)\n",
    "#         download_trends(url, driver) # download trend csv"
   ]
  },
  {
   "cell_type": "code",
   "execution_count": 8,
   "id": "70dce6cc",
   "metadata": {
    "pycharm": {
     "name": "#%%\n"
    }
   },
   "outputs": [],
   "source": [
    "def format_df(df, w):\n",
    "    \"\"\"\n",
    "    Function to properly load the saved csv files. Takes a dataframe and its corresponding keyword\n",
    "    \"\"\"\n",
    "    if df.columns[0] == 'Giorno':\n",
    "        df = df.set_index('Giorno')\n",
    "        df.index.name = 'Day'\n",
    "        df = df.rename(columns = {f'{w}: (Stati Uniti)':f'{w}_daily'})\n",
    "    else:\n",
    "        df = df.set_index('Day')\n",
    "        df = df.rename(columns = {f'{w}: (United States)':f'{w}_daily'})\n",
    "    return df"
   ]
  },
  {
   "cell_type": "code",
   "execution_count": 13,
   "id": "9a30ec88",
   "metadata": {
    "pycharm": {
     "name": "#%%\n"
    }
   },
   "outputs": [
    {
     "data": {
      "text/html": [
       "<div>\n",
       "<style scoped>\n",
       "    .dataframe tbody tr th:only-of-type {\n",
       "        vertical-align: middle;\n",
       "    }\n",
       "\n",
       "    .dataframe tbody tr th {\n",
       "        vertical-align: top;\n",
       "    }\n",
       "\n",
       "    .dataframe thead th {\n",
       "        text-align: right;\n",
       "    }\n",
       "</style>\n",
       "<table border=\"1\" class=\"dataframe\">\n",
       "  <thead>\n",
       "    <tr style=\"text-align: right;\">\n",
       "      <th></th>\n",
       "      <th>CSR_daily</th>\n",
       "      <th>ESG_daily</th>\n",
       "      <th>ESG investing_daily</th>\n",
       "      <th>ESG screening_daily</th>\n",
       "      <th>Ethical investing_daily</th>\n",
       "      <th>Green investments_daily</th>\n",
       "      <th>Impact investing_daily</th>\n",
       "      <th>Responsible investing_daily</th>\n",
       "      <th>Responsible investments_daily</th>\n",
       "      <th>Socially responsible investing_daily</th>\n",
       "      <th>...</th>\n",
       "      <th>Management structure_daily</th>\n",
       "      <th>Public disclosure_daily</th>\n",
       "      <th>Risk management_daily</th>\n",
       "      <th>Shareholder rights_daily</th>\n",
       "      <th>Shareholders interest_daily</th>\n",
       "      <th>Sustainable governance_daily</th>\n",
       "      <th>Sustainable growth_daily</th>\n",
       "      <th>Takeover defenses_daily</th>\n",
       "      <th>Tax reporting_daily</th>\n",
       "      <th>Whistleblower_daily</th>\n",
       "    </tr>\n",
       "    <tr>\n",
       "      <th>Day</th>\n",
       "      <th></th>\n",
       "      <th></th>\n",
       "      <th></th>\n",
       "      <th></th>\n",
       "      <th></th>\n",
       "      <th></th>\n",
       "      <th></th>\n",
       "      <th></th>\n",
       "      <th></th>\n",
       "      <th></th>\n",
       "      <th></th>\n",
       "      <th></th>\n",
       "      <th></th>\n",
       "      <th></th>\n",
       "      <th></th>\n",
       "      <th></th>\n",
       "      <th></th>\n",
       "      <th></th>\n",
       "      <th></th>\n",
       "      <th></th>\n",
       "      <th></th>\n",
       "    </tr>\n",
       "  </thead>\n",
       "  <tbody>\n",
       "    <tr>\n",
       "      <th>2009-01-01</th>\n",
       "      <td>0</td>\n",
       "      <td>0</td>\n",
       "      <td>0</td>\n",
       "      <td>0</td>\n",
       "      <td>0</td>\n",
       "      <td>0</td>\n",
       "      <td>0</td>\n",
       "      <td>0</td>\n",
       "      <td>0</td>\n",
       "      <td>0</td>\n",
       "      <td>...</td>\n",
       "      <td>0</td>\n",
       "      <td>0</td>\n",
       "      <td>56</td>\n",
       "      <td>0</td>\n",
       "      <td>0</td>\n",
       "      <td>0</td>\n",
       "      <td>0</td>\n",
       "      <td>0</td>\n",
       "      <td>0</td>\n",
       "      <td>0</td>\n",
       "    </tr>\n",
       "    <tr>\n",
       "      <th>2009-01-02</th>\n",
       "      <td>0</td>\n",
       "      <td>0</td>\n",
       "      <td>0</td>\n",
       "      <td>0</td>\n",
       "      <td>0</td>\n",
       "      <td>0</td>\n",
       "      <td>23</td>\n",
       "      <td>0</td>\n",
       "      <td>0</td>\n",
       "      <td>10</td>\n",
       "      <td>...</td>\n",
       "      <td>0</td>\n",
       "      <td>0</td>\n",
       "      <td>46</td>\n",
       "      <td>0</td>\n",
       "      <td>0</td>\n",
       "      <td>0</td>\n",
       "      <td>82</td>\n",
       "      <td>0</td>\n",
       "      <td>22</td>\n",
       "      <td>0</td>\n",
       "    </tr>\n",
       "    <tr>\n",
       "      <th>2009-01-03</th>\n",
       "      <td>33</td>\n",
       "      <td>0</td>\n",
       "      <td>0</td>\n",
       "      <td>0</td>\n",
       "      <td>0</td>\n",
       "      <td>26</td>\n",
       "      <td>0</td>\n",
       "      <td>0</td>\n",
       "      <td>39</td>\n",
       "      <td>0</td>\n",
       "      <td>...</td>\n",
       "      <td>34</td>\n",
       "      <td>0</td>\n",
       "      <td>18</td>\n",
       "      <td>41</td>\n",
       "      <td>0</td>\n",
       "      <td>0</td>\n",
       "      <td>0</td>\n",
       "      <td>0</td>\n",
       "      <td>0</td>\n",
       "      <td>0</td>\n",
       "    </tr>\n",
       "    <tr>\n",
       "      <th>2009-01-04</th>\n",
       "      <td>33</td>\n",
       "      <td>0</td>\n",
       "      <td>0</td>\n",
       "      <td>0</td>\n",
       "      <td>0</td>\n",
       "      <td>0</td>\n",
       "      <td>0</td>\n",
       "      <td>38</td>\n",
       "      <td>0</td>\n",
       "      <td>13</td>\n",
       "      <td>...</td>\n",
       "      <td>0</td>\n",
       "      <td>0</td>\n",
       "      <td>20</td>\n",
       "      <td>0</td>\n",
       "      <td>0</td>\n",
       "      <td>0</td>\n",
       "      <td>0</td>\n",
       "      <td>0</td>\n",
       "      <td>20</td>\n",
       "      <td>0</td>\n",
       "    </tr>\n",
       "    <tr>\n",
       "      <th>2009-01-05</th>\n",
       "      <td>44</td>\n",
       "      <td>33</td>\n",
       "      <td>0</td>\n",
       "      <td>0</td>\n",
       "      <td>0</td>\n",
       "      <td>0</td>\n",
       "      <td>0</td>\n",
       "      <td>0</td>\n",
       "      <td>0</td>\n",
       "      <td>0</td>\n",
       "      <td>...</td>\n",
       "      <td>0</td>\n",
       "      <td>0</td>\n",
       "      <td>54</td>\n",
       "      <td>43</td>\n",
       "      <td>0</td>\n",
       "      <td>12</td>\n",
       "      <td>0</td>\n",
       "      <td>23</td>\n",
       "      <td>0</td>\n",
       "      <td>31</td>\n",
       "    </tr>\n",
       "  </tbody>\n",
       "</table>\n",
       "<p>5 rows × 73 columns</p>\n",
       "</div>"
      ],
      "text/plain": [
       "            CSR_daily  ESG_daily  ESG investing_daily  ESG screening_daily  \\\n",
       "Day                                                                          \n",
       "2009-01-01          0          0                    0                    0   \n",
       "2009-01-02          0          0                    0                    0   \n",
       "2009-01-03         33          0                    0                    0   \n",
       "2009-01-04         33          0                    0                    0   \n",
       "2009-01-05         44         33                    0                    0   \n",
       "\n",
       "            Ethical investing_daily  Green investments_daily  \\\n",
       "Day                                                            \n",
       "2009-01-01                        0                        0   \n",
       "2009-01-02                        0                        0   \n",
       "2009-01-03                        0                       26   \n",
       "2009-01-04                        0                        0   \n",
       "2009-01-05                        0                        0   \n",
       "\n",
       "            Impact investing_daily  Responsible investing_daily  \\\n",
       "Day                                                               \n",
       "2009-01-01                       0                            0   \n",
       "2009-01-02                      23                            0   \n",
       "2009-01-03                       0                            0   \n",
       "2009-01-04                       0                           38   \n",
       "2009-01-05                       0                            0   \n",
       "\n",
       "            Responsible investments_daily  \\\n",
       "Day                                         \n",
       "2009-01-01                              0   \n",
       "2009-01-02                              0   \n",
       "2009-01-03                             39   \n",
       "2009-01-04                              0   \n",
       "2009-01-05                              0   \n",
       "\n",
       "            Socially responsible investing_daily  ...  \\\n",
       "Day                                               ...   \n",
       "2009-01-01                                     0  ...   \n",
       "2009-01-02                                    10  ...   \n",
       "2009-01-03                                     0  ...   \n",
       "2009-01-04                                    13  ...   \n",
       "2009-01-05                                     0  ...   \n",
       "\n",
       "            Management structure_daily  Public disclosure_daily  \\\n",
       "Day                                                               \n",
       "2009-01-01                           0                        0   \n",
       "2009-01-02                           0                        0   \n",
       "2009-01-03                          34                        0   \n",
       "2009-01-04                           0                        0   \n",
       "2009-01-05                           0                        0   \n",
       "\n",
       "            Risk management_daily  Shareholder rights_daily  \\\n",
       "Day                                                           \n",
       "2009-01-01                     56                         0   \n",
       "2009-01-02                     46                         0   \n",
       "2009-01-03                     18                        41   \n",
       "2009-01-04                     20                         0   \n",
       "2009-01-05                     54                        43   \n",
       "\n",
       "            Shareholders interest_daily  Sustainable governance_daily  \\\n",
       "Day                                                                     \n",
       "2009-01-01                            0                             0   \n",
       "2009-01-02                            0                             0   \n",
       "2009-01-03                            0                             0   \n",
       "2009-01-04                            0                             0   \n",
       "2009-01-05                            0                            12   \n",
       "\n",
       "            Sustainable growth_daily  Takeover defenses_daily  \\\n",
       "Day                                                             \n",
       "2009-01-01                         0                        0   \n",
       "2009-01-02                        82                        0   \n",
       "2009-01-03                         0                        0   \n",
       "2009-01-04                         0                        0   \n",
       "2009-01-05                         0                       23   \n",
       "\n",
       "            Tax reporting_daily  Whistleblower_daily  \n",
       "Day                                                   \n",
       "2009-01-01                    0                    0  \n",
       "2009-01-02                   22                    0  \n",
       "2009-01-03                    0                    0  \n",
       "2009-01-04                   20                    0  \n",
       "2009-01-05                    0                   31  \n",
       "\n",
       "[5 rows x 73 columns]"
      ]
     },
     "execution_count": 13,
     "metadata": {},
     "output_type": "execute_result"
    }
   ],
   "source": [
    "daily = pd.DataFrame()\n",
    "\n",
    "for w in keywords: # loop over all keywords\n",
    "    daily_word = pd.read_csv(os.getcwd()+f'/trends/daily/{w.replace(\" \", \"_\")}/multiTimeline.csv', header = 1)\n",
    "    daily_word = format_df(daily_word, w) # load and format the first dataframe\n",
    "\n",
    "    for i in range(1, len(times)): # loop over all time intervals\n",
    "        new_df = pd.read_csv(os.getcwd()+f'/trends/daily/{w.replace(\" \", \"_\")}/multiTimeline ({i}).csv', header = 1)\n",
    "        new_df = format_df(new_df, w) # load and format the df\n",
    "        \n",
    "        daily_word = pd.concat([daily_word, new_df]) # concat each df ater the other\n",
    "        \n",
    "    daily = pd.concat([daily, daily_word], axis = 1) # add the new df as a column of the total df\n",
    "\n",
    "daily['Whistleblower_daily'] = daily['Whistleblower_daily'].replace('< 1',0)\n",
    "daily['Whistleblower_daily'] = daily['Whistleblower_daily'].astype(int)\n",
    "daily.head()"
   ]
  },
  {
   "cell_type": "markdown",
   "id": "45c1819e",
   "metadata": {
    "pycharm": {
     "name": "#%% md\n"
    }
   },
   "source": [
    "### 4.2 Monthly data"
   ]
  },
  {
   "cell_type": "markdown",
   "id": "efa4ebc7",
   "metadata": {
    "pycharm": {
     "name": "#%% md\n"
    }
   },
   "source": [
    "The code below was run in multiple batches, because even with the sleeping time added, the code would sometimes get blocked because of too many requests. We do not recommend running it, it is very time consuming. We provide the obtained csv files to be loaded in the cells below."
   ]
  },
  {
   "cell_type": "code",
   "execution_count": null,
   "id": "4ffc0482",
   "metadata": {
    "pycharm": {
     "name": "#%%\n"
    }
   },
   "outputs": [],
   "source": [
    "# for i, w in enumerate(keywords):\n",
    "#     # create download directory for the specific keyword\n",
    "#     os.mkdir(os.path.join(os.getcwd(), 'trends', 'monthly',w.replace(\" \", \"_\")))\n",
    "    \n",
    "#     # create browser\n",
    "#     driver = build_driver(os.path.join(os.getcwd(), 'trends', 'monthly',w.replace(\" \", \"_\")))\n",
    "    \n",
    "#     # build urls\n",
    "#     url = build_url('2009-01-01 2019-12-31', w)\n",
    "#     download_trends(url, driver)\n",
    "    \n",
    "#     if i%7 == 0 and i != 0:\n",
    "#         time.sleep(random.randint(300, 600))\n",
    "#     if i%3 == 0 and i%7 != 0 and i !=0:\n",
    "#         time.sleep(random.randint(30, 60))\n",
    "#     else:\n",
    "#         time.sleep(random.randint(10, 30))"
   ]
  },
  {
   "cell_type": "code",
   "execution_count": 10,
   "id": "19a0361b",
   "metadata": {
    "pycharm": {
     "name": "#%%\n"
    }
   },
   "outputs": [
    {
     "data": {
      "text/html": [
       "<div>\n",
       "<style scoped>\n",
       "    .dataframe tbody tr th:only-of-type {\n",
       "        vertical-align: middle;\n",
       "    }\n",
       "\n",
       "    .dataframe tbody tr th {\n",
       "        vertical-align: top;\n",
       "    }\n",
       "\n",
       "    .dataframe thead th {\n",
       "        text-align: right;\n",
       "    }\n",
       "</style>\n",
       "<table border=\"1\" class=\"dataframe\">\n",
       "  <thead>\n",
       "    <tr style=\"text-align: right;\">\n",
       "      <th></th>\n",
       "      <th>CSR_monthly</th>\n",
       "      <th>ESG_monthly</th>\n",
       "      <th>ESG investing_monthly</th>\n",
       "      <th>ESG screening_monthly</th>\n",
       "      <th>Ethical investing_monthly</th>\n",
       "      <th>Green investments_monthly</th>\n",
       "      <th>Impact investing_monthly</th>\n",
       "      <th>Responsible investing_monthly</th>\n",
       "      <th>Responsible investments_monthly</th>\n",
       "      <th>Socially responsible investing_monthly</th>\n",
       "      <th>...</th>\n",
       "      <th>Management structure_monthly</th>\n",
       "      <th>Public disclosure_monthly</th>\n",
       "      <th>Risk management_monthly</th>\n",
       "      <th>Shareholder rights_monthly</th>\n",
       "      <th>Shareholders interest_monthly</th>\n",
       "      <th>Sustainable governance_monthly</th>\n",
       "      <th>Sustainable growth_monthly</th>\n",
       "      <th>Takeover defenses_monthly</th>\n",
       "      <th>Tax reporting_monthly</th>\n",
       "      <th>Whistleblower_monthly</th>\n",
       "    </tr>\n",
       "    <tr>\n",
       "      <th>Month</th>\n",
       "      <th></th>\n",
       "      <th></th>\n",
       "      <th></th>\n",
       "      <th></th>\n",
       "      <th></th>\n",
       "      <th></th>\n",
       "      <th></th>\n",
       "      <th></th>\n",
       "      <th></th>\n",
       "      <th></th>\n",
       "      <th></th>\n",
       "      <th></th>\n",
       "      <th></th>\n",
       "      <th></th>\n",
       "      <th></th>\n",
       "      <th></th>\n",
       "      <th></th>\n",
       "      <th></th>\n",
       "      <th></th>\n",
       "      <th></th>\n",
       "      <th></th>\n",
       "    </tr>\n",
       "  </thead>\n",
       "  <tbody>\n",
       "    <tr>\n",
       "      <th>2009-01</th>\n",
       "      <td>38</td>\n",
       "      <td>44</td>\n",
       "      <td>0</td>\n",
       "      <td>0</td>\n",
       "      <td>0</td>\n",
       "      <td>89</td>\n",
       "      <td>31</td>\n",
       "      <td>100</td>\n",
       "      <td>46</td>\n",
       "      <td>61</td>\n",
       "      <td>...</td>\n",
       "      <td>59</td>\n",
       "      <td>65</td>\n",
       "      <td>86</td>\n",
       "      <td>100</td>\n",
       "      <td>45</td>\n",
       "      <td>27</td>\n",
       "      <td>36</td>\n",
       "      <td>0</td>\n",
       "      <td>64</td>\n",
       "      <td>4</td>\n",
       "    </tr>\n",
       "    <tr>\n",
       "      <th>2009-02</th>\n",
       "      <td>41</td>\n",
       "      <td>28</td>\n",
       "      <td>0</td>\n",
       "      <td>0</td>\n",
       "      <td>0</td>\n",
       "      <td>65</td>\n",
       "      <td>0</td>\n",
       "      <td>77</td>\n",
       "      <td>0</td>\n",
       "      <td>58</td>\n",
       "      <td>...</td>\n",
       "      <td>75</td>\n",
       "      <td>57</td>\n",
       "      <td>93</td>\n",
       "      <td>35</td>\n",
       "      <td>0</td>\n",
       "      <td>0</td>\n",
       "      <td>51</td>\n",
       "      <td>0</td>\n",
       "      <td>100</td>\n",
       "      <td>5</td>\n",
       "    </tr>\n",
       "    <tr>\n",
       "      <th>2009-03</th>\n",
       "      <td>40</td>\n",
       "      <td>48</td>\n",
       "      <td>0</td>\n",
       "      <td>0</td>\n",
       "      <td>64</td>\n",
       "      <td>98</td>\n",
       "      <td>0</td>\n",
       "      <td>61</td>\n",
       "      <td>0</td>\n",
       "      <td>54</td>\n",
       "      <td>...</td>\n",
       "      <td>89</td>\n",
       "      <td>79</td>\n",
       "      <td>88</td>\n",
       "      <td>11</td>\n",
       "      <td>51</td>\n",
       "      <td>0</td>\n",
       "      <td>57</td>\n",
       "      <td>88</td>\n",
       "      <td>74</td>\n",
       "      <td>5</td>\n",
       "    </tr>\n",
       "    <tr>\n",
       "      <th>2009-04</th>\n",
       "      <td>41</td>\n",
       "      <td>41</td>\n",
       "      <td>0</td>\n",
       "      <td>0</td>\n",
       "      <td>59</td>\n",
       "      <td>68</td>\n",
       "      <td>19</td>\n",
       "      <td>56</td>\n",
       "      <td>41</td>\n",
       "      <td>31</td>\n",
       "      <td>...</td>\n",
       "      <td>79</td>\n",
       "      <td>64</td>\n",
       "      <td>94</td>\n",
       "      <td>51</td>\n",
       "      <td>0</td>\n",
       "      <td>0</td>\n",
       "      <td>32</td>\n",
       "      <td>41</td>\n",
       "      <td>78</td>\n",
       "      <td>4</td>\n",
       "    </tr>\n",
       "    <tr>\n",
       "      <th>2009-05</th>\n",
       "      <td>35</td>\n",
       "      <td>36</td>\n",
       "      <td>0</td>\n",
       "      <td>0</td>\n",
       "      <td>0</td>\n",
       "      <td>27</td>\n",
       "      <td>15</td>\n",
       "      <td>37</td>\n",
       "      <td>0</td>\n",
       "      <td>0</td>\n",
       "      <td>...</td>\n",
       "      <td>71</td>\n",
       "      <td>81</td>\n",
       "      <td>83</td>\n",
       "      <td>85</td>\n",
       "      <td>0</td>\n",
       "      <td>0</td>\n",
       "      <td>14</td>\n",
       "      <td>0</td>\n",
       "      <td>28</td>\n",
       "      <td>4</td>\n",
       "    </tr>\n",
       "  </tbody>\n",
       "</table>\n",
       "<p>5 rows × 73 columns</p>\n",
       "</div>"
      ],
      "text/plain": [
       "         CSR_monthly  ESG_monthly  ESG investing_monthly  \\\n",
       "Month                                                      \n",
       "2009-01           38           44                      0   \n",
       "2009-02           41           28                      0   \n",
       "2009-03           40           48                      0   \n",
       "2009-04           41           41                      0   \n",
       "2009-05           35           36                      0   \n",
       "\n",
       "         ESG screening_monthly  Ethical investing_monthly  \\\n",
       "Month                                                       \n",
       "2009-01                      0                          0   \n",
       "2009-02                      0                          0   \n",
       "2009-03                      0                         64   \n",
       "2009-04                      0                         59   \n",
       "2009-05                      0                          0   \n",
       "\n",
       "         Green investments_monthly  Impact investing_monthly  \\\n",
       "Month                                                          \n",
       "2009-01                         89                        31   \n",
       "2009-02                         65                         0   \n",
       "2009-03                         98                         0   \n",
       "2009-04                         68                        19   \n",
       "2009-05                         27                        15   \n",
       "\n",
       "         Responsible investing_monthly  Responsible investments_monthly  \\\n",
       "Month                                                                     \n",
       "2009-01                            100                               46   \n",
       "2009-02                             77                                0   \n",
       "2009-03                             61                                0   \n",
       "2009-04                             56                               41   \n",
       "2009-05                             37                                0   \n",
       "\n",
       "         Socially responsible investing_monthly  ...  \\\n",
       "Month                                            ...   \n",
       "2009-01                                      61  ...   \n",
       "2009-02                                      58  ...   \n",
       "2009-03                                      54  ...   \n",
       "2009-04                                      31  ...   \n",
       "2009-05                                       0  ...   \n",
       "\n",
       "         Management structure_monthly  Public disclosure_monthly  \\\n",
       "Month                                                              \n",
       "2009-01                            59                         65   \n",
       "2009-02                            75                         57   \n",
       "2009-03                            89                         79   \n",
       "2009-04                            79                         64   \n",
       "2009-05                            71                         81   \n",
       "\n",
       "         Risk management_monthly  Shareholder rights_monthly  \\\n",
       "Month                                                          \n",
       "2009-01                       86                         100   \n",
       "2009-02                       93                          35   \n",
       "2009-03                       88                          11   \n",
       "2009-04                       94                          51   \n",
       "2009-05                       83                          85   \n",
       "\n",
       "         Shareholders interest_monthly  Sustainable governance_monthly  \\\n",
       "Month                                                                    \n",
       "2009-01                             45                              27   \n",
       "2009-02                              0                               0   \n",
       "2009-03                             51                               0   \n",
       "2009-04                              0                               0   \n",
       "2009-05                              0                               0   \n",
       "\n",
       "         Sustainable growth_monthly  Takeover defenses_monthly  \\\n",
       "Month                                                            \n",
       "2009-01                          36                          0   \n",
       "2009-02                          51                          0   \n",
       "2009-03                          57                         88   \n",
       "2009-04                          32                         41   \n",
       "2009-05                          14                          0   \n",
       "\n",
       "         Tax reporting_monthly  Whistleblower_monthly  \n",
       "Month                                                  \n",
       "2009-01                     64                      4  \n",
       "2009-02                    100                      5  \n",
       "2009-03                     74                      5  \n",
       "2009-04                     78                      4  \n",
       "2009-05                     28                      4  \n",
       "\n",
       "[5 rows x 73 columns]"
      ]
     },
     "execution_count": 10,
     "metadata": {},
     "output_type": "execute_result"
    }
   ],
   "source": [
    "monthly = pd.DataFrame()\n",
    "\n",
    "for w in keywords: # loop over all keywords\n",
    "    monthly_word = pd.read_csv(os.getcwd()+f'/trends/monthly/{w.replace(\" \",\"_\")}/multiTimeline.csv', \n",
    "                               header = 1, index_col ='Month') # load the df\n",
    "    monthly_word = monthly_word.rename(columns = {f'{w}: (United States)':f'{w}_monthly'}) # format the df\n",
    "      \n",
    "    monthly = pd.concat([monthly, monthly_word], axis = 1) # add new df as a column of the total df\n",
    "    \n",
    "monthly.head()"
   ]
  },
  {
   "cell_type": "markdown",
   "id": "2445ec01",
   "metadata": {
    "pycharm": {
     "name": "#%% md\n"
    }
   },
   "source": [
    "### 4.3 Creating weighted ESG search volumes"
   ]
  },
  {
   "cell_type": "code",
   "execution_count": 14,
   "id": "f7a153b3",
   "metadata": {
    "pycharm": {
     "name": "#%%\n"
    }
   },
   "outputs": [],
   "source": [
    "# build a df that containes weights for each keyword\n",
    "weights = monthly/100 # compute weights\n",
    "weights = weights.rename(columns=lambda x: x[:-7]+'weights')\n",
    "\n",
    "# add 'month' column to the monthly df for the join\n",
    "weights['month'] = weights.index\n",
    "\n",
    "# add 'month' column to the daily df for the join\n",
    "daily['month'] = daily.index\n",
    "daily['month'] = daily['month'].apply(lambda x: x[:7])"
   ]
  },
  {
   "cell_type": "code",
   "execution_count": 15,
   "id": "da24c164",
   "metadata": {
    "pycharm": {
     "name": "#%%\n"
    }
   },
   "outputs": [
    {
     "data": {
      "text/html": [
       "<div>\n",
       "<style scoped>\n",
       "    .dataframe tbody tr th:only-of-type {\n",
       "        vertical-align: middle;\n",
       "    }\n",
       "\n",
       "    .dataframe tbody tr th {\n",
       "        vertical-align: top;\n",
       "    }\n",
       "\n",
       "    .dataframe thead th {\n",
       "        text-align: right;\n",
       "    }\n",
       "</style>\n",
       "<table border=\"1\" class=\"dataframe\">\n",
       "  <thead>\n",
       "    <tr style=\"text-align: right;\">\n",
       "      <th></th>\n",
       "      <th>CSR</th>\n",
       "      <th>ESG</th>\n",
       "      <th>ESG investing</th>\n",
       "      <th>ESG screening</th>\n",
       "      <th>Ethical investing</th>\n",
       "      <th>Green investments</th>\n",
       "      <th>Impact investing</th>\n",
       "      <th>Responsible investing</th>\n",
       "      <th>Responsible investments</th>\n",
       "      <th>Socially responsible investing</th>\n",
       "      <th>...</th>\n",
       "      <th>Management structure</th>\n",
       "      <th>Public disclosure</th>\n",
       "      <th>Risk management</th>\n",
       "      <th>Shareholder rights</th>\n",
       "      <th>Shareholders interest</th>\n",
       "      <th>Sustainable governance</th>\n",
       "      <th>Sustainable growth</th>\n",
       "      <th>Takeover defenses</th>\n",
       "      <th>Tax reporting</th>\n",
       "      <th>Whistleblower</th>\n",
       "    </tr>\n",
       "  </thead>\n",
       "  <tbody>\n",
       "    <tr>\n",
       "      <th>2009-01-01</th>\n",
       "      <td>0.00</td>\n",
       "      <td>0.00</td>\n",
       "      <td>0.0</td>\n",
       "      <td>0.0</td>\n",
       "      <td>0.0</td>\n",
       "      <td>0.00</td>\n",
       "      <td>0.00</td>\n",
       "      <td>0.0</td>\n",
       "      <td>0.00</td>\n",
       "      <td>0.00</td>\n",
       "      <td>...</td>\n",
       "      <td>0.00</td>\n",
       "      <td>0.0</td>\n",
       "      <td>48.16</td>\n",
       "      <td>0.0</td>\n",
       "      <td>0.0</td>\n",
       "      <td>0.00</td>\n",
       "      <td>0.00</td>\n",
       "      <td>0.0</td>\n",
       "      <td>0.00</td>\n",
       "      <td>0.00</td>\n",
       "    </tr>\n",
       "    <tr>\n",
       "      <th>2009-01-02</th>\n",
       "      <td>0.00</td>\n",
       "      <td>0.00</td>\n",
       "      <td>0.0</td>\n",
       "      <td>0.0</td>\n",
       "      <td>0.0</td>\n",
       "      <td>0.00</td>\n",
       "      <td>7.13</td>\n",
       "      <td>0.0</td>\n",
       "      <td>0.00</td>\n",
       "      <td>6.10</td>\n",
       "      <td>...</td>\n",
       "      <td>0.00</td>\n",
       "      <td>0.0</td>\n",
       "      <td>39.56</td>\n",
       "      <td>0.0</td>\n",
       "      <td>0.0</td>\n",
       "      <td>0.00</td>\n",
       "      <td>29.52</td>\n",
       "      <td>0.0</td>\n",
       "      <td>14.08</td>\n",
       "      <td>0.00</td>\n",
       "    </tr>\n",
       "    <tr>\n",
       "      <th>2009-01-03</th>\n",
       "      <td>12.54</td>\n",
       "      <td>0.00</td>\n",
       "      <td>0.0</td>\n",
       "      <td>0.0</td>\n",
       "      <td>0.0</td>\n",
       "      <td>23.14</td>\n",
       "      <td>0.00</td>\n",
       "      <td>0.0</td>\n",
       "      <td>17.94</td>\n",
       "      <td>0.00</td>\n",
       "      <td>...</td>\n",
       "      <td>20.06</td>\n",
       "      <td>0.0</td>\n",
       "      <td>15.48</td>\n",
       "      <td>41.0</td>\n",
       "      <td>0.0</td>\n",
       "      <td>0.00</td>\n",
       "      <td>0.00</td>\n",
       "      <td>0.0</td>\n",
       "      <td>0.00</td>\n",
       "      <td>0.00</td>\n",
       "    </tr>\n",
       "    <tr>\n",
       "      <th>2009-01-04</th>\n",
       "      <td>12.54</td>\n",
       "      <td>0.00</td>\n",
       "      <td>0.0</td>\n",
       "      <td>0.0</td>\n",
       "      <td>0.0</td>\n",
       "      <td>0.00</td>\n",
       "      <td>0.00</td>\n",
       "      <td>38.0</td>\n",
       "      <td>0.00</td>\n",
       "      <td>7.93</td>\n",
       "      <td>...</td>\n",
       "      <td>0.00</td>\n",
       "      <td>0.0</td>\n",
       "      <td>17.20</td>\n",
       "      <td>0.0</td>\n",
       "      <td>0.0</td>\n",
       "      <td>0.00</td>\n",
       "      <td>0.00</td>\n",
       "      <td>0.0</td>\n",
       "      <td>12.80</td>\n",
       "      <td>0.00</td>\n",
       "    </tr>\n",
       "    <tr>\n",
       "      <th>2009-01-05</th>\n",
       "      <td>16.72</td>\n",
       "      <td>14.52</td>\n",
       "      <td>0.0</td>\n",
       "      <td>0.0</td>\n",
       "      <td>0.0</td>\n",
       "      <td>0.00</td>\n",
       "      <td>0.00</td>\n",
       "      <td>0.0</td>\n",
       "      <td>0.00</td>\n",
       "      <td>0.00</td>\n",
       "      <td>...</td>\n",
       "      <td>0.00</td>\n",
       "      <td>0.0</td>\n",
       "      <td>46.44</td>\n",
       "      <td>43.0</td>\n",
       "      <td>0.0</td>\n",
       "      <td>3.24</td>\n",
       "      <td>0.00</td>\n",
       "      <td>0.0</td>\n",
       "      <td>0.00</td>\n",
       "      <td>1.24</td>\n",
       "    </tr>\n",
       "  </tbody>\n",
       "</table>\n",
       "<p>5 rows × 73 columns</p>\n",
       "</div>"
      ],
      "text/plain": [
       "              CSR    ESG  ESG investing  ESG screening  Ethical investing  \\\n",
       "2009-01-01   0.00   0.00            0.0            0.0                0.0   \n",
       "2009-01-02   0.00   0.00            0.0            0.0                0.0   \n",
       "2009-01-03  12.54   0.00            0.0            0.0                0.0   \n",
       "2009-01-04  12.54   0.00            0.0            0.0                0.0   \n",
       "2009-01-05  16.72  14.52            0.0            0.0                0.0   \n",
       "\n",
       "            Green investments  Impact investing  Responsible investing  \\\n",
       "2009-01-01               0.00              0.00                    0.0   \n",
       "2009-01-02               0.00              7.13                    0.0   \n",
       "2009-01-03              23.14              0.00                    0.0   \n",
       "2009-01-04               0.00              0.00                   38.0   \n",
       "2009-01-05               0.00              0.00                    0.0   \n",
       "\n",
       "            Responsible investments  Socially responsible investing  ...  \\\n",
       "2009-01-01                     0.00                            0.00  ...   \n",
       "2009-01-02                     0.00                            6.10  ...   \n",
       "2009-01-03                    17.94                            0.00  ...   \n",
       "2009-01-04                     0.00                            7.93  ...   \n",
       "2009-01-05                     0.00                            0.00  ...   \n",
       "\n",
       "            Management structure  Public disclosure  Risk management  \\\n",
       "2009-01-01                  0.00                0.0            48.16   \n",
       "2009-01-02                  0.00                0.0            39.56   \n",
       "2009-01-03                 20.06                0.0            15.48   \n",
       "2009-01-04                  0.00                0.0            17.20   \n",
       "2009-01-05                  0.00                0.0            46.44   \n",
       "\n",
       "            Shareholder rights  Shareholders interest  Sustainable governance  \\\n",
       "2009-01-01                 0.0                    0.0                    0.00   \n",
       "2009-01-02                 0.0                    0.0                    0.00   \n",
       "2009-01-03                41.0                    0.0                    0.00   \n",
       "2009-01-04                 0.0                    0.0                    0.00   \n",
       "2009-01-05                43.0                    0.0                    3.24   \n",
       "\n",
       "            Sustainable growth  Takeover defenses  Tax reporting  \\\n",
       "2009-01-01                0.00                0.0           0.00   \n",
       "2009-01-02               29.52                0.0          14.08   \n",
       "2009-01-03                0.00                0.0           0.00   \n",
       "2009-01-04                0.00                0.0          12.80   \n",
       "2009-01-05                0.00                0.0           0.00   \n",
       "\n",
       "            Whistleblower  \n",
       "2009-01-01           0.00  \n",
       "2009-01-02           0.00  \n",
       "2009-01-03           0.00  \n",
       "2009-01-04           0.00  \n",
       "2009-01-05           1.24  \n",
       "\n",
       "[5 rows x 73 columns]"
      ]
     },
     "execution_count": 15,
     "metadata": {},
     "output_type": "execute_result"
    }
   ],
   "source": [
    "# join the daily df with the weights df\n",
    "weighted = pd.merge(weights, daily, on = 'month', how = 'outer')\n",
    "weighted.index = daily.index\n",
    "weighted = weighted.drop(columns = ['month'])\n",
    "\n",
    "# build a df with the weighted search volumes\n",
    "results = pd.DataFrame()\n",
    "for w in keywords:\n",
    "    new_col = weighted[w+'_weights']*weighted[w+'_daily']\n",
    "    new_col.name = w\n",
    "    results = pd.concat([results, new_col], axis = 1)\n",
    "    \n",
    "results.head()"
   ]
  },
  {
   "cell_type": "markdown",
   "id": "948dd9b0",
   "metadata": {
    "pycharm": {
     "name": "#%% md\n"
    }
   },
   "source": [
    "The search volume for each topic is constructed taking the average of all included search term’s (weighted) daily values."
   ]
  },
  {
   "cell_type": "code",
   "execution_count": 16,
   "id": "9ad6cb14",
   "metadata": {
    "pycharm": {
     "name": "#%%\n"
    }
   },
   "outputs": [],
   "source": [
    "# divide the results by topic\n",
    "results_ESG = results[ESG_kw].copy()\n",
    "results_env = results[environment_kw].copy()\n",
    "results_soc = results[social_kw].copy()\n",
    "results_gov = results[governance_kw].copy()\n",
    "\n",
    "aux_l = [results_ESG, results_env, results_soc, results_gov]\n",
    "\n",
    "for el in aux_l:\n",
    "    el['tot'] = el.sum(axis = 1)/len(el.columns)"
   ]
  },
  {
   "cell_type": "code",
   "execution_count": 17,
   "id": "5f64d788",
   "metadata": {
    "pycharm": {
     "name": "#%%\n"
    }
   },
   "outputs": [
    {
     "data": {
      "text/html": [
       "<div>\n",
       "<style scoped>\n",
       "    .dataframe tbody tr th:only-of-type {\n",
       "        vertical-align: middle;\n",
       "    }\n",
       "\n",
       "    .dataframe tbody tr th {\n",
       "        vertical-align: top;\n",
       "    }\n",
       "\n",
       "    .dataframe thead th {\n",
       "        text-align: right;\n",
       "    }\n",
       "</style>\n",
       "<table border=\"1\" class=\"dataframe\">\n",
       "  <thead>\n",
       "    <tr style=\"text-align: right;\">\n",
       "      <th></th>\n",
       "      <th>ESG</th>\n",
       "      <th>Environment</th>\n",
       "      <th>Social</th>\n",
       "      <th>Governance</th>\n",
       "    </tr>\n",
       "  </thead>\n",
       "  <tbody>\n",
       "    <tr>\n",
       "      <th>2009-01-01</th>\n",
       "      <td>3.166154</td>\n",
       "      <td>9.227857</td>\n",
       "      <td>3.899167</td>\n",
       "      <td>3.664091</td>\n",
       "    </tr>\n",
       "    <tr>\n",
       "      <th>2009-01-02</th>\n",
       "      <td>4.008462</td>\n",
       "      <td>11.831429</td>\n",
       "      <td>8.912083</td>\n",
       "      <td>6.791818</td>\n",
       "    </tr>\n",
       "    <tr>\n",
       "      <th>2009-01-03</th>\n",
       "      <td>7.281538</td>\n",
       "      <td>13.157857</td>\n",
       "      <td>5.140000</td>\n",
       "      <td>8.665000</td>\n",
       "    </tr>\n",
       "    <tr>\n",
       "      <th>2009-01-04</th>\n",
       "      <td>7.340769</td>\n",
       "      <td>9.617143</td>\n",
       "      <td>10.724583</td>\n",
       "      <td>2.734545</td>\n",
       "    </tr>\n",
       "    <tr>\n",
       "      <th>2009-01-05</th>\n",
       "      <td>8.163077</td>\n",
       "      <td>18.562857</td>\n",
       "      <td>8.952917</td>\n",
       "      <td>11.808636</td>\n",
       "    </tr>\n",
       "  </tbody>\n",
       "</table>\n",
       "</div>"
      ],
      "text/plain": [
       "                 ESG  Environment     Social  Governance\n",
       "2009-01-01  3.166154     9.227857   3.899167    3.664091\n",
       "2009-01-02  4.008462    11.831429   8.912083    6.791818\n",
       "2009-01-03  7.281538    13.157857   5.140000    8.665000\n",
       "2009-01-04  7.340769     9.617143  10.724583    2.734545\n",
       "2009-01-05  8.163077    18.562857   8.952917   11.808636"
      ]
     },
     "execution_count": 17,
     "metadata": {},
     "output_type": "execute_result"
    }
   ],
   "source": [
    "# store the four results in a unique datafram\n",
    "search_volumes_esg = pd.DataFrame()\n",
    "search_volumes_esg['ESG'] = results_ESG['tot']\n",
    "search_volumes_esg['Environment'] = results_env['tot']\n",
    "search_volumes_esg['Social'] = results_soc['tot']\n",
    "search_volumes_esg['Governance'] = results_gov['tot']\n",
    "\n",
    "search_volumes_esg.head()"
   ]
  },
  {
   "cell_type": "code",
   "execution_count": 18,
   "id": "1c86e156",
   "metadata": {
    "pycharm": {
     "name": "#%%\n"
    }
   },
   "outputs": [],
   "source": [
    "# search_volumes_esg.to_csv('ESG_trends.csv')"
   ]
  },
  {
   "cell_type": "markdown",
   "id": "5c8e566e",
   "metadata": {
    "pycharm": {
     "name": "#%% md\n"
    }
   },
   "source": [
    "## 5. Scraping Google trends for company names<a name=\"trends_c\"></a>"
   ]
  },
  {
   "cell_type": "markdown",
   "id": "b63891c7",
   "metadata": {
    "pycharm": {
     "name": "#%% md\n"
    }
   },
   "source": [
    "We consider search volumes on company names to capture public attention to individual companies."
   ]
  },
  {
   "cell_type": "code",
   "execution_count": 19,
   "id": "888d8a03",
   "metadata": {
    "pycharm": {
     "name": "#%%\n"
    }
   },
   "outputs": [],
   "source": [
    "companies_tickers = ['MA', 'TGT', 'PNC', 'YUM', 'LH', 'NEM', 'KMX', 'PXD', 'GWW', 'BXP', 'MSI', 'RTX', 'BDX',\n",
    " 'AFL', 'NI', 'MAA', 'SYY', 'K', 'IP', 'D', 'CAG', 'MET', 'RSG', 'ICE', 'MS', 'IEX', 'CPT', 'ADM',\n",
    " 'BWA', 'FMC', 'EMN', 'IPG', 'URI', 'AAP', 'ALL', 'EL', 'MCD', 'CE', 'ZBH', 'OXY', 'TYL', 'HAL',\n",
    " 'VTR', 'TXT', 'EXR', 'PKG', 'KO', 'APH', 'TMO', 'DOV', 'GL', 'JPM', 'DAL', 'PNW', 'FDS', 'DXC',\n",
    " 'PPG', 'CI', 'FE', 'PHM', 'KIM', 'EFX', 'IFF', 'MKC', 'DIS', 'CMG', 'VMC', 'BBY', 'PKI', 'DPZ',\n",
    " 'CF', 'ROP', 'DHR', 'MOS', 'STT', 'OMC', 'MGM', 'AVB', 'V', 'DLR', 'AES', 'VLO', 'MOH', 'PG',\n",
    " 'NEE', 'SYK', 'SPG', 'IBM', 'F', 'UNP', 'KEY', 'EQR', 'SRE', 'HWM', 'DFS', 'TAP', 'BKR', 'MHK',\n",
    " 'AME', 'ABT', 'CRL', 'PPL', 'WST', 'IRM', 'O', 'ES', 'J', 'LEN', 'MO', 'NUE', 'GD', 'PWR', 'AVY',\n",
    " 'DTE', 'HIG', 'CAT', 'NOC', 'ECL', 'BAC', 'AEE', 'WMB', 'BR', 'ABC', 'HUM', 'LNC', 'BAX', 'VFC',\n",
    " 'TFC', 'VZ', 'L', 'ALK', 'TFX', 'FIS', 'ALB', 'JNJ', 'CPB', 'BSX', 'VNO', 'AMT', 'MRK', 'BMY',\n",
    " 'C', 'RJF', 'HES', 'LVS', 'PH', 'ITW', 'GLW', 'BK', 'EMR', 'DE', 'WRB', 'ELV', 'RF', 'UNH', 'IT',\n",
    " 'HSY', 'UHS', 'CL', 'DUK', 'PFE', 'GPN', 'RHI', 'BEN', 'BRO', 'CLX', 'XOM', 'CNC', 'PEG', 'PSA',\n",
    " 'NRG', 'HD', 'AXP', 'RL', 'UDR', 'ED', 'AIZ', 'NKE', 'SWK', 'CVX', 'WY', 'COP', 'WHR', 'FCX',\n",
    " 'COF', 'GIS', 'MCO', 'PLD', 'EOG', 'MMM', 'SEE', 'CHD', 'PGR', 'MTB', 'STZ', 'HRL', 'FDX', 'PRU',\n",
    " 'MTD', 'ATO', 'DHI', 'BIO', 'TDG', 'NVR', 'AMP', 'SJM', 'EIX', 'LUV', 'DVA', 'MLM', 'AOS', 'AZO',\n",
    " 'MMC', 'SHW', 'GS', 'KMB', 'USB', 'FRT', 'DVN', 'CMS', 'UPS', 'LHX', 'LLY', 'TPR', 'LOW',\n",
    " 'LMT', 'ROK', 'T', 'SO', 'MRO', 'ESS', 'MCK', 'HPQ', 'WAT', 'NSC', 'TDY', 'SNA', 'CCI', 'CNP',\n",
    " 'RMD', 'BA', 'GPC', 'CMI', 'OKE', 'A', 'CAH', 'CRM', 'LYV', 'ROL', 'PM', 'WAB', 'WM', 'CMA', 'GE',\n",
    " 'APD', 'PCG', 'AJG', 'COO', 'EW', 'MAS', 'TRV', 'ETR', 'TJX', 'AWK', 'BLK', 'DRI', 'KR', 'AIG',\n",
    " 'DGX', 'WFC', 'HON', 'ARE', 'WMT', 'TSN', 'EQT', 'WEC', 'CVS']"
   ]
  },
  {
   "cell_type": "code",
   "execution_count": 21,
   "id": "9f01c873",
   "metadata": {
    "pycharm": {
     "name": "#%%\n"
    }
   },
   "outputs": [],
   "source": [
    "def ticker(ticker_list):\n",
    "    companies = []\n",
    "    for ticker in ticker_list:\n",
    "        stock = yf.Ticker(ticker)\n",
    "        name = stock.info.get('longName')\n",
    "        companies.append(name)\n",
    "    return companies\n",
    "\n",
    "# get the name of each company from its ticker\n",
    "companies = ticker(companies_tickers)"
   ]
  },
  {
   "cell_type": "code",
   "execution_count": 22,
   "id": "e6db6ec9",
   "metadata": {
    "pycharm": {
     "name": "#%%\n"
    }
   },
   "outputs": [],
   "source": [
    "# clean the name\n",
    "to_remove = ['Inc.','International','Global','Group','Corp.','Corporation','Incorporated', 'Company','Inc', \n",
    "             'The ', ',','!', '&','Co.']\n",
    "\n",
    "companies_clean = []\n",
    "for c in companies:\n",
    "    for s in to_remove:\n",
    "        c = c.replace(s, '')\n",
    "    companies_clean.append(\" \".join(c.split()))\n",
    "    \n",
    "# build dictionaries to get from keywords to ticker and viceversa\n",
    "name_to_ticker = dict(zip(companies_clean, companies_tickers))\n",
    "ticker_to_name = dict(zip(companies_tickers, companies_clean))"
   ]
  },
  {
   "cell_type": "code",
   "execution_count": 23,
   "id": "5ebcee20",
   "metadata": {
    "pycharm": {
     "name": "#%%\n"
    }
   },
   "outputs": [],
   "source": [
    "def get_company_kw(driver):\n",
    "    \"\"\"\n",
    "    Gets the keyword for each company, by selecting the autocomplete suggestion that containes the \n",
    "    word 'company'. It saves the last part of the url, which can be used as a keyword\n",
    "    \"\"\"\n",
    "    # find and click on the search bar\n",
    "    bar = driver.find_elements_by_id('input-25') \n",
    "    bar[0].click()\n",
    "    time.sleep(0.5)\n",
    "    \n",
    "    # get autocomplete suggestions objects and their texts\n",
    "    suggestions = driver.find_elements_by_class_name('autocomplete-entity.autocomplete-desc')\n",
    "    topics = [i.text for i in suggestions]\n",
    "    \n",
    "    # find one option that contains 'company'\n",
    "    to_click = None\n",
    "    for i, el in enumerate(topics):\n",
    "        if 'company' in el or 'Company' in el:\n",
    "            to_click = i\n",
    "            break\n",
    "    if to_click == None:\n",
    "        return None\n",
    "    \n",
    "    # click on the suggestion found above\n",
    "    suggestions[to_click].click()\n",
    "    time.sleep(2)\n",
    "    \n",
    "    # get the new url\n",
    "    url = driver.current_url\n",
    "    \n",
    "    # return last part of the url\n",
    "    return re.findall(r'q=(.*)', url)[0]"
   ]
  },
  {
   "cell_type": "markdown",
   "id": "3dc4ed6f",
   "metadata": {
    "pycharm": {
     "name": "#%% md\n"
    }
   },
   "source": [
    "### 5.1 Scrape the data"
   ]
  },
  {
   "cell_type": "markdown",
   "id": "d24212a4",
   "metadata": {
    "pycharm": {
     "name": "#%% md\n"
    }
   },
   "source": [
    "For searches on company names, we consider weekly values due to low daily search volumes. Google Trends limits retrieval to batches of five years. We retrieve the data in batches of 4/5 years with one overlapping year for each. We then use the overlapping year to match the values and create a common scale."
   ]
  },
  {
   "cell_type": "code",
   "execution_count": 24,
   "id": "42d02ccf",
   "metadata": {
    "pycharm": {
     "name": "#%%\n"
    }
   },
   "outputs": [],
   "source": [
    "# timeframes\n",
    "times = ['2009-01-01 2012-12-31','2012-01-01 2015-12-31','2015-01-01 2019-12-31']"
   ]
  },
  {
   "cell_type": "markdown",
   "id": "64d7f236",
   "metadata": {
    "pycharm": {
     "name": "#%% md\n"
    }
   },
   "source": [
    "We use the name of the company as an input in the search bar, and from there we find the suggestion wich refers to the company. We will then use the retrieved keyword to find and download the data."
   ]
  },
  {
   "cell_type": "code",
   "execution_count": null,
   "id": "bee93d2d",
   "metadata": {
    "pycharm": {
     "name": "#%%\n"
    }
   },
   "outputs": [],
   "source": [
    "# trends_kw = dict() # dictionary for storage\n",
    "\n",
    "# # build a browser\n",
    "# driver = build_driver()\n",
    "\n",
    "# for i, w in enumerate(companies_clean): # loop over company names\n",
    "#     url = build_url(times[0], w) # note that the timeframe chosen does not matter\n",
    "#     driver.get(url) # load the page\n",
    "#     if 'Error 429 (Too Many Requests)' in driver.page_source: # if there's an errore try again\n",
    "#         driver.get(url)\n",
    "#     time.sleep(2) # wait for the page to load\n",
    "    \n",
    "#     kw = get_company_kw(driver) # get the keyword\n",
    "    \n",
    "#     trends_kw[w] = kw # save the keyword found\n",
    "    \n",
    "#     if i%20 == 0 and i != 0:\n",
    "#         time.sleep(random.randint(10, 30))\n",
    "#     if i%5 == 0 and i%20 != 0 and i !=0:\n",
    "#         time.sleep(random.randint(5, 10))\n",
    "#     else:\n",
    "#         time.sleep(random.randint(2,3))"
   ]
  },
  {
   "cell_type": "code",
   "execution_count": null,
   "id": "ba22b21b",
   "metadata": {
    "pycharm": {
     "name": "#%%\n"
    }
   },
   "outputs": [],
   "source": [
    "# manually adjust some keywords\n",
    "# correct = ['%2Fm%2F02v0s5', '%2Fm%2F01qxj3','%2Fm%2F03p3g1n','%2Fm%2F0h4xyv','%2Fm%2F0k9ts','%2Fm%2F02twsr',\n",
    "#  '%2Fm%2F06m_p2', '%2Fm%2F0cq0_b', '%2Fm%2F01kqjn', '%2Fm%2F03br8l4', '%2Fm%2F03p2ps4', '%2Fm%2F07j0sp',\n",
    "# '%2Fm%2F0gl3d_', '%2Fm%2F03d7yqj', '%2Fm%2F02z70xs', '%2Fm%2F07y_vs', '%2Fm%2F01n7kh', '%2Fm%2F0168nq',\n",
    "# '%2Fm%2F06l76d', '%2Fm%2F01l4jh', '%2Fg%2F1tf6n07l', '%2Fm%2F03p3dks', '%2Fm%2F01vc1k', '%2Fm%2F04c_q_',\n",
    "# '%2Fm%2F0gztl', '%2Fm%2F037922', '%2Fm%2F08z129', '%2Fm%2F01c48j', '%2Fg%2F1vg_89qc', '%2Fm%2F042x1n',\n",
    "# '%2Fm%2F0cm4qm','%2Fm%2F03p2lwn','%2Fm%2F02l48d']\n",
    "\n",
    "# i = 0\n",
    "# for k,v in trends_kw.items():\n",
    "#     if v == None:\n",
    "#         trends_kw[k] = correct[i]\n",
    "#         i += 1"
   ]
  },
  {
   "cell_type": "code",
   "execution_count": null,
   "id": "c6a57b56",
   "metadata": {
    "pycharm": {
     "name": "#%%\n"
    }
   },
   "outputs": [],
   "source": [
    "# # set keywords\n",
    "# keywords = companies_clean\n",
    "\n",
    "# for i, w in enumerate(keywords):\n",
    "#     ticker = name_to_ticker[w]\n",
    "    \n",
    "#     # create download directory for the specific keyword\n",
    "#     os.mkdir(os.path.join(os.getcwd(), 'trends', 'companies', ticker))\n",
    "    \n",
    "#     # create browser\n",
    "#     driver = build_driver(os.path.join(os.getcwd(), 'trends', 'companies', ticker))\n",
    "    \n",
    "#     # get the keyword\n",
    "#     w = trends_kw[w]\n",
    "    \n",
    "#     # loop on all time intervals\n",
    "#     for t in times:\n",
    "#         url = build_url(t, w)\n",
    "#         download_trends(url, driver) # download trend csv\n",
    "        \n",
    "#     if i%20 == 0 and i != 0:\n",
    "#         time.sleep(random.randint(120, 600))\n",
    "#     if i%7 == 0 and i%20 != 0 and i !=0:\n",
    "#         time.sleep(random.randint(30, 120))\n",
    "#     else:\n",
    "#         time.sleep(random.randint(2, 15))"
   ]
  },
  {
   "cell_type": "markdown",
   "id": "10f318dc",
   "metadata": {
    "pycharm": {
     "name": "#%% md\n"
    }
   },
   "source": [
    "### 5.2 Standardize the data across periods"
   ]
  },
  {
   "cell_type": "code",
   "execution_count": 25,
   "id": "50d192c7",
   "metadata": {
    "pycharm": {
     "name": "#%%\n"
    }
   },
   "outputs": [],
   "source": [
    "def standardize_df(one, two):\n",
    "    \"\"\"\n",
    "    Take two dataframes of trends with overlapping period and standardize the values in the second\n",
    "    one based on the ratios of the values in the overlapping period\n",
    "    \"\"\"\n",
    "    # put the two dataframes together\n",
    "    temp = pd.merge(one, two, right_index = True, left_index = True, how = 'outer')\n",
    "\n",
    "    # get indeces where the two periods overlap\n",
    "    no_overlap = temp[temp.iloc[:,0].isna() | temp.iloc[:,1].isna()].index\n",
    "    overlap_indeces = temp.index.difference(no_overlap)\n",
    "\n",
    "    # get overlapping period\n",
    "    overlap = temp[temp.index.isin(overlap_indeces)]\n",
    "\n",
    "    # compute the ratio\n",
    "    ratio = overlap.iloc[:,0] / overlap.iloc[:,1]\n",
    "    ratio = ratio.fillna(0)\n",
    "    ratio = ratio.mean()\n",
    "\n",
    "    # get the second period without overlap\n",
    "    two = two[~two.index.isin(overlap_indeces)]\n",
    "\n",
    "    # multiply the second period by the ratio\n",
    "    two = np.round(two*ratio, 0)\n",
    "\n",
    "    # return the df of the whole period scaled and with no overlap\n",
    "    return pd.concat([one, two])"
   ]
  },
  {
   "cell_type": "code",
   "execution_count": 28,
   "id": "b79656a3",
   "metadata": {
    "pycharm": {
     "name": "#%%\n"
    }
   },
   "outputs": [
    {
     "data": {
      "text/html": [
       "<div>\n",
       "<style scoped>\n",
       "    .dataframe tbody tr th:only-of-type {\n",
       "        vertical-align: middle;\n",
       "    }\n",
       "\n",
       "    .dataframe tbody tr th {\n",
       "        vertical-align: top;\n",
       "    }\n",
       "\n",
       "    .dataframe thead th {\n",
       "        text-align: right;\n",
       "    }\n",
       "</style>\n",
       "<table border=\"1\" class=\"dataframe\">\n",
       "  <thead>\n",
       "    <tr style=\"text-align: right;\">\n",
       "      <th></th>\n",
       "      <th>MA</th>\n",
       "      <th>TGT</th>\n",
       "      <th>PNC</th>\n",
       "      <th>YUM</th>\n",
       "      <th>LH</th>\n",
       "      <th>NEM</th>\n",
       "      <th>KMX</th>\n",
       "      <th>PXD</th>\n",
       "      <th>GWW</th>\n",
       "      <th>BXP</th>\n",
       "      <th>...</th>\n",
       "      <th>AIG</th>\n",
       "      <th>DGX</th>\n",
       "      <th>WFC</th>\n",
       "      <th>HON</th>\n",
       "      <th>ARE</th>\n",
       "      <th>WMT</th>\n",
       "      <th>TSN</th>\n",
       "      <th>EQT</th>\n",
       "      <th>WEC</th>\n",
       "      <th>CVS</th>\n",
       "    </tr>\n",
       "    <tr>\n",
       "      <th>Week</th>\n",
       "      <th></th>\n",
       "      <th></th>\n",
       "      <th></th>\n",
       "      <th></th>\n",
       "      <th></th>\n",
       "      <th></th>\n",
       "      <th></th>\n",
       "      <th></th>\n",
       "      <th></th>\n",
       "      <th></th>\n",
       "      <th></th>\n",
       "      <th></th>\n",
       "      <th></th>\n",
       "      <th></th>\n",
       "      <th></th>\n",
       "      <th></th>\n",
       "      <th></th>\n",
       "      <th></th>\n",
       "      <th></th>\n",
       "      <th></th>\n",
       "      <th></th>\n",
       "    </tr>\n",
       "  </thead>\n",
       "  <tbody>\n",
       "    <tr>\n",
       "      <th>2009-01-04</th>\n",
       "      <td>47.0</td>\n",
       "      <td>32.0</td>\n",
       "      <td>29.0</td>\n",
       "      <td>81.0</td>\n",
       "      <td>68.0</td>\n",
       "      <td>47.0</td>\n",
       "      <td>68.0</td>\n",
       "      <td>1.0</td>\n",
       "      <td>86.0</td>\n",
       "      <td>42.0</td>\n",
       "      <td>...</td>\n",
       "      <td>13.0</td>\n",
       "      <td>89.0</td>\n",
       "      <td>44.0</td>\n",
       "      <td>100.0</td>\n",
       "      <td>1.0</td>\n",
       "      <td>24.0</td>\n",
       "      <td>70.0</td>\n",
       "      <td>1.0</td>\n",
       "      <td>63.0</td>\n",
       "      <td>47.0</td>\n",
       "    </tr>\n",
       "    <tr>\n",
       "      <th>2009-01-11</th>\n",
       "      <td>45.0</td>\n",
       "      <td>29.0</td>\n",
       "      <td>29.0</td>\n",
       "      <td>56.0</td>\n",
       "      <td>65.0</td>\n",
       "      <td>51.0</td>\n",
       "      <td>67.0</td>\n",
       "      <td>1.0</td>\n",
       "      <td>93.0</td>\n",
       "      <td>15.0</td>\n",
       "      <td>...</td>\n",
       "      <td>12.0</td>\n",
       "      <td>85.0</td>\n",
       "      <td>45.0</td>\n",
       "      <td>92.0</td>\n",
       "      <td>1.0</td>\n",
       "      <td>22.0</td>\n",
       "      <td>44.0</td>\n",
       "      <td>1.0</td>\n",
       "      <td>63.0</td>\n",
       "      <td>48.0</td>\n",
       "    </tr>\n",
       "    <tr>\n",
       "      <th>2009-01-18</th>\n",
       "      <td>44.0</td>\n",
       "      <td>28.0</td>\n",
       "      <td>28.0</td>\n",
       "      <td>83.0</td>\n",
       "      <td>72.0</td>\n",
       "      <td>43.0</td>\n",
       "      <td>71.0</td>\n",
       "      <td>96.0</td>\n",
       "      <td>83.0</td>\n",
       "      <td>24.0</td>\n",
       "      <td>...</td>\n",
       "      <td>11.0</td>\n",
       "      <td>85.0</td>\n",
       "      <td>41.0</td>\n",
       "      <td>82.0</td>\n",
       "      <td>32.0</td>\n",
       "      <td>22.0</td>\n",
       "      <td>42.0</td>\n",
       "      <td>1.0</td>\n",
       "      <td>62.0</td>\n",
       "      <td>47.0</td>\n",
       "    </tr>\n",
       "    <tr>\n",
       "      <th>2009-01-25</th>\n",
       "      <td>42.0</td>\n",
       "      <td>28.0</td>\n",
       "      <td>27.0</td>\n",
       "      <td>77.0</td>\n",
       "      <td>60.0</td>\n",
       "      <td>47.0</td>\n",
       "      <td>66.0</td>\n",
       "      <td>37.0</td>\n",
       "      <td>83.0</td>\n",
       "      <td>67.0</td>\n",
       "      <td>...</td>\n",
       "      <td>12.0</td>\n",
       "      <td>72.0</td>\n",
       "      <td>39.0</td>\n",
       "      <td>99.0</td>\n",
       "      <td>1.0</td>\n",
       "      <td>22.0</td>\n",
       "      <td>63.0</td>\n",
       "      <td>1.0</td>\n",
       "      <td>71.0</td>\n",
       "      <td>44.0</td>\n",
       "    </tr>\n",
       "    <tr>\n",
       "      <th>2009-02-01</th>\n",
       "      <td>45.0</td>\n",
       "      <td>28.0</td>\n",
       "      <td>27.0</td>\n",
       "      <td>98.0</td>\n",
       "      <td>56.0</td>\n",
       "      <td>63.0</td>\n",
       "      <td>69.0</td>\n",
       "      <td>44.0</td>\n",
       "      <td>85.0</td>\n",
       "      <td>28.0</td>\n",
       "      <td>...</td>\n",
       "      <td>11.0</td>\n",
       "      <td>76.0</td>\n",
       "      <td>42.0</td>\n",
       "      <td>94.0</td>\n",
       "      <td>57.0</td>\n",
       "      <td>22.0</td>\n",
       "      <td>53.0</td>\n",
       "      <td>88.0</td>\n",
       "      <td>92.0</td>\n",
       "      <td>47.0</td>\n",
       "    </tr>\n",
       "  </tbody>\n",
       "</table>\n",
       "<p>5 rows × 277 columns</p>\n",
       "</div>"
      ],
      "text/plain": [
       "              MA   TGT   PNC   YUM    LH   NEM   KMX   PXD   GWW   BXP  ...  \\\n",
       "Week                                                                    ...   \n",
       "2009-01-04  47.0  32.0  29.0  81.0  68.0  47.0  68.0   1.0  86.0  42.0  ...   \n",
       "2009-01-11  45.0  29.0  29.0  56.0  65.0  51.0  67.0   1.0  93.0  15.0  ...   \n",
       "2009-01-18  44.0  28.0  28.0  83.0  72.0  43.0  71.0  96.0  83.0  24.0  ...   \n",
       "2009-01-25  42.0  28.0  27.0  77.0  60.0  47.0  66.0  37.0  83.0  67.0  ...   \n",
       "2009-02-01  45.0  28.0  27.0  98.0  56.0  63.0  69.0  44.0  85.0  28.0  ...   \n",
       "\n",
       "             AIG   DGX   WFC    HON   ARE   WMT   TSN   EQT   WEC   CVS  \n",
       "Week                                                                     \n",
       "2009-01-04  13.0  89.0  44.0  100.0   1.0  24.0  70.0   1.0  63.0  47.0  \n",
       "2009-01-11  12.0  85.0  45.0   92.0   1.0  22.0  44.0   1.0  63.0  48.0  \n",
       "2009-01-18  11.0  85.0  41.0   82.0  32.0  22.0  42.0   1.0  62.0  47.0  \n",
       "2009-01-25  12.0  72.0  39.0   99.0   1.0  22.0  63.0   1.0  71.0  44.0  \n",
       "2009-02-01  11.0  76.0  42.0   94.0  57.0  22.0  53.0  88.0  92.0  47.0  \n",
       "\n",
       "[5 rows x 277 columns]"
      ]
     },
     "execution_count": 28,
     "metadata": {},
     "output_type": "execute_result"
    }
   ],
   "source": [
    "weekly = pd.DataFrame()\n",
    "\n",
    "for tick in companies_tickers: # loop on all companies\n",
    "    # get the data for the three periods\n",
    "    one = pd.read_csv(os.path.join(os.getcwd(), 'trends', 'companies', tick, 'multiTimeline.csv'), \n",
    "               header = 1, index_col = 'Week')\n",
    "    two = pd.read_csv(os.path.join(os.getcwd(), 'trends', 'companies', tick, 'multiTimeline (1).csv'), \n",
    "               header = 1, index_col = 'Week')\n",
    "    three = pd.read_csv(os.path.join(os.getcwd(), 'trends', 'companies', tick, 'multiTimeline (2).csv'), \n",
    "               header = 1, index_col = 'Week')\n",
    "    \n",
    "    one = one.replace(0,1)\n",
    "    two = two.replace(0,1)\n",
    "    three = three.replace(0,1)\n",
    "\n",
    "    # standardize data to common scale\n",
    "    weekly_company = standardize_df(standardize_df(one, two), three)\n",
    "    weekly_company.columns = [tick] # rename column as ticker\n",
    "    \n",
    "    weekly = pd.concat([weekly, weekly_company], axis = 1) # add as column in the total df\n",
    "    \n",
    "weekly.head()"
   ]
  },
  {
   "cell_type": "markdown",
   "id": "e0f802d7",
   "metadata": {
    "pycharm": {
     "name": "#%% md\n"
    }
   },
   "source": [
    "Below is a graphical example of what this last part of the code does."
   ]
  },
  {
   "cell_type": "code",
   "execution_count": 33,
   "id": "9eac5a43",
   "metadata": {
    "pycharm": {
     "name": "#%%\n"
    }
   },
   "outputs": [
    {
     "data": {
      "image/png": "[encoded data removed]",
      "text/plain": [
       "<Figure size 1080x288 with 2 Axes>"
      ]
     },
     "metadata": {
      "needs_background": "light"
     },
     "output_type": "display_data"
    }
   ],
   "source": [
    "fig, ax = plt.subplots(1,2, figsize = (15,4))\n",
    "one.index = pd.to_datetime(one.index)\n",
    "one.plot(ax = ax[0])\n",
    "two.index = pd.to_datetime(two.index)\n",
    "two.plot(ax = ax[0])\n",
    "three.index = pd.to_datetime(three.index)\n",
    "three.plot(ax = ax[0])\n",
    "weekly_company.index = pd.to_datetime(weekly_company.index)\n",
    "weekly_company.plot(ax = ax[1])\n",
    "plt.show()"
   ]
  },
  {
   "cell_type": "markdown",
   "source": [
    "# 6. Scraping data from newspaper.com <a name=\"news\"></a>\n",
    "\n"
   ],
   "metadata": {
    "collapsed": false,
    "pycharm": {
     "name": "#%% md\n"
    }
   }
  },
  {
   "cell_type": "markdown",
   "source": [
    "### 6.1 Collecting Data\n",
    "In the first section we will see how the data have been collected using Selenium. The algorithm works as a series of for loop that will evaluate for every day of every year considered the number of matches in newspapers as provided from the webiste newspaper.com.\n",
    "The code has been developed in such a way to handle of the peculiarities like the different number of days in each month and to take into account also the 29th of february in the case of leap years."
   ],
   "metadata": {
    "collapsed": false,
    "pycharm": {
     "name": "#%% md\n"
    }
   }
  },
  {
   "cell_type": "code",
   "execution_count": null,
   "outputs": [],
   "source": [
    "#class to get all url according to the link given\n",
    "class SelScraper():\n",
    "    def __init__(self) -> None:\n",
    "        self.option = webdriver.ChromeOptions()\n",
    "        self.driver = webdriver.Chrome(executable_path=\"chromedriver.exe\",options=self.option)\n",
    "        self.driver.implicitly_wait(0.5)\n",
    "        self.driver.maximize_window()\n",
    "\n",
    "    def scrap_data(self):\n",
    "        keyword_list = ['climate change','corporate governance','ESG','social responsibility','sustainability']\n",
    "        year_list =[2009 + i for i in range(11)]\n",
    "        month_dictionary ={\n",
    "            \"jan\":31,\n",
    "            \"feb\":28,\n",
    "            \"march\":31,\n",
    "            \"april\":30,\n",
    "            \"may\":31,\n",
    "            \"june\":30,\n",
    "            \"july\":31,\n",
    "            \"aug\":31,\n",
    "            \"sep\":30,\n",
    "            \"oct\":31,\n",
    "            \"nov\":30,\n",
    "            \"dec\":31\n",
    "        }\n",
    "        dates = []\n",
    "        climate_changes = []\n",
    "        corporate_governances = []\n",
    "        ESGs = []\n",
    "        social_responsibilities = []\n",
    "        sustainability = []\n",
    "        links = []\n",
    "        for year in year_list:\n",
    "            month_index = 1\n",
    "            for  month in month_dictionary:\n",
    "                if (year%4==0) and month=='feb':\n",
    "                    days = 29\n",
    "                else:\n",
    "                    days = month_dictionary[month]\n",
    "                if month_index < 10:\n",
    "                    month = f\"0{month_index}\"\n",
    "                else:\n",
    "                    month = str(month_index)\n",
    "                for day in range(1,days+1):\n",
    "                    if day <10:\n",
    "                        day = f\"0{day}\"\n",
    "                    else:\n",
    "                        day= str(day)\n",
    "                    date = str(year) + '-' + month + '-' + day\n",
    "                    dates.append(date)\n",
    "                    for keyword in keyword_list:\n",
    "                        temp_keyword = keyword.replace(' ','%20')\n",
    "                        url = f'https://www.newspapers.com/search/?query={temp_keyword}&ymd={date}'\n",
    "                        links.append(url)\n",
    "                        self.driver.get(url)\n",
    "                        print(url)\n",
    "                        time.sleep(2)\n",
    "                        matches_found = self.driver.find_element(By.TAG_NAME,'h1').find_element(By.TAG_NAME,'span').text\n",
    "                        if 'Loading' in matches_found:\n",
    "                            time.sleep(1)\n",
    "                            matches_found = self.driver.find_element(By.TAG_NAME,'h1').find_element(By.TAG_NAME,'span').text\n",
    "                        if 'Loading' in matches_found:\n",
    "                            time.sleep(1)\n",
    "                            matches_found = self.driver.find_element(By.TAG_NAME,'h1').find_element(By.TAG_NAME,'span').text\n",
    "                        if keyword == 'climate change':\n",
    "                            climate_changes.append(matches_found)\n",
    "                        elif keyword =='corporate governance':\n",
    "                            corporate_governances.append(matches_found)\n",
    "                        elif keyword =='ESG':\n",
    "                            ESGs.append(matches_found)\n",
    "                        elif keyword =='social responsibility':\n",
    "                            social_responsibilities.append(matches_found)\n",
    "                        elif keyword =='sustainability':\n",
    "                            sustainability.append(matches_found)\n",
    "                        print(matches_found)\n",
    "                month_index=month_index+1\n",
    "\n",
    "        all_data = {\n",
    "            \"Date\":dates,\n",
    "            \"climate change matches\":climate_changes,\n",
    "            \"corporate governance matches\":corporate_governances,\n",
    "            \"ESG matches\":ESGs,\n",
    "            \"social responsibility matches\":social_responsibilities,\n",
    "            \"sustainability matches\":sustainability,\n",
    "            }\n",
    "        print(all_data)\n",
    "        frame = pd.DataFrame(all_data)\n",
    "        frame.to_csv('output.csv')\n",
    "        self.close_driver()\n",
    "\n",
    "\n",
    "\n",
    "\n",
    "\n",
    "    def close_driver(self):\n",
    "        self.driver.close()\n",
    "\n",
    "if \"__main__\"==__name__:\n",
    "    obj = SelScraper()\n",
    "    obj.scrap_data()\n"
   ],
   "metadata": {
    "collapsed": false,
    "pycharm": {
     "name": "#%%\n"
    }
   }
  },
  {
   "cell_type": "markdown",
   "source": [
    "### 6.2 Formatting the data in csv files\n",
    "Given time constraints The previous algorithm has been run on a yearly basis on different machines. Then we will have a csv file for each of the year that we took into consideraion. In the next two sections we will see how the data have been aggregated in two unique dataframes:\n",
    "- daily_newspaper.csv: contains the matches for each of the keywords on a daily basis\n",
    "- weekly_newspaper.csv: the data of daily_newspaper have been aggregated on a weeklt basis\n"
   ],
   "metadata": {
    "collapsed": false,
    "pycharm": {
     "name": "#%% md\n"
    }
   }
  },
  {
   "cell_type": "markdown",
   "source": [
    "#### 6.2.1 daily_newspaper\n"
   ],
   "metadata": {
    "collapsed": false,
    "pycharm": {
     "name": "#%% md\n"
    }
   }
  },
  {
   "cell_type": "code",
   "execution_count": null,
   "outputs": [],
   "source": [
    "import datetime as dt\n",
    "df1 = pd.read_csv('Data/2009_output.csv')\n",
    "df2 = pd.read_csv('Data/2010_output.csv')\n",
    "df3 = pd.read_csv('Data/2011_output.csv')\n",
    "df4 = pd.read_csv('Data/2012_output.csv')\n",
    "df5 = pd.read_csv('Data/2013_output.csv')\n",
    "df6 = pd.read_csv('Data/2014_output.csv')\n",
    "df7 = pd.read_csv('Data/2015_output.csv')\n",
    "df8 = pd.read_csv('Data/2016_output.csv')\n",
    "df9 = pd.read_csv('Data/2017_output.csv')\n",
    "df10 = pd.read_csv('Data/2018_output.csv')\n",
    "df11 = pd.read_csv('Data/2019_output.csv')\n",
    "final_df = df1.append(df2).append(df3).append(df4).append(df5).append(df6).append(df7).append(df8).append(df9).append(df10).append(df11)"
   ],
   "metadata": {
    "collapsed": false,
    "pycharm": {
     "name": "#%%\n"
    }
   }
  },
  {
   "cell_type": "code",
   "execution_count": null,
   "outputs": [],
   "source": [
    "# substituing Loading and nan values with 0\n",
    "final_df = final_df.replace('Loading', np.nan)\n",
    "final_df = final_df.replace(np.nan, 0)\n",
    "final_df.isnull().sum()  # no null"
   ],
   "metadata": {
    "collapsed": false,
    "pycharm": {
     "name": "#%%\n"
    }
   }
  },
  {
   "cell_type": "code",
   "execution_count": null,
   "outputs": [],
   "source": [
    "final_df = final_df.drop('Unnamed: 0', axis=1).reset_index(drop=True)\n",
    "final_df['Date'] = pd.to_datetime(final_df['Date'])\n"
   ],
   "metadata": {
    "collapsed": false,
    "pycharm": {
     "name": "#%%\n"
    }
   }
  },
  {
   "cell_type": "code",
   "execution_count": null,
   "outputs": [],
   "source": [
    "final_df['WeekDate'] = final_df.apply(lambda row: row['Date'] - dt.timedelta(days=row['Date'].weekday()), axis=1)\n",
    "final_df.drop('Date', axis=1)\n",
    "final_df['climate change matches'] = final_df['climate change matches'].astype(float)\n",
    "final_df['corporate governance matches'] = final_df['corporate governance matches'].astype(float)\n",
    "final_df['ESG matches'] = final_df['ESG matches'].astype(float)\n",
    "final_df['social responsibility matches'] = final_df['social responsibility matches'].astype(float)\n",
    "final_df['sustainability matches'] = final_df['sustainability matches'].astype(float)\n",
    "\n",
    "final_df.to_csv('daily_newspaper.csv')"
   ],
   "metadata": {
    "collapsed": false,
    "pycharm": {
     "name": "#%%\n"
    }
   }
  },
  {
   "cell_type": "code",
   "execution_count": null,
   "outputs": [],
   "source": [
    "final_df.head()"
   ],
   "metadata": {
    "collapsed": false,
    "pycharm": {
     "name": "#%%\n"
    }
   }
  },
  {
   "cell_type": "markdown",
   "source": [
    "#### 6.2.2 weekly_newspaper"
   ],
   "metadata": {
    "collapsed": false,
    "pycharm": {
     "name": "#%% md\n"
    }
   }
  },
  {
   "cell_type": "code",
   "execution_count": null,
   "outputs": [],
   "source": [
    "final_df.groupby('WeekDate').sum()\n",
    "weekly_df = final_df.groupby('WeekDate').sum()"
   ],
   "metadata": {
    "collapsed": false,
    "pycharm": {
     "name": "#%%\n"
    }
   }
  },
  {
   "cell_type": "code",
   "execution_count": null,
   "outputs": [],
   "source": [
    "weekly_df.to_csv('weekly_newspaper.csv')\n"
   ],
   "metadata": {
    "collapsed": false,
    "pycharm": {
     "name": "#%%\n"
    }
   }
  }
 ],
 "metadata": {
  "kernelspec": {
   "name": "python385jvsc74a57bd0f1542c306cb0ca549d86eea72bf10f27023ff55b8cfdccad77c56cbf504d0e3a",
   "language": "python",
   "display_name": "Python 3.8.5 ('base')"
  },
  "language_info": {
   "codemirror_mode": {
    "name": "ipython",
    "version": 3
   },
   "file_extension": ".py",
   "mimetype": "text/x-python",
   "name": "python",
   "nbconvert_exporter": "python",
   "pygments_lexer": "ipython3",
   "version": "3.9.7"
  }
 },
 "nbformat": 4,
 "nbformat_minor": 5
}