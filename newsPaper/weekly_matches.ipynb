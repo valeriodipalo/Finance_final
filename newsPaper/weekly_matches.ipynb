{
 "cells": [
  {
   "cell_type": "code",
   "execution_count": 2,
   "outputs": [
    {
     "ename": "FileNotFoundError",
     "evalue": "[Errno 2] No such file or directory: 'newspaperdata/newsPaper/2010_output.csv'",
     "output_type": "error",
     "traceback": [
      "\u001B[0;31m---------------------------------------------------------------------------\u001B[0m",
      "\u001B[0;31mFileNotFoundError\u001B[0m                         Traceback (most recent call last)",
      "\u001B[0;32m<ipython-input-2-4440ba710b33>\u001B[0m in \u001B[0;36m<module>\u001B[0;34m\u001B[0m\n\u001B[1;32m      3\u001B[0m \u001B[0;32mimport\u001B[0m \u001B[0mdatetime\u001B[0m \u001B[0;32mas\u001B[0m \u001B[0mdt\u001B[0m\u001B[0;34m\u001B[0m\u001B[0;34m\u001B[0m\u001B[0m\n\u001B[1;32m      4\u001B[0m \u001B[0mdf1\u001B[0m \u001B[0;34m=\u001B[0m \u001B[0mpd\u001B[0m\u001B[0;34m.\u001B[0m\u001B[0mread_csv\u001B[0m\u001B[0;34m(\u001B[0m\u001B[0;34m'Data/2009_output.csv'\u001B[0m\u001B[0;34m)\u001B[0m\u001B[0;34m\u001B[0m\u001B[0;34m\u001B[0m\u001B[0m\n\u001B[0;32m----> 5\u001B[0;31m \u001B[0mdf2\u001B[0m \u001B[0;34m=\u001B[0m \u001B[0mpd\u001B[0m\u001B[0;34m.\u001B[0m\u001B[0mread_csv\u001B[0m\u001B[0;34m(\u001B[0m\u001B[0;34m'newspaperdata/newsPaper/2010_output.csv'\u001B[0m\u001B[0;34m)\u001B[0m\u001B[0;34m\u001B[0m\u001B[0;34m\u001B[0m\u001B[0m\n\u001B[0m\u001B[1;32m      6\u001B[0m \u001B[0mdf3\u001B[0m \u001B[0;34m=\u001B[0m \u001B[0mpd\u001B[0m\u001B[0;34m.\u001B[0m\u001B[0mread_csv\u001B[0m\u001B[0;34m(\u001B[0m\u001B[0;34m'newspaperdata/newsPaper/2011_output.csv'\u001B[0m\u001B[0;34m)\u001B[0m\u001B[0;34m\u001B[0m\u001B[0;34m\u001B[0m\u001B[0m\n\u001B[1;32m      7\u001B[0m \u001B[0mdf4\u001B[0m \u001B[0;34m=\u001B[0m \u001B[0mpd\u001B[0m\u001B[0;34m.\u001B[0m\u001B[0mread_csv\u001B[0m\u001B[0;34m(\u001B[0m\u001B[0;34m'newspaperdata/newsPaper/2012_output.csv'\u001B[0m\u001B[0;34m)\u001B[0m\u001B[0;34m\u001B[0m\u001B[0;34m\u001B[0m\u001B[0m\n",
      "\u001B[0;32m~/opt/anaconda3/lib/python3.8/site-packages/pandas/io/parsers.py\u001B[0m in \u001B[0;36mread_csv\u001B[0;34m(filepath_or_buffer, sep, delimiter, header, names, index_col, usecols, squeeze, prefix, mangle_dupe_cols, dtype, engine, converters, true_values, false_values, skipinitialspace, skiprows, skipfooter, nrows, na_values, keep_default_na, na_filter, verbose, skip_blank_lines, parse_dates, infer_datetime_format, keep_date_col, date_parser, dayfirst, cache_dates, iterator, chunksize, compression, thousands, decimal, lineterminator, quotechar, quoting, doublequote, escapechar, comment, encoding, dialect, error_bad_lines, warn_bad_lines, delim_whitespace, low_memory, memory_map, float_precision)\u001B[0m\n\u001B[1;32m    684\u001B[0m     )\n\u001B[1;32m    685\u001B[0m \u001B[0;34m\u001B[0m\u001B[0m\n\u001B[0;32m--> 686\u001B[0;31m     \u001B[0;32mreturn\u001B[0m \u001B[0m_read\u001B[0m\u001B[0;34m(\u001B[0m\u001B[0mfilepath_or_buffer\u001B[0m\u001B[0;34m,\u001B[0m \u001B[0mkwds\u001B[0m\u001B[0;34m)\u001B[0m\u001B[0;34m\u001B[0m\u001B[0;34m\u001B[0m\u001B[0m\n\u001B[0m\u001B[1;32m    687\u001B[0m \u001B[0;34m\u001B[0m\u001B[0m\n\u001B[1;32m    688\u001B[0m \u001B[0;34m\u001B[0m\u001B[0m\n",
      "\u001B[0;32m~/opt/anaconda3/lib/python3.8/site-packages/pandas/io/parsers.py\u001B[0m in \u001B[0;36m_read\u001B[0;34m(filepath_or_buffer, kwds)\u001B[0m\n\u001B[1;32m    450\u001B[0m \u001B[0;34m\u001B[0m\u001B[0m\n\u001B[1;32m    451\u001B[0m     \u001B[0;31m# Create the parser.\u001B[0m\u001B[0;34m\u001B[0m\u001B[0;34m\u001B[0m\u001B[0;34m\u001B[0m\u001B[0m\n\u001B[0;32m--> 452\u001B[0;31m     \u001B[0mparser\u001B[0m \u001B[0;34m=\u001B[0m \u001B[0mTextFileReader\u001B[0m\u001B[0;34m(\u001B[0m\u001B[0mfp_or_buf\u001B[0m\u001B[0;34m,\u001B[0m \u001B[0;34m**\u001B[0m\u001B[0mkwds\u001B[0m\u001B[0;34m)\u001B[0m\u001B[0;34m\u001B[0m\u001B[0;34m\u001B[0m\u001B[0m\n\u001B[0m\u001B[1;32m    453\u001B[0m \u001B[0;34m\u001B[0m\u001B[0m\n\u001B[1;32m    454\u001B[0m     \u001B[0;32mif\u001B[0m \u001B[0mchunksize\u001B[0m \u001B[0;32mor\u001B[0m \u001B[0miterator\u001B[0m\u001B[0;34m:\u001B[0m\u001B[0;34m\u001B[0m\u001B[0;34m\u001B[0m\u001B[0m\n",
      "\u001B[0;32m~/opt/anaconda3/lib/python3.8/site-packages/pandas/io/parsers.py\u001B[0m in \u001B[0;36m__init__\u001B[0;34m(self, f, engine, **kwds)\u001B[0m\n\u001B[1;32m    944\u001B[0m             \u001B[0mself\u001B[0m\u001B[0;34m.\u001B[0m\u001B[0moptions\u001B[0m\u001B[0;34m[\u001B[0m\u001B[0;34m\"has_index_names\"\u001B[0m\u001B[0;34m]\u001B[0m \u001B[0;34m=\u001B[0m \u001B[0mkwds\u001B[0m\u001B[0;34m[\u001B[0m\u001B[0;34m\"has_index_names\"\u001B[0m\u001B[0;34m]\u001B[0m\u001B[0;34m\u001B[0m\u001B[0;34m\u001B[0m\u001B[0m\n\u001B[1;32m    945\u001B[0m \u001B[0;34m\u001B[0m\u001B[0m\n\u001B[0;32m--> 946\u001B[0;31m         \u001B[0mself\u001B[0m\u001B[0;34m.\u001B[0m\u001B[0m_make_engine\u001B[0m\u001B[0;34m(\u001B[0m\u001B[0mself\u001B[0m\u001B[0;34m.\u001B[0m\u001B[0mengine\u001B[0m\u001B[0;34m)\u001B[0m\u001B[0;34m\u001B[0m\u001B[0;34m\u001B[0m\u001B[0m\n\u001B[0m\u001B[1;32m    947\u001B[0m \u001B[0;34m\u001B[0m\u001B[0m\n\u001B[1;32m    948\u001B[0m     \u001B[0;32mdef\u001B[0m \u001B[0mclose\u001B[0m\u001B[0;34m(\u001B[0m\u001B[0mself\u001B[0m\u001B[0;34m)\u001B[0m\u001B[0;34m:\u001B[0m\u001B[0;34m\u001B[0m\u001B[0;34m\u001B[0m\u001B[0m\n",
      "\u001B[0;32m~/opt/anaconda3/lib/python3.8/site-packages/pandas/io/parsers.py\u001B[0m in \u001B[0;36m_make_engine\u001B[0;34m(self, engine)\u001B[0m\n\u001B[1;32m   1176\u001B[0m     \u001B[0;32mdef\u001B[0m \u001B[0m_make_engine\u001B[0m\u001B[0;34m(\u001B[0m\u001B[0mself\u001B[0m\u001B[0;34m,\u001B[0m \u001B[0mengine\u001B[0m\u001B[0;34m=\u001B[0m\u001B[0;34m\"c\"\u001B[0m\u001B[0;34m)\u001B[0m\u001B[0;34m:\u001B[0m\u001B[0;34m\u001B[0m\u001B[0;34m\u001B[0m\u001B[0m\n\u001B[1;32m   1177\u001B[0m         \u001B[0;32mif\u001B[0m \u001B[0mengine\u001B[0m \u001B[0;34m==\u001B[0m \u001B[0;34m\"c\"\u001B[0m\u001B[0;34m:\u001B[0m\u001B[0;34m\u001B[0m\u001B[0;34m\u001B[0m\u001B[0m\n\u001B[0;32m-> 1178\u001B[0;31m             \u001B[0mself\u001B[0m\u001B[0;34m.\u001B[0m\u001B[0m_engine\u001B[0m \u001B[0;34m=\u001B[0m \u001B[0mCParserWrapper\u001B[0m\u001B[0;34m(\u001B[0m\u001B[0mself\u001B[0m\u001B[0;34m.\u001B[0m\u001B[0mf\u001B[0m\u001B[0;34m,\u001B[0m \u001B[0;34m**\u001B[0m\u001B[0mself\u001B[0m\u001B[0;34m.\u001B[0m\u001B[0moptions\u001B[0m\u001B[0;34m)\u001B[0m\u001B[0;34m\u001B[0m\u001B[0;34m\u001B[0m\u001B[0m\n\u001B[0m\u001B[1;32m   1179\u001B[0m         \u001B[0;32melse\u001B[0m\u001B[0;34m:\u001B[0m\u001B[0;34m\u001B[0m\u001B[0;34m\u001B[0m\u001B[0m\n\u001B[1;32m   1180\u001B[0m             \u001B[0;32mif\u001B[0m \u001B[0mengine\u001B[0m \u001B[0;34m==\u001B[0m \u001B[0;34m\"python\"\u001B[0m\u001B[0;34m:\u001B[0m\u001B[0;34m\u001B[0m\u001B[0;34m\u001B[0m\u001B[0m\n",
      "\u001B[0;32m~/opt/anaconda3/lib/python3.8/site-packages/pandas/io/parsers.py\u001B[0m in \u001B[0;36m__init__\u001B[0;34m(self, src, **kwds)\u001B[0m\n\u001B[1;32m   2006\u001B[0m         \u001B[0mkwds\u001B[0m\u001B[0;34m[\u001B[0m\u001B[0;34m\"usecols\"\u001B[0m\u001B[0;34m]\u001B[0m \u001B[0;34m=\u001B[0m \u001B[0mself\u001B[0m\u001B[0;34m.\u001B[0m\u001B[0musecols\u001B[0m\u001B[0;34m\u001B[0m\u001B[0;34m\u001B[0m\u001B[0m\n\u001B[1;32m   2007\u001B[0m \u001B[0;34m\u001B[0m\u001B[0m\n\u001B[0;32m-> 2008\u001B[0;31m         \u001B[0mself\u001B[0m\u001B[0;34m.\u001B[0m\u001B[0m_reader\u001B[0m \u001B[0;34m=\u001B[0m \u001B[0mparsers\u001B[0m\u001B[0;34m.\u001B[0m\u001B[0mTextReader\u001B[0m\u001B[0;34m(\u001B[0m\u001B[0msrc\u001B[0m\u001B[0;34m,\u001B[0m \u001B[0;34m**\u001B[0m\u001B[0mkwds\u001B[0m\u001B[0;34m)\u001B[0m\u001B[0;34m\u001B[0m\u001B[0;34m\u001B[0m\u001B[0m\n\u001B[0m\u001B[1;32m   2009\u001B[0m         \u001B[0mself\u001B[0m\u001B[0;34m.\u001B[0m\u001B[0munnamed_cols\u001B[0m \u001B[0;34m=\u001B[0m \u001B[0mself\u001B[0m\u001B[0;34m.\u001B[0m\u001B[0m_reader\u001B[0m\u001B[0;34m.\u001B[0m\u001B[0munnamed_cols\u001B[0m\u001B[0;34m\u001B[0m\u001B[0;34m\u001B[0m\u001B[0m\n\u001B[1;32m   2010\u001B[0m \u001B[0;34m\u001B[0m\u001B[0m\n",
      "\u001B[0;32mpandas/_libs/parsers.pyx\u001B[0m in \u001B[0;36mpandas._libs.parsers.TextReader.__cinit__\u001B[0;34m()\u001B[0m\n",
      "\u001B[0;32mpandas/_libs/parsers.pyx\u001B[0m in \u001B[0;36mpandas._libs.parsers.TextReader._setup_parser_source\u001B[0;34m()\u001B[0m\n",
      "\u001B[0;31mFileNotFoundError\u001B[0m: [Errno 2] No such file or directory: 'newspaperdata/newsPaper/2010_output.csv'"
     ]
    }
   ],
   "source": [
    "import pandas as pd\n",
    "import numpy as np\n",
    "import datetime as dt\n",
    "df1 = pd.read_csv('Data/2009_output.csv')\n",
    "df2 = pd.read_csv('Data/2010_output.csv')\n",
    "df3 = pd.read_csv('Data/2011_output.csv')\n",
    "df4 = pd.read_csv('Data/2012_output.csv')\n",
    "df5 = pd.read_csv('Data/2013_output.csv')\n",
    "df6 = pd.read_csv('Data/2014_output.csv')\n",
    "df7 = pd.read_csv('Data/2015_output.csv')\n",
    "df8 = pd.read_csv('Data/2016_output.csv')\n",
    "df9 = pd.read_csv('Data/2017_output.csv')\n",
    "df10 = pd.read_csv('Data/2018_output.csv')\n",
    "df11 = pd.read_csv('Data/2019_output.csv')"
   ],
   "metadata": {
    "collapsed": false,
    "pycharm": {
     "name": "#%%\n"
    }
   }
  },
  {
   "cell_type": "code",
   "execution_count": 10,
   "outputs": [],
   "source": [
    "final_df = df1.append(df2).append(df3).append(df4).append(df5).append(df6).append(df7).append(df8).append(df9).append(df10).append(df11)"
   ],
   "metadata": {
    "collapsed": false,
    "pycharm": {
     "name": "#%%\n"
    }
   }
  },
  {
   "cell_type": "code",
   "execution_count": 11,
   "outputs": [],
   "source": [
    "final_df = final_df.replace('Loading', np.nan)\n",
    "final_df = final_df.replace(np.nan, 0)"
   ],
   "metadata": {
    "collapsed": false,
    "pycharm": {
     "name": "#%%\n"
    }
   }
  },
  {
   "cell_type": "code",
   "execution_count": 12,
   "outputs": [
    {
     "data": {
      "text/plain": "Unnamed: 0                       0\nDate                             0\nclimate change matches           0\ncorporate governance matches     0\nESG matches                      0\nsocial responsibility matches    0\nsustainability matches           0\ndtype: int64"
     },
     "execution_count": 12,
     "metadata": {},
     "output_type": "execute_result"
    }
   ],
   "source": [
    "final_df.isnull().sum() # no null"
   ],
   "metadata": {
    "collapsed": false,
    "pycharm": {
     "name": "#%%\n"
    }
   }
  },
  {
   "cell_type": "code",
   "execution_count": 13,
   "outputs": [],
   "source": [
    "final_df = final_df.drop('Unnamed: 0',axis = 1).reset_index(drop = True)\n",
    "final_df['Date'] = pd.to_datetime(final_df['Date'])"
   ],
   "metadata": {
    "collapsed": false,
    "pycharm": {
     "name": "#%%\n"
    }
   }
  },
  {
   "cell_type": "code",
   "execution_count": 14,
   "outputs": [
    {
     "data": {
      "text/plain": "        Date climate change matches corporate governance matches ESG matches  \\\n0 2009-01-01                    168                            8           7   \n1 2009-01-02                    334                            9           3   \n2 2009-01-03                    311                            8           4   \n3 2009-01-04                    374                           11          15   \n4 2009-01-05                    147                            7           4   \n\n  social responsibility matches sustainability matches  \n0                           141                     34  \n1                           138                     35  \n2                           168                     50  \n3                           284                     88  \n4                            92                     39  ",
      "text/html": "<div>\n<style scoped>\n    .dataframe tbody tr th:only-of-type {\n        vertical-align: middle;\n    }\n\n    .dataframe tbody tr th {\n        vertical-align: top;\n    }\n\n    .dataframe thead th {\n        text-align: right;\n    }\n</style>\n<table border=\"1\" class=\"dataframe\">\n  <thead>\n    <tr style=\"text-align: right;\">\n      <th></th>\n      <th>Date</th>\n      <th>climate change matches</th>\n      <th>corporate governance matches</th>\n      <th>ESG matches</th>\n      <th>social responsibility matches</th>\n      <th>sustainability matches</th>\n    </tr>\n  </thead>\n  <tbody>\n    <tr>\n      <th>0</th>\n      <td>2009-01-01</td>\n      <td>168</td>\n      <td>8</td>\n      <td>7</td>\n      <td>141</td>\n      <td>34</td>\n    </tr>\n    <tr>\n      <th>1</th>\n      <td>2009-01-02</td>\n      <td>334</td>\n      <td>9</td>\n      <td>3</td>\n      <td>138</td>\n      <td>35</td>\n    </tr>\n    <tr>\n      <th>2</th>\n      <td>2009-01-03</td>\n      <td>311</td>\n      <td>8</td>\n      <td>4</td>\n      <td>168</td>\n      <td>50</td>\n    </tr>\n    <tr>\n      <th>3</th>\n      <td>2009-01-04</td>\n      <td>374</td>\n      <td>11</td>\n      <td>15</td>\n      <td>284</td>\n      <td>88</td>\n    </tr>\n    <tr>\n      <th>4</th>\n      <td>2009-01-05</td>\n      <td>147</td>\n      <td>7</td>\n      <td>4</td>\n      <td>92</td>\n      <td>39</td>\n    </tr>\n  </tbody>\n</table>\n</div>"
     },
     "execution_count": 14,
     "metadata": {},
     "output_type": "execute_result"
    }
   ],
   "source": [
    "final_df.head()"
   ],
   "metadata": {
    "collapsed": false,
    "pycharm": {
     "name": "#%%\n"
    }
   }
  },
  {
   "cell_type": "code",
   "execution_count": 15,
   "outputs": [
    {
     "data": {
      "text/plain": "     climate change matches corporate governance matches ESG matches  \\\n0                       168                            8           7   \n1                       334                            9           3   \n2                       311                            8           4   \n3                       374                           11          15   \n4                       147                            7           4   \n...                     ...                          ...         ...   \n4012                    252                            0           7   \n4013                    236                            1           0   \n4014                    457                            4           5   \n4015                    249                            4           0   \n4016                    221                            3           0   \n\n     social responsibility matches sustainability matches   WeekDate  \n0                              141                     34 2008-12-29  \n1                              138                     35 2008-12-29  \n2                              168                     50 2008-12-29  \n3                              284                     88 2008-12-29  \n4                               92                     39 2009-01-05  \n...                            ...                    ...        ...  \n4012                            86                     78 2019-12-23  \n4013                           166                     46 2019-12-23  \n4014                           238                     76 2019-12-23  \n4015                            76                     17 2019-12-30  \n4016                           127                     21 2019-12-30  \n\n[4017 rows x 6 columns]",
      "text/html": "<div>\n<style scoped>\n    .dataframe tbody tr th:only-of-type {\n        vertical-align: middle;\n    }\n\n    .dataframe tbody tr th {\n        vertical-align: top;\n    }\n\n    .dataframe thead th {\n        text-align: right;\n    }\n</style>\n<table border=\"1\" class=\"dataframe\">\n  <thead>\n    <tr style=\"text-align: right;\">\n      <th></th>\n      <th>climate change matches</th>\n      <th>corporate governance matches</th>\n      <th>ESG matches</th>\n      <th>social responsibility matches</th>\n      <th>sustainability matches</th>\n      <th>WeekDate</th>\n    </tr>\n  </thead>\n  <tbody>\n    <tr>\n      <th>0</th>\n      <td>168</td>\n      <td>8</td>\n      <td>7</td>\n      <td>141</td>\n      <td>34</td>\n      <td>2008-12-29</td>\n    </tr>\n    <tr>\n      <th>1</th>\n      <td>334</td>\n      <td>9</td>\n      <td>3</td>\n      <td>138</td>\n      <td>35</td>\n      <td>2008-12-29</td>\n    </tr>\n    <tr>\n      <th>2</th>\n      <td>311</td>\n      <td>8</td>\n      <td>4</td>\n      <td>168</td>\n      <td>50</td>\n      <td>2008-12-29</td>\n    </tr>\n    <tr>\n      <th>3</th>\n      <td>374</td>\n      <td>11</td>\n      <td>15</td>\n      <td>284</td>\n      <td>88</td>\n      <td>2008-12-29</td>\n    </tr>\n    <tr>\n      <th>4</th>\n      <td>147</td>\n      <td>7</td>\n      <td>4</td>\n      <td>92</td>\n      <td>39</td>\n      <td>2009-01-05</td>\n    </tr>\n    <tr>\n      <th>...</th>\n      <td>...</td>\n      <td>...</td>\n      <td>...</td>\n      <td>...</td>\n      <td>...</td>\n      <td>...</td>\n    </tr>\n    <tr>\n      <th>4012</th>\n      <td>252</td>\n      <td>0</td>\n      <td>7</td>\n      <td>86</td>\n      <td>78</td>\n      <td>2019-12-23</td>\n    </tr>\n    <tr>\n      <th>4013</th>\n      <td>236</td>\n      <td>1</td>\n      <td>0</td>\n      <td>166</td>\n      <td>46</td>\n      <td>2019-12-23</td>\n    </tr>\n    <tr>\n      <th>4014</th>\n      <td>457</td>\n      <td>4</td>\n      <td>5</td>\n      <td>238</td>\n      <td>76</td>\n      <td>2019-12-23</td>\n    </tr>\n    <tr>\n      <th>4015</th>\n      <td>249</td>\n      <td>4</td>\n      <td>0</td>\n      <td>76</td>\n      <td>17</td>\n      <td>2019-12-30</td>\n    </tr>\n    <tr>\n      <th>4016</th>\n      <td>221</td>\n      <td>3</td>\n      <td>0</td>\n      <td>127</td>\n      <td>21</td>\n      <td>2019-12-30</td>\n    </tr>\n  </tbody>\n</table>\n<p>4017 rows × 6 columns</p>\n</div>"
     },
     "execution_count": 15,
     "metadata": {},
     "output_type": "execute_result"
    }
   ],
   "source": [
    "final_df['WeekDate'] = final_df.apply(lambda row: row['Date'] - dt.timedelta(days=row['Date'].weekday()), axis=1)\n",
    "final_df.drop('Date',axis = 1)"
   ],
   "metadata": {
    "collapsed": false,
    "pycharm": {
     "name": "#%%\n"
    }
   }
  },
  {
   "cell_type": "code",
   "execution_count": 16,
   "outputs": [],
   "source": [
    "final_df['climate change matches'] = final_df['climate change matches'].astype(float)\n",
    "final_df['corporate governance matches'] = final_df['corporate governance matches'].astype(float)\n",
    "final_df['ESG matches'] = final_df['ESG matches'].astype(float)\n",
    "final_df['social responsibility matches'] = final_df['social responsibility matches'].astype(float)\n",
    "final_df['sustainability matches'] = final_df['sustainability matches'].astype(float)"
   ],
   "metadata": {
    "collapsed": false,
    "pycharm": {
     "name": "#%%\n"
    }
   }
  },
  {
   "cell_type": "code",
   "execution_count": 17,
   "outputs": [
    {
     "data": {
      "text/plain": "           Date  climate change matches  corporate governance matches  \\\n0    2009-01-01                   168.0                           8.0   \n1    2009-01-02                   334.0                           9.0   \n2    2009-01-03                   311.0                           8.0   \n3    2009-01-04                   374.0                          11.0   \n4    2009-01-05                   147.0                           7.0   \n...         ...                     ...                           ...   \n4012 2019-12-27                   252.0                           0.0   \n4013 2019-12-28                   236.0                           1.0   \n4014 2019-12-29                   457.0                           4.0   \n4015 2019-12-30                   249.0                           4.0   \n4016 2019-12-31                   221.0                           3.0   \n\n      ESG matches  social responsibility matches  sustainability matches  \\\n0             7.0                          141.0                    34.0   \n1             3.0                          138.0                    35.0   \n2             4.0                          168.0                    50.0   \n3            15.0                          284.0                    88.0   \n4             4.0                           92.0                    39.0   \n...           ...                            ...                     ...   \n4012          7.0                           86.0                    78.0   \n4013          0.0                          166.0                    46.0   \n4014          5.0                          238.0                    76.0   \n4015          0.0                           76.0                    17.0   \n4016          0.0                          127.0                    21.0   \n\n       WeekDate  \n0    2008-12-29  \n1    2008-12-29  \n2    2008-12-29  \n3    2008-12-29  \n4    2009-01-05  \n...         ...  \n4012 2019-12-23  \n4013 2019-12-23  \n4014 2019-12-23  \n4015 2019-12-30  \n4016 2019-12-30  \n\n[4017 rows x 7 columns]",
      "text/html": "<div>\n<style scoped>\n    .dataframe tbody tr th:only-of-type {\n        vertical-align: middle;\n    }\n\n    .dataframe tbody tr th {\n        vertical-align: top;\n    }\n\n    .dataframe thead th {\n        text-align: right;\n    }\n</style>\n<table border=\"1\" class=\"dataframe\">\n  <thead>\n    <tr style=\"text-align: right;\">\n      <th></th>\n      <th>Date</th>\n      <th>climate change matches</th>\n      <th>corporate governance matches</th>\n      <th>ESG matches</th>\n      <th>social responsibility matches</th>\n      <th>sustainability matches</th>\n      <th>WeekDate</th>\n    </tr>\n  </thead>\n  <tbody>\n    <tr>\n      <th>0</th>\n      <td>2009-01-01</td>\n      <td>168.0</td>\n      <td>8.0</td>\n      <td>7.0</td>\n      <td>141.0</td>\n      <td>34.0</td>\n      <td>2008-12-29</td>\n    </tr>\n    <tr>\n      <th>1</th>\n      <td>2009-01-02</td>\n      <td>334.0</td>\n      <td>9.0</td>\n      <td>3.0</td>\n      <td>138.0</td>\n      <td>35.0</td>\n      <td>2008-12-29</td>\n    </tr>\n    <tr>\n      <th>2</th>\n      <td>2009-01-03</td>\n      <td>311.0</td>\n      <td>8.0</td>\n      <td>4.0</td>\n      <td>168.0</td>\n      <td>50.0</td>\n      <td>2008-12-29</td>\n    </tr>\n    <tr>\n      <th>3</th>\n      <td>2009-01-04</td>\n      <td>374.0</td>\n      <td>11.0</td>\n      <td>15.0</td>\n      <td>284.0</td>\n      <td>88.0</td>\n      <td>2008-12-29</td>\n    </tr>\n    <tr>\n      <th>4</th>\n      <td>2009-01-05</td>\n      <td>147.0</td>\n      <td>7.0</td>\n      <td>4.0</td>\n      <td>92.0</td>\n      <td>39.0</td>\n      <td>2009-01-05</td>\n    </tr>\n    <tr>\n      <th>...</th>\n      <td>...</td>\n      <td>...</td>\n      <td>...</td>\n      <td>...</td>\n      <td>...</td>\n      <td>...</td>\n      <td>...</td>\n    </tr>\n    <tr>\n      <th>4012</th>\n      <td>2019-12-27</td>\n      <td>252.0</td>\n      <td>0.0</td>\n      <td>7.0</td>\n      <td>86.0</td>\n      <td>78.0</td>\n      <td>2019-12-23</td>\n    </tr>\n    <tr>\n      <th>4013</th>\n      <td>2019-12-28</td>\n      <td>236.0</td>\n      <td>1.0</td>\n      <td>0.0</td>\n      <td>166.0</td>\n      <td>46.0</td>\n      <td>2019-12-23</td>\n    </tr>\n    <tr>\n      <th>4014</th>\n      <td>2019-12-29</td>\n      <td>457.0</td>\n      <td>4.0</td>\n      <td>5.0</td>\n      <td>238.0</td>\n      <td>76.0</td>\n      <td>2019-12-23</td>\n    </tr>\n    <tr>\n      <th>4015</th>\n      <td>2019-12-30</td>\n      <td>249.0</td>\n      <td>4.0</td>\n      <td>0.0</td>\n      <td>76.0</td>\n      <td>17.0</td>\n      <td>2019-12-30</td>\n    </tr>\n    <tr>\n      <th>4016</th>\n      <td>2019-12-31</td>\n      <td>221.0</td>\n      <td>3.0</td>\n      <td>0.0</td>\n      <td>127.0</td>\n      <td>21.0</td>\n      <td>2019-12-30</td>\n    </tr>\n  </tbody>\n</table>\n<p>4017 rows × 7 columns</p>\n</div>"
     },
     "execution_count": 17,
     "metadata": {},
     "output_type": "execute_result"
    }
   ],
   "source": [
    "final_df"
   ],
   "metadata": {
    "collapsed": false,
    "pycharm": {
     "name": "#%%\n"
    }
   }
  },
  {
   "cell_type": "code",
   "execution_count": 18,
   "outputs": [
    {
     "data": {
      "text/plain": "            climate change matches  corporate governance matches  ESG matches  \\\nWeekDate                                                                        \n2008-12-29                  1187.0                          36.0         29.0   \n2009-01-05                  1772.0                         123.0         42.0   \n2009-01-12                  2177.0                         115.0         52.0   \n2009-01-19                  2075.0                          91.0         37.0   \n2009-01-26                  2670.0                         111.0         37.0   \n...                            ...                           ...          ...   \n2019-12-02                  2696.0                          38.0         43.0   \n2019-12-09                  2382.0                          60.0         28.0   \n2019-12-16                  1928.0                          31.0         40.0   \n2019-12-23                  1806.0                          17.0         22.0   \n2019-12-30                   470.0                           7.0          0.0   \n\n            social responsibility matches  sustainability matches  \nWeekDate                                                           \n2008-12-29                          731.0                   207.0  \n2009-01-05                         1600.0                   394.0  \n2009-01-12                         2025.0                   563.0  \n2009-01-19                         1930.0                   442.0  \n2009-01-26                         1813.0                   413.0  \n...                                   ...                     ...  \n2019-12-02                          639.0                   425.0  \n2019-12-09                          646.0                   325.0  \n2019-12-16                          701.0                   255.0  \n2019-12-23                          872.0                   263.0  \n2019-12-30                          203.0                    38.0  \n\n[575 rows x 5 columns]",
      "text/html": "<div>\n<style scoped>\n    .dataframe tbody tr th:only-of-type {\n        vertical-align: middle;\n    }\n\n    .dataframe tbody tr th {\n        vertical-align: top;\n    }\n\n    .dataframe thead th {\n        text-align: right;\n    }\n</style>\n<table border=\"1\" class=\"dataframe\">\n  <thead>\n    <tr style=\"text-align: right;\">\n      <th></th>\n      <th>climate change matches</th>\n      <th>corporate governance matches</th>\n      <th>ESG matches</th>\n      <th>social responsibility matches</th>\n      <th>sustainability matches</th>\n    </tr>\n    <tr>\n      <th>WeekDate</th>\n      <th></th>\n      <th></th>\n      <th></th>\n      <th></th>\n      <th></th>\n    </tr>\n  </thead>\n  <tbody>\n    <tr>\n      <th>2008-12-29</th>\n      <td>1187.0</td>\n      <td>36.0</td>\n      <td>29.0</td>\n      <td>731.0</td>\n      <td>207.0</td>\n    </tr>\n    <tr>\n      <th>2009-01-05</th>\n      <td>1772.0</td>\n      <td>123.0</td>\n      <td>42.0</td>\n      <td>1600.0</td>\n      <td>394.0</td>\n    </tr>\n    <tr>\n      <th>2009-01-12</th>\n      <td>2177.0</td>\n      <td>115.0</td>\n      <td>52.0</td>\n      <td>2025.0</td>\n      <td>563.0</td>\n    </tr>\n    <tr>\n      <th>2009-01-19</th>\n      <td>2075.0</td>\n      <td>91.0</td>\n      <td>37.0</td>\n      <td>1930.0</td>\n      <td>442.0</td>\n    </tr>\n    <tr>\n      <th>2009-01-26</th>\n      <td>2670.0</td>\n      <td>111.0</td>\n      <td>37.0</td>\n      <td>1813.0</td>\n      <td>413.0</td>\n    </tr>\n    <tr>\n      <th>...</th>\n      <td>...</td>\n      <td>...</td>\n      <td>...</td>\n      <td>...</td>\n      <td>...</td>\n    </tr>\n    <tr>\n      <th>2019-12-02</th>\n      <td>2696.0</td>\n      <td>38.0</td>\n      <td>43.0</td>\n      <td>639.0</td>\n      <td>425.0</td>\n    </tr>\n    <tr>\n      <th>2019-12-09</th>\n      <td>2382.0</td>\n      <td>60.0</td>\n      <td>28.0</td>\n      <td>646.0</td>\n      <td>325.0</td>\n    </tr>\n    <tr>\n      <th>2019-12-16</th>\n      <td>1928.0</td>\n      <td>31.0</td>\n      <td>40.0</td>\n      <td>701.0</td>\n      <td>255.0</td>\n    </tr>\n    <tr>\n      <th>2019-12-23</th>\n      <td>1806.0</td>\n      <td>17.0</td>\n      <td>22.0</td>\n      <td>872.0</td>\n      <td>263.0</td>\n    </tr>\n    <tr>\n      <th>2019-12-30</th>\n      <td>470.0</td>\n      <td>7.0</td>\n      <td>0.0</td>\n      <td>203.0</td>\n      <td>38.0</td>\n    </tr>\n  </tbody>\n</table>\n<p>575 rows × 5 columns</p>\n</div>"
     },
     "execution_count": 18,
     "metadata": {},
     "output_type": "execute_result"
    }
   ],
   "source": [
    "final_df.groupby('WeekDate').sum()"
   ],
   "metadata": {
    "collapsed": false,
    "pycharm": {
     "name": "#%%\n"
    }
   }
  },
  {
   "cell_type": "code",
   "execution_count": 19,
   "outputs": [],
   "source": [
    "weekly_df = final_df.groupby('WeekDate').sum()\n"
   ],
   "metadata": {
    "collapsed": false,
    "pycharm": {
     "name": "#%%\n"
    }
   }
  },
  {
   "cell_type": "code",
   "execution_count": 20,
   "outputs": [],
   "source": [
    "weekly_df.to_csv('Weekly_newspaper.csv')"
   ],
   "metadata": {
    "collapsed": false,
    "pycharm": {
     "name": "#%%\n"
    }
   }
  },
  {
   "cell_type": "code",
   "execution_count": null,
   "outputs": [],
   "source": [],
   "metadata": {
    "collapsed": false,
    "pycharm": {
     "name": "#%%\n"
    }
   }
  }
 ],
 "metadata": {
  "kernelspec": {
   "name": "python385jvsc74a57bd0f1542c306cb0ca549d86eea72bf10f27023ff55b8cfdccad77c56cbf504d0e3a",
   "language": "python",
   "display_name": "Python 3.8.5 ('base')"
  },
  "language_info": {
   "codemirror_mode": {
    "name": "ipython",
    "version": 2
   },
   "file_extension": ".py",
   "mimetype": "text/x-python",
   "name": "python",
   "nbconvert_exporter": "python",
   "pygments_lexer": "ipython2",
   "version": "2.7.6"
  }
 },
 "nbformat": 4,
 "nbformat_minor": 0
}